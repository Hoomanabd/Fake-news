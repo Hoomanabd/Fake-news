{
 "cells": [
  {
   "cell_type": "markdown",
   "metadata": {},
   "source": [
    "### Scraping Political News on investing.com\n",
    "##### Proceed in several rounds (indicated by R) for optimal use and cleaning"
   ]
  },
  {
   "cell_type": "code",
   "execution_count": null,
   "metadata": {},
   "outputs": [],
   "source": [
    "import pandas as pd\n",
    "\n",
    "from urllib.request import urlopen, Request\n",
    "from bs4 import BeautifulSoup\n",
    "\n",
    "import time\n",
    "\n",
    "from selenium import webdriver\n",
    "from selenium.webdriver.common.keys import Keys\n",
    "\n",
    "%load_ext autoreload\n",
    "%autoreload 2\n",
    "\n",
    "from selenium.webdriver.chrome.options import Options\n",
    "chrome_options = webdriver.ChromeOptions()\n",
    "chrome_options.add_argument('--disable-dev-shm-usage')        \n",
    "chrome_options.add_argument('--no-sandbox')\n",
    "chrome_options.add_argument('disable-infobars')"
   ]
  },
  {
   "cell_type": "code",
   "execution_count": null,
   "metadata": {},
   "outputs": [],
   "source": [
    "from selenium import webdriver\n",
    "from selenium.webdriver.common.by import By\n",
    "from selenium.webdriver.support.ui import WebDriverWait\n",
    "from selenium.webdriver.support import expected_conditions as EC\n",
    "from selenium.webdriver.chrome.service import Service\n",
    "from selenium.webdriver.chrome.options import Options\n",
    "from selenium.common.exceptions import TimeoutException\n",
    "import pandas as pd\n",
    "\n",
    "# Chrome options for headless mode\n",
    "options = Options()\n",
    "options.headless = True \n",
    "\n",
    "browser = webdriver.Chrome(executable_path=r'C:\\Users\\hab021\\Documents\\Driver\\chromedriver121.exe', options=options)\n",
    "\n",
    "url1 = 'https://www.investing.com/news/politics'\n",
    "browser.get(url1)\n",
    "\n",
    "# Data storage\n",
    "data = {\n",
    "    'Headlines': [],\n",
    "    'Dates': [],\n",
    "    'Sources': [],\n",
    "    'URLs': []\n",
    "}\n",
    "\n",
    "# Initialize wait\n",
    "wait = WebDriverWait(browser, 1)\n",
    "\n",
    "# Pages 1-1730\n",
    "no_of_pagedowns = 100\n",
    "\n",
    "while no_of_pagedowns:\n",
    "    try:\n",
    "        # Wait for elements to load and then find them\n",
    "        news_headlines = wait.until(EC.presence_of_all_elements_located((By.CLASS_NAME, \"title\")))     \n",
    "        news_dates = wait.until(EC.presence_of_all_elements_located((By.XPATH, \"//*[@class='date']\")))\n",
    "        news_sources = wait.until(EC.presence_of_all_elements_located((By.XPATH, \"//*[@class='articleDetails']\")))\n",
    "        news_urls = wait.until(EC.presence_of_all_elements_located((By.XPATH, \"//*[@id='leftColumn']//article//div/a\")))\n",
    "        \n",
    "        # Store the data in lists\n",
    "        for headline, date, source, headline in zip(news_headlines, news_dates, news_sources, news_headlines):\n",
    "            data['Headlines'].append(headline.text)\n",
    "            data['Dates'].append(date.text)\n",
    "            data['Sources'].append(source.text)\n",
    "            #data['URLs'].append(url.get_attribute('href'))\n",
    "            data['URLs'].append(headline.get_attribute('href'))\n",
    "\n",
    "        # Check for overlay and attempt to close it before clicking 'Next'\n",
    "        try:\n",
    "            overlay = browser.find_element(By.ID, \"transparentInner\")\n",
    "            if overlay:\n",
    "                # Use JavaScript to ensure the 'Next' button is clicked\n",
    "                next_button = wait.until(EC.element_to_be_clickable((By.LINK_TEXT, 'Next')))\n",
    "                browser.execute_script(\"arguments[0].click();\", next_button)\n",
    "        except TimeoutException:\n",
    "            # If the overlay is not found, proceed with clicking the 'Next' button\n",
    "            next_button = wait.until(EC.element_to_be_clickable((By.LINK_TEXT, 'Next')))\n",
    "            next_button.click()\n",
    "\n",
    "    except Exception as e:\n",
    "        print(f\"An error occurred: {e}\")\n",
    "        break  # Break the loop in case of an error\n",
    "\n",
    "    no_of_pagedowns -= 1\n",
    "\n",
    "# Quit the browser session\n",
    "browser.quit()\n",
    "\n",
    "# Filter out empty strings or strings that only contain whitespace\n",
    "data['Headlines'] = [headline for headline in data['Headlines'] if headline.strip()]\n",
    "data['Dates'] = [date for date in data['Dates'] if date.strip()]\n",
    "data['Sources'] = [source for source in data['Sources'] if source.strip()]\n",
    "data['URLs'] = [url for url in data['URLs'] if url.strip()]"
   ]
  },
  {
   "cell_type": "code",
   "execution_count": null,
   "metadata": {},
   "outputs": [],
   "source": [
    "# Example substrings that we want to remove from the lists- Repeated ads\n",
    "\n",
    "unwanted_headlines_substrings = [\n",
    "    \"2024 Financial Market Outlook by Octa\",\n",
    "    \"Stock Market Today: S&P 500 clinches record high as Meta's mega rally...\",\n",
    "    'Oil posts weekly losses as US data dents hopes for near-term rate cuts',\n",
    "    \"Payrolls, mega-cap tech earnings, Nvidia - what's moving markets\",\n",
    "    \"Stocks attracted $20 billion in inflows in a week to January 31 - BofA\",\n",
    "    \"Apple shares slip after iPhone sales miss estimates amid China...\",\n",
    "    'U.S. economy adds 353,000 jobs in January',\n",
    "     'US stocks rally on blowout jobs report, Meta-led gains in big tech',\n",
    "     'Buy any undue correction in quality AI leaders says UBS',\n",
    "     'Oil falls as US jobs data dents hope for near-term rate cuts',\n",
    "    \"Buy any undue correction in quality AI leaders says UBS\",\n",
    "    \"U.S. economy adds 353,000 jobs in January\",\n",
    "    \"Amazon top Q4 estimates as e-commerce shines, sending shares higher\",\n",
    "    \"'Patek Philippe of Internet': Analysts heap praise on Meta' Platforms...\",\n",
    "    \"Here Are the Winners of The UF AWARDS MEA 2024\",\n",
    "    \"Oil falls as US jobs data dents hope for near-term rate cuts\",\n",
    "    \"FXStarterKit by Forexware: A Solution Built for Global Expansion\",\n",
    "    \"UF Agency: Pioneering Strategic Fintech Marketing for Optimal Reach\",\n",
    "    \"Oil set for weekly loss despite gain on OPEC+ output decision\"\n",
    "]\n",
    "\n",
    "unwanted_dates_substrings = [\n",
    "    ' - Feb 02, 2024'\n",
    "    \n",
    "]\n",
    "\n",
    "unwanted_sources_substrings = [\n",
    "    'By Investing.com Studios',\n",
    "    'By Investing.com - Feb 02, 2024 103',\n",
    "    'By Investing.com - Feb 02, 2024 3',\n",
    "    'By Investing.com - Feb 02, 2024 16',\n",
    "    'By Investing.com - Feb 02, 2024 7',\n",
    "    'By Investing.com - Feb 02, 2024 4',\n",
    "    'By Investing.com - Feb 02, 2024 107',\n",
    "    'By Investing.com - Feb 02, 2024 5',\n",
    "    'By Investing.com - Feb 02, 2024 24', 'By Investing.com - Feb 02, 2024 114',\n",
    "    'By Investing.com - Feb 02, 2024 9',\n",
    "    'By Reuters - Feb 02, 2024 5',\n",
    "    'By Investing.com - Feb 02, 2024 109',\n",
    "    'By Investing.com - Feb 02, 2024 6',\n",
    "    'By Reuters - Feb 02, 2024 4'\n",
    "    \n",
    "]\n",
    "\n",
    "unwanted_urls_substrings = [\n",
    "    'https://www.investing.com/news/economic-indicators/us-economy-adds-353000-jobs-in-january-3291366',\n",
    "    'https://www.investing.com/news/stock-market-news/stock-market-today-sp-500-clinches-record-high-as-metas-mega-rally-fuels-bulls-3290624',\n",
    "     'https://www.investing.com/jp.php?v2=N3czbTViN2xmMG9lM2kxMTdkZj0zMTUxMyRmNDQ-ZSxnIWFoZDxhJ2ZuYH4ybjNpZBdjPGFpNSMyZGc1ZyZnJDdwM201ZDdsZjNvajN2MXA3a2Y_Mzw1PjMkZiU0Pg==',\n",
    "    'https://www.investing.com/jp.php?v2=YyM_YW45Yjk3YWxmYTs1Nz5qNG8zNTQ2MyRgMjsxYiszdT43YzsxdzQ8PCJgPDJoYhE_YDU9MiQ2YG48NXRhImMkP2FuP2I5N2JsaWEkNXQ-YjRtMzw0PzMkYCM7MQ==',\n",
    "    'https://www.investing.com/news/stock-market-news/buy-any-undue-correction-in-quality-ai-leaders-says-ubs-3291589',\n",
    "    'https://www.investing.com/news/stock-market-news/apple-q1-results-top-estimates-but-iphone-sales-fall-just-shy-amid-china-weakness-3290542',\n",
    "    'https://www.investing.com/news/commodities-news/oil-prices-gain-after-opec-maintains-output-cuts-3290687',\n",
    "    'https://www.investing.com/analysis/2-reasons-why-february-may-be-a-difficult-month-on-wall-street-200645728',\n",
    "     'https://www.investing.com/news/economy/payrolls-megacap-tech-earnings-nvidia--whats-moving-markets-3290897',\n",
    "    'https://www.investing.com/jp.php?v2=NnZmODViYzhhNzowMmgxMTdkZT40OzQ3ZXJvPWRubiczdTU8MWllIzY-PiAwbGU_YBNlOj83NSM0YjdlMXBnJDZxZjg1ZGM4YTQ6PzJ3MXA3a2U8NDs0P2Vybyxkbg==',\n",
    "    'https://www.investing.com/jp.php?v2=OXlmOGYxM2gxZz40Zz1hYTVmYzhmZjcyMyRmNDI4NXxjJWFoZz80cmRsPCI1aTVvM0BiPTU9Z3FlMzdlZyZgIzl-ZjhmNzNoMWQ-O2ciYSA1aWM6Zmk3PDMkZiUyOA==',\n",
    "     'https://www.investing.com/jp.php?v2=ZSU3aWYxNW5kMmxmYDoyMDJmNG9jZDQ0YXZkNjE7byYwdmVsYTkzdWVtanRkODFrYhFhPmRsYHY1Y248ZyZlJmUiN2lmNzVuZDFsaWAlMnMybjRtY2w0P2F2ZCcxOw==',\n",
    "    'https://www.investing.com/news/stock-market-news/dow-futures-tick-higher-as-tech-titans-report-nonfarm-payrolls-loom-3290624'\n",
    "    \n",
    "]"
   ]
  },
  {
   "cell_type": "code",
   "execution_count": null,
   "metadata": {},
   "outputs": [],
   "source": [
    "data['Headlines'] = [headline for headline in data['Headlines']\n",
    "                     if not any(unwanted_substring in headline for unwanted_substring in unwanted_headlines_substrings)]"
   ]
  },
  {
   "cell_type": "code",
   "execution_count": null,
   "metadata": {},
   "outputs": [],
   "source": [
    "len(data['Headlines'])"
   ]
  },
  {
   "cell_type": "code",
   "execution_count": null,
   "metadata": {},
   "outputs": [],
   "source": [
    "data['Headlines']"
   ]
  },
  {
   "cell_type": "code",
   "execution_count": null,
   "metadata": {},
   "outputs": [],
   "source": [
    "data['Dates'] = [date for date in data['Dates']\n",
    "                     if not any(unwanted_substring in date for unwanted_substring in unwanted_dates_substrings)]"
   ]
  },
  {
   "cell_type": "code",
   "execution_count": null,
   "metadata": {},
   "outputs": [],
   "source": [
    "len(data['Dates'])"
   ]
  },
  {
   "cell_type": "code",
   "execution_count": null,
   "metadata": {},
   "outputs": [],
   "source": [
    "data['Sources'] = [source for source in data['Sources']\n",
    "                     if not any(unwanted_substring in source for unwanted_substring in unwanted_sources_substrings)]"
   ]
  },
  {
   "cell_type": "code",
   "execution_count": null,
   "metadata": {},
   "outputs": [],
   "source": [
    "len(data['Sources'])"
   ]
  },
  {
   "cell_type": "code",
   "execution_count": null,
   "metadata": {},
   "outputs": [],
   "source": [
    "data['URLs'] = [url for url in data['URLs']\n",
    "                     if not any(unwanted_substring in url for unwanted_substring in unwanted_urls_substrings)]"
   ]
  },
  {
   "cell_type": "code",
   "execution_count": null,
   "metadata": {},
   "outputs": [],
   "source": [
    "# Filter out URLs that end with '#comments'\n",
    "data['URLs'] = [url for url in data['URLs'] if not url.endswith('#comments')]\n",
    "print(f\"Cleaned URLs count: {len(data['URLs'])}\")"
   ]
  },
  {
   "cell_type": "code",
   "execution_count": null,
   "metadata": {},
   "outputs": [],
   "source": [
    "# Define the prefix to filter out\n",
    "unwanted_prefix = 'https://www.investing.com/jp.php?'\n",
    "\n",
    "# Filter the list to exclude URLs starting with the unwanted prefix\n",
    "data['URLs'] = [url for url in data['URLs'] if not url.startswith(unwanted_prefix)]\n",
    "\n",
    "print(f\"Filtered URLs count: {len(data['URLs'])}\")"
   ]
  },
  {
   "cell_type": "code",
   "execution_count": null,
   "metadata": {},
   "outputs": [],
   "source": [
    "# Remove duplicates while preserving order\n",
    "unique_urls = []\n",
    "seen = set()\n",
    "for url in data['URLs']:\n",
    "    if url not in seen:\n",
    "        unique_urls.append(url)\n",
    "        seen.add(url)\n",
    "\n",
    "# Update the data['URLs'] with the list of unique URLs\n",
    "data['URLs'] = unique_urls\n",
    "print(f\"Unique URLs count: {len(data['URLs'])}\")"
   ]
  },
  {
   "cell_type": "code",
   "execution_count": null,
   "metadata": {},
   "outputs": [],
   "source": [
    "df = pd.DataFrame(data)"
   ]
  },
  {
   "cell_type": "code",
   "execution_count": null,
   "metadata": {},
   "outputs": [],
   "source": [
    "df.to_excel('scraped_data1.xlsx', index=False)"
   ]
  },
  {
   "cell_type": "code",
   "execution_count": null,
   "metadata": {},
   "outputs": [],
   "source": []
  },
  {
   "cell_type": "code",
   "execution_count": null,
   "metadata": {},
   "outputs": [],
   "source": [
    "# Chrome options for headless mode \n",
    "options = Options()\n",
    "options.headless = True  \n",
    "\n",
    "browser = webdriver.Chrome(executable_path=r'C:\\Users\\hab021\\Documents\\Driver\\chromedriver121.exe', options=options)\n",
    "\n",
    "url1 = 'https://www.investing.com/news/politics/100'\n",
    "browser.get(url1)\n",
    "\n",
    "# Data storage\n",
    "data = {\n",
    "    'Headlines': [],\n",
    "    'Dates': [],\n",
    "    'Sources': [],\n",
    "    'URLs': []\n",
    "}\n",
    "\n",
    "# Initialize wait\n",
    "wait = WebDriverWait(browser, 1)\n",
    "\n",
    "# Pages 1-1730\n",
    "no_of_pagedowns = 100\n",
    "\n",
    "while no_of_pagedowns:\n",
    "    try:\n",
    "        # Wait for elements to load and then find them\n",
    "        news_headlines = wait.until(EC.presence_of_all_elements_located((By.CLASS_NAME, \"title\")))     \n",
    "        news_dates = wait.until(EC.presence_of_all_elements_located((By.XPATH, \"//*[@class='date']\")))\n",
    "        news_sources = wait.until(EC.presence_of_all_elements_located((By.XPATH, \"//*[@class='articleDetails']\")))\n",
    "        news_urls = wait.until(EC.presence_of_all_elements_located((By.XPATH, \"//*[@id='leftColumn']//article//div/a\")))\n",
    "        \n",
    "        # Store the data in lists\n",
    "        for headline, date, source, headline in zip(news_headlines, news_dates, news_sources, news_headlines):\n",
    "            data['Headlines'].append(headline.text)\n",
    "            data['Dates'].append(date.text)\n",
    "            data['Sources'].append(source.text)\n",
    "            #data['URLs'].append(url.get_attribute('href'))\n",
    "            data['URLs'].append(headline.get_attribute('href'))\n",
    "\n",
    "        # Check for overlay and attempt to close it before clicking 'Next'\n",
    "        try:\n",
    "            overlay = browser.find_element(By.ID, \"transparentInner\")\n",
    "            if overlay:\n",
    "                # use JavaScript to ensure the 'Next' button is clicked\n",
    "                next_button = wait.until(EC.element_to_be_clickable((By.LINK_TEXT, 'Next')))\n",
    "                browser.execute_script(\"arguments[0].click();\", next_button)\n",
    "        except TimeoutException:\n",
    "            # If the overlay is not found, proceed with clicking the 'Next' button\n",
    "            next_button = wait.until(EC.element_to_be_clickable((By.LINK_TEXT, 'Next')))\n",
    "            next_button.click()\n",
    "\n",
    "    except Exception as e:\n",
    "        print(f\"An error occurred: {e}\")\n",
    "        break  # Break the loop in case of an error\n",
    "\n",
    "    no_of_pagedowns -= 1\n",
    "\n",
    "# Quit the browser session\n",
    "browser.quit()\n",
    "\n",
    "# Filter out empty strings or strings that only contain whitespace\n",
    "data['Headlines'] = [headline for headline in data['Headlines'] if headline.strip()]\n",
    "data['Dates'] = [date for date in data['Dates'] if date.strip()]\n",
    "data['Sources'] = [source for source in data['Sources'] if source.strip()]\n",
    "data['URLs'] = [url for url in data['URLs'] if url.strip()]"
   ]
  },
  {
   "cell_type": "code",
   "execution_count": null,
   "metadata": {},
   "outputs": [],
   "source": [
    "# Example substrings that we want to remove from the lists\n",
    "\n",
    "unwanted_headlines_substrings = [\n",
    "    \"2024 Financial Market Outlook by Octa\",\n",
    "    \"Stock Market Today: S&P 500 clinches record high as Meta's mega rally...\",\n",
    "    'Oil posts weekly losses as US data dents hopes for near-term rate cuts',\n",
    "    \"Payrolls, mega-cap tech earnings, Nvidia - what's moving markets\",\n",
    "    \"Stocks attracted $20 billion in inflows in a week to January 31 - BofA\",\n",
    "    \"Apple shares slip after iPhone sales miss estimates amid China...\",\n",
    "    'U.S. economy adds 353,000 jobs in January',\n",
    "     'US stocks rally on blowout jobs report, Meta-led gains in big tech',\n",
    "     'Buy any undue correction in quality AI leaders says UBS',\n",
    "     'Oil falls as US jobs data dents hope for near-term rate cuts',\n",
    "    \"Buy any undue correction in quality AI leaders says UBS\",\n",
    "    \"U.S. economy adds 353,000 jobs in January\",\n",
    "    \"Amazon top Q4 estimates as e-commerce shines, sending shares higher\",\n",
    "    \"'Patek Philippe of Internet': Analysts heap praise on Meta' Platforms...\",\n",
    "    \"Here Are the Winners of The UF AWARDS MEA 2024\",\n",
    "    \"Oil falls as US jobs data dents hope for near-term rate cuts\",\n",
    "    \"FXStarterKit by Forexware: A Solution Built for Global Expansion\",\n",
    "    \"UF Agency: Pioneering Strategic Fintech Marketing for Optimal Reach\",\n",
    "    \"Oil set for weekly loss despite gain on OPEC+ output decision\"\n",
    "]\n",
    "\n",
    "unwanted_dates_substrings = [\n",
    "    ' - Feb 02, 2024'\n",
    "]\n",
    "\n",
    "unwanted_sources_substrings = [\n",
    "    'By Investing.com Studios',\n",
    "    'By Investing.com - Feb 02, 2024 103',\n",
    "    'By Investing.com - Feb 02, 2024 3',\n",
    "    'By Investing.com - Feb 02, 2024 16',\n",
    "    'By Investing.com - Feb 02, 2024 7',\n",
    "    'By Investing.com - Feb 02, 2024 4',\n",
    "    'By Investing.com - Feb 02, 2024 107',\n",
    "    'By Investing.com - Feb 02, 2024 5',\n",
    "    'By Investing.com - Feb 02, 2024 24', 'By Investing.com - Feb 02, 2024 114',\n",
    "    'By Investing.com - Feb 02, 2024 9',\n",
    "    'By Reuters - Feb 02, 2024 5',\n",
    "    'By Investing.com - Feb 02, 2024 109',\n",
    "    'By Investing.com - Feb 02, 2024 6',\n",
    "    'By Reuters - Feb 02, 2024 4'\n",
    "]\n",
    "\n",
    "unwanted_urls_substrings = [\n",
    "    'https://www.investing.com/news/economic-indicators/us-economy-adds-353000-jobs-in-january-3291366',\n",
    "    'https://www.investing.com/news/stock-market-news/stock-market-today-sp-500-clinches-record-high-as-metas-mega-rally-fuels-bulls-3290624',\n",
    "     'https://www.investing.com/jp.php?v2=N3czbTViN2xmMG9lM2kxMTdkZj0zMTUxMyRmNDQ-ZSxnIWFoZDxhJ2ZuYH4ybjNpZBdjPGFpNSMyZGc1ZyZnJDdwM201ZDdsZjNvajN2MXA3a2Y_Mzw1PjMkZiU0Pg==',\n",
    "    'https://www.investing.com/jp.php?v2=YyM_YW45Yjk3YWxmYTs1Nz5qNG8zNTQ2MyRgMjsxYiszdT43YzsxdzQ8PCJgPDJoYhE_YDU9MiQ2YG48NXRhImMkP2FuP2I5N2JsaWEkNXQ-YjRtMzw0PzMkYCM7MQ==',\n",
    "    'https://www.investing.com/news/stock-market-news/buy-any-undue-correction-in-quality-ai-leaders-says-ubs-3291589',\n",
    "    'https://www.investing.com/news/stock-market-news/apple-q1-results-top-estimates-but-iphone-sales-fall-just-shy-amid-china-weakness-3290542',\n",
    "    'https://www.investing.com/news/commodities-news/oil-prices-gain-after-opec-maintains-output-cuts-3290687',\n",
    "    'https://www.investing.com/analysis/2-reasons-why-february-may-be-a-difficult-month-on-wall-street-200645728',\n",
    "     'https://www.investing.com/news/economy/payrolls-megacap-tech-earnings-nvidia--whats-moving-markets-3290897',\n",
    "    'https://www.investing.com/jp.php?v2=NnZmODViYzhhNzowMmgxMTdkZT40OzQ3ZXJvPWRubiczdTU8MWllIzY-PiAwbGU_YBNlOj83NSM0YjdlMXBnJDZxZjg1ZGM4YTQ6PzJ3MXA3a2U8NDs0P2Vybyxkbg==',\n",
    "    'https://www.investing.com/jp.php?v2=OXlmOGYxM2gxZz40Zz1hYTVmYzhmZjcyMyRmNDI4NXxjJWFoZz80cmRsPCI1aTVvM0BiPTU9Z3FlMzdlZyZgIzl-ZjhmNzNoMWQ-O2ciYSA1aWM6Zmk3PDMkZiUyOA==',\n",
    "     'https://www.investing.com/jp.php?v2=ZSU3aWYxNW5kMmxmYDoyMDJmNG9jZDQ0YXZkNjE7byYwdmVsYTkzdWVtanRkODFrYhFhPmRsYHY1Y248ZyZlJmUiN2lmNzVuZDFsaWAlMnMybjRtY2w0P2F2ZCcxOw==',\n",
    "    'https://www.investing.com/news/stock-market-news/dow-futures-tick-higher-as-tech-titans-report-nonfarm-payrolls-loom-3290624'\n",
    "]"
   ]
  },
  {
   "cell_type": "code",
   "execution_count": null,
   "metadata": {},
   "outputs": [],
   "source": [
    "data['Headlines'] = [headline for headline in data['Headlines']\n",
    "                     if not any(unwanted_substring in headline for unwanted_substring in unwanted_headlines_substrings)]"
   ]
  },
  {
   "cell_type": "code",
   "execution_count": null,
   "metadata": {},
   "outputs": [],
   "source": [
    "len(data['Headlines'])"
   ]
  },
  {
   "cell_type": "code",
   "execution_count": null,
   "metadata": {},
   "outputs": [],
   "source": [
    "data['Headlines']"
   ]
  },
  {
   "cell_type": "code",
   "execution_count": null,
   "metadata": {},
   "outputs": [],
   "source": [
    "data['Dates'] = [date for date in data['Dates']\n",
    "                     if not any(unwanted_substring in date for unwanted_substring in unwanted_dates_substrings)]"
   ]
  },
  {
   "cell_type": "code",
   "execution_count": null,
   "metadata": {},
   "outputs": [],
   "source": [
    "len(data['Dates'])"
   ]
  },
  {
   "cell_type": "code",
   "execution_count": null,
   "metadata": {},
   "outputs": [],
   "source": [
    "data['Sources'] = [source for source in data['Sources']\n",
    "                     if not any(unwanted_substring in source for unwanted_substring in unwanted_sources_substrings)]"
   ]
  },
  {
   "cell_type": "code",
   "execution_count": null,
   "metadata": {},
   "outputs": [],
   "source": [
    "len(data['Sources'])"
   ]
  },
  {
   "cell_type": "code",
   "execution_count": null,
   "metadata": {},
   "outputs": [],
   "source": [
    "data['URLs'] = [url for url in data['URLs']\n",
    "                     if not any(unwanted_substring in url for unwanted_substring in unwanted_urls_substrings)]"
   ]
  },
  {
   "cell_type": "code",
   "execution_count": null,
   "metadata": {},
   "outputs": [],
   "source": [
    "# Filter out URLs that end with '#comments'\n",
    "data['URLs'] = [url for url in data['URLs'] if not url.endswith('#comments')]\n",
    "print(f\"Cleaned URLs count: {len(data['URLs'])}\")"
   ]
  },
  {
   "cell_type": "code",
   "execution_count": null,
   "metadata": {},
   "outputs": [],
   "source": [
    "# Define the prefix to filter out\n",
    "unwanted_prefix = 'https://www.investing.com/jp.php?'\n",
    "\n",
    "# Filter the list to exclude URLs starting with the unwanted prefix\n",
    "data['URLs'] = [url for url in data['URLs'] if not url.startswith(unwanted_prefix)]\n",
    "\n",
    "print(f\"Filtered URLs count: {len(data['URLs'])}\")"
   ]
  },
  {
   "cell_type": "code",
   "execution_count": null,
   "metadata": {},
   "outputs": [],
   "source": [
    "# Remove duplicates while preserving order\n",
    "unique_urls = []\n",
    "seen = set()\n",
    "for url in data['URLs']:\n",
    "    if url not in seen:\n",
    "        unique_urls.append(url)\n",
    "        seen.add(url)\n",
    "\n",
    "# Update the data['URLs'] with the list of unique URLs\n",
    "data['URLs'] = unique_urls\n",
    "print(f\"Unique URLs count: {len(data['URLs'])}\")"
   ]
  },
  {
   "cell_type": "code",
   "execution_count": null,
   "metadata": {},
   "outputs": [],
   "source": [
    "df = pd.DataFrame(data)"
   ]
  },
  {
   "cell_type": "code",
   "execution_count": null,
   "metadata": {},
   "outputs": [],
   "source": [
    "df.to_excel('scraped_data2.xlsx', index=False)"
   ]
  },
  {
   "cell_type": "markdown",
   "metadata": {},
   "source": [
    "##### R3"
   ]
  },
  {
   "cell_type": "code",
   "execution_count": null,
   "metadata": {},
   "outputs": [],
   "source": [
    "# Chrome options for headless mode \n",
    "options = Options()\n",
    "options.headless = True  \n",
    "\n",
    "browser = webdriver.Chrome(executable_path=r'C:\\Users\\hab021\\Documents\\Driver\\chromedriver121.exe', options=options)\n",
    "\n",
    "url1 = 'https://www.investing.com/news/politics/200'\n",
    "browser.get(url1)\n",
    "\n",
    "# Data storage\n",
    "data = {\n",
    "    'Headlines': [],\n",
    "    'Dates': [],\n",
    "    'Sources': [],\n",
    "    'URLs': []\n",
    "}\n",
    "\n",
    "# Initialize wait\n",
    "wait = WebDriverWait(browser, 1)\n",
    "\n",
    "# Pages 1-1730\n",
    "no_of_pagedowns = 100\n",
    "\n",
    "while no_of_pagedowns:\n",
    "    try:\n",
    "        # Wait for elements to load and then find them\n",
    "        news_headlines = wait.until(EC.presence_of_all_elements_located((By.CLASS_NAME, \"title\")))     \n",
    "        news_dates = wait.until(EC.presence_of_all_elements_located((By.XPATH, \"//*[@class='date']\")))\n",
    "        news_sources = wait.until(EC.presence_of_all_elements_located((By.XPATH, \"//*[@class='articleDetails']\")))\n",
    "        news_urls = wait.until(EC.presence_of_all_elements_located((By.XPATH, \"//*[@id='leftColumn']//article//div/a\")))\n",
    "        \n",
    "        # Store the data in lists\n",
    "        for headline, date, source, headline in zip(news_headlines, news_dates, news_sources, news_headlines):\n",
    "            data['Headlines'].append(headline.text)\n",
    "            data['Dates'].append(date.text)\n",
    "            data['Sources'].append(source.text)\n",
    "            #data['URLs'].append(url.get_attribute('href'))\n",
    "            data['URLs'].append(headline.get_attribute('href'))\n",
    "\n",
    "        # Check for overlay and attempt to close it before clicking 'Next'\n",
    "        try:\n",
    "            overlay = browser.find_element(By.ID, \"transparentInner\")\n",
    "            if overlay:\n",
    "                # use JavaScript to ensure the 'Next' button is clicked\n",
    "                next_button = wait.until(EC.element_to_be_clickable((By.LINK_TEXT, 'Next')))\n",
    "                browser.execute_script(\"arguments[0].click();\", next_button)\n",
    "        except TimeoutException:\n",
    "            # If the overlay is not found, proceed with clicking the 'Next' button\n",
    "            next_button = wait.until(EC.element_to_be_clickable((By.LINK_TEXT, 'Next')))\n",
    "            next_button.click()\n",
    "\n",
    "    except Exception as e:\n",
    "        print(f\"An error occurred: {e}\")\n",
    "        break  # Break the loop in case of an error\n",
    "\n",
    "    no_of_pagedowns -= 1\n",
    "\n",
    "# Quit the browser session\n",
    "browser.quit()\n",
    "\n",
    "# Filter out empty strings or strings that only contain whitespace\n",
    "data['Headlines'] = [headline for headline in data['Headlines'] if headline.strip()]\n",
    "data['Dates'] = [date for date in data['Dates'] if date.strip()]\n",
    "data['Sources'] = [source for source in data['Sources'] if source.strip()]\n",
    "data['URLs'] = [url for url in data['URLs'] if url.strip()]"
   ]
  },
  {
   "cell_type": "code",
   "execution_count": null,
   "metadata": {},
   "outputs": [],
   "source": [
    "# Example substrings that we want to remove from the lists\n",
    "\n",
    "unwanted_headlines_substrings = [\n",
    "    \"2024 Financial Market Outlook by Octa\",\n",
    "    \"Stock Market Today: S&P 500 clinches record high as Meta's mega rally...\",\n",
    "    'Oil posts weekly losses as US data dents hopes for near-term rate cuts',\n",
    "    \"Payrolls, mega-cap tech earnings, Nvidia - what's moving markets\",\n",
    "    \"Stocks attracted $20 billion in inflows in a week to January 31 - BofA\",\n",
    "    \"Apple shares slip after iPhone sales miss estimates amid China...\",\n",
    "    'U.S. economy adds 353,000 jobs in January',\n",
    "     'US stocks rally on blowout jobs report, Meta-led gains in big tech',\n",
    "     'Buy any undue correction in quality AI leaders says UBS',\n",
    "     'Oil falls as US jobs data dents hope for near-term rate cuts',\n",
    "    \"Buy any undue correction in quality AI leaders says UBS\",\n",
    "    \"U.S. economy adds 353,000 jobs in January\",\n",
    "    \"Amazon top Q4 estimates as e-commerce shines, sending shares higher\",\n",
    "    \"'Patek Philippe of Internet': Analysts heap praise on Meta' Platforms...\",\n",
    "    \"Here Are the Winners of The UF AWARDS MEA 2024\",\n",
    "    \"Oil falls as US jobs data dents hope for near-term rate cuts\",\n",
    "    \"FXStarterKit by Forexware: A Solution Built for Global Expansion\",\n",
    "    \"UF Agency: Pioneering Strategic Fintech Marketing for Optimal Reach\",\n",
    "    \"Oil set for weekly loss despite gain on OPEC+ output decision\"\n",
    "]\n",
    "\n",
    "unwanted_dates_substrings = [\n",
    "    ' - Feb 02, 2024'\n",
    "]\n",
    "\n",
    "unwanted_sources_substrings = [\n",
    "    'By Investing.com Studios',\n",
    "    'By Investing.com - Feb 02, 2024 103',\n",
    "    'By Investing.com - Feb 02, 2024 3',\n",
    "    'By Investing.com - Feb 02, 2024 16',\n",
    "    'By Investing.com - Feb 02, 2024 7',\n",
    "    'By Investing.com - Feb 02, 2024 4',\n",
    "    'By Investing.com - Feb 02, 2024 107',\n",
    "    'By Investing.com - Feb 02, 2024 5',\n",
    "    'By Investing.com - Feb 02, 2024 24', 'By Investing.com - Feb 02, 2024 114',\n",
    "    'By Investing.com - Feb 02, 2024 9',\n",
    "    'By Reuters - Feb 02, 2024 5',\n",
    "    'By Investing.com - Feb 02, 2024 109',\n",
    "    'By Investing.com - Feb 02, 2024 6',\n",
    "    'By Reuters - Feb 02, 2024 4'\n",
    "]\n",
    "\n",
    "unwanted_urls_substrings = [\n",
    "    'https://www.investing.com/news/economic-indicators/us-economy-adds-353000-jobs-in-january-3291366',\n",
    "    'https://www.investing.com/news/stock-market-news/stock-market-today-sp-500-clinches-record-high-as-metas-mega-rally-fuels-bulls-3290624',\n",
    "     'https://www.investing.com/jp.php?v2=N3czbTViN2xmMG9lM2kxMTdkZj0zMTUxMyRmNDQ-ZSxnIWFoZDxhJ2ZuYH4ybjNpZBdjPGFpNSMyZGc1ZyZnJDdwM201ZDdsZjNvajN2MXA3a2Y_Mzw1PjMkZiU0Pg==',\n",
    "    'https://www.investing.com/jp.php?v2=YyM_YW45Yjk3YWxmYTs1Nz5qNG8zNTQ2MyRgMjsxYiszdT43YzsxdzQ8PCJgPDJoYhE_YDU9MiQ2YG48NXRhImMkP2FuP2I5N2JsaWEkNXQ-YjRtMzw0PzMkYCM7MQ==',\n",
    "    'https://www.investing.com/news/stock-market-news/buy-any-undue-correction-in-quality-ai-leaders-says-ubs-3291589',\n",
    "    'https://www.investing.com/news/stock-market-news/apple-q1-results-top-estimates-but-iphone-sales-fall-just-shy-amid-china-weakness-3290542',\n",
    "    'https://www.investing.com/news/commodities-news/oil-prices-gain-after-opec-maintains-output-cuts-3290687',\n",
    "    'https://www.investing.com/analysis/2-reasons-why-february-may-be-a-difficult-month-on-wall-street-200645728',\n",
    "     'https://www.investing.com/news/economy/payrolls-megacap-tech-earnings-nvidia--whats-moving-markets-3290897',\n",
    "    'https://www.investing.com/jp.php?v2=NnZmODViYzhhNzowMmgxMTdkZT40OzQ3ZXJvPWRubiczdTU8MWllIzY-PiAwbGU_YBNlOj83NSM0YjdlMXBnJDZxZjg1ZGM4YTQ6PzJ3MXA3a2U8NDs0P2Vybyxkbg==',\n",
    "    'https://www.investing.com/jp.php?v2=OXlmOGYxM2gxZz40Zz1hYTVmYzhmZjcyMyRmNDI4NXxjJWFoZz80cmRsPCI1aTVvM0BiPTU9Z3FlMzdlZyZgIzl-ZjhmNzNoMWQ-O2ciYSA1aWM6Zmk3PDMkZiUyOA==',\n",
    "     'https://www.investing.com/jp.php?v2=ZSU3aWYxNW5kMmxmYDoyMDJmNG9jZDQ0YXZkNjE7byYwdmVsYTkzdWVtanRkODFrYhFhPmRsYHY1Y248ZyZlJmUiN2lmNzVuZDFsaWAlMnMybjRtY2w0P2F2ZCcxOw==',\n",
    "    'https://www.investing.com/news/stock-market-news/dow-futures-tick-higher-as-tech-titans-report-nonfarm-payrolls-loom-3290624'\n",
    "]"
   ]
  },
  {
   "cell_type": "code",
   "execution_count": null,
   "metadata": {},
   "outputs": [],
   "source": [
    "data['Headlines'] = [headline for headline in data['Headlines']\n",
    "                     if not any(unwanted_substring in headline for unwanted_substring in unwanted_headlines_substrings)]"
   ]
  },
  {
   "cell_type": "code",
   "execution_count": null,
   "metadata": {},
   "outputs": [],
   "source": [
    "len(data['Headlines'])"
   ]
  },
  {
   "cell_type": "code",
   "execution_count": null,
   "metadata": {},
   "outputs": [],
   "source": [
    "data['Headlines']"
   ]
  },
  {
   "cell_type": "code",
   "execution_count": null,
   "metadata": {},
   "outputs": [],
   "source": [
    "data['Dates'] = [date for date in data['Dates']\n",
    "                     if not any(unwanted_substring in date for unwanted_substring in unwanted_dates_substrings)]"
   ]
  },
  {
   "cell_type": "code",
   "execution_count": null,
   "metadata": {},
   "outputs": [],
   "source": [
    "len(data['Dates'])"
   ]
  },
  {
   "cell_type": "code",
   "execution_count": null,
   "metadata": {},
   "outputs": [],
   "source": [
    "data['Sources'] = [source for source in data['Sources']\n",
    "                     if not any(unwanted_substring in source for unwanted_substring in unwanted_sources_substrings)]"
   ]
  },
  {
   "cell_type": "code",
   "execution_count": null,
   "metadata": {},
   "outputs": [],
   "source": [
    "len(data['Sources'])"
   ]
  },
  {
   "cell_type": "code",
   "execution_count": null,
   "metadata": {},
   "outputs": [],
   "source": [
    "data['URLs'] = [url for url in data['URLs']\n",
    "                     if not any(unwanted_substring in url for unwanted_substring in unwanted_urls_substrings)]"
   ]
  },
  {
   "cell_type": "code",
   "execution_count": null,
   "metadata": {},
   "outputs": [],
   "source": [
    "# Filter out URLs that end with '#comments'\n",
    "data['URLs'] = [url for url in data['URLs'] if not url.endswith('#comments')]\n",
    "print(f\"Cleaned URLs count: {len(data['URLs'])}\")"
   ]
  },
  {
   "cell_type": "code",
   "execution_count": null,
   "metadata": {},
   "outputs": [],
   "source": [
    "# Define the prefix to filter out\n",
    "unwanted_prefix = 'https://www.investing.com/jp.php?'\n",
    "\n",
    "# Filter the list to exclude URLs starting with the unwanted prefix\n",
    "data['URLs'] = [url for url in data['URLs'] if not url.startswith(unwanted_prefix)]\n",
    "\n",
    "print(f\"Filtered URLs count: {len(data['URLs'])}\")"
   ]
  },
  {
   "cell_type": "code",
   "execution_count": null,
   "metadata": {},
   "outputs": [],
   "source": [
    "# Remove duplicates while preserving order\n",
    "unique_urls = []\n",
    "seen = set()\n",
    "for url in data['URLs']:\n",
    "    if url not in seen:\n",
    "        unique_urls.append(url)\n",
    "        seen.add(url)\n",
    "\n",
    "# Update the data['URLs'] with the list of unique URLs\n",
    "data['URLs'] = unique_urls\n",
    "print(f\"Unique URLs count: {len(data['URLs'])}\")"
   ]
  },
  {
   "cell_type": "code",
   "execution_count": null,
   "metadata": {},
   "outputs": [],
   "source": [
    "df = pd.DataFrame(data)"
   ]
  },
  {
   "cell_type": "code",
   "execution_count": null,
   "metadata": {},
   "outputs": [],
   "source": [
    "df.to_excel('scraped_data3.xlsx', index=False)"
   ]
  },
  {
   "cell_type": "markdown",
   "metadata": {},
   "source": [
    "##### R4"
   ]
  },
  {
   "cell_type": "code",
   "execution_count": null,
   "metadata": {},
   "outputs": [],
   "source": [
    "# Chrome options for headless mode\n",
    "options = Options()\n",
    "options.headless = True  \n",
    "\n",
    "browser = webdriver.Chrome(executable_path=r'C:\\Users\\hab021\\Documents\\Driver\\chromedriver121.exe', options=options)\n",
    "\n",
    "url1 = 'https://www.investing.com/news/politics/300'\n",
    "browser.get(url1)\n",
    "\n",
    "data = {\n",
    "    'Headlines': [],\n",
    "    'Dates': [],\n",
    "    'Sources': [],\n",
    "    'URLs': []\n",
    "}\n",
    "\n",
    "wait = WebDriverWait(browser, 1)\n",
    "\n",
    "# Pages 1-1730\n",
    "no_of_pagedowns = 100\n",
    "\n",
    "while no_of_pagedowns:\n",
    "    try:\n",
    "        # Wait for elements to load and then find them\n",
    "        news_headlines = wait.until(EC.presence_of_all_elements_located((By.CLASS_NAME, \"title\")))     \n",
    "        news_dates = wait.until(EC.presence_of_all_elements_located((By.XPATH, \"//*[@class='date']\")))\n",
    "        news_sources = wait.until(EC.presence_of_all_elements_located((By.XPATH, \"//*[@class='articleDetails']\")))\n",
    "        news_urls = wait.until(EC.presence_of_all_elements_located((By.XPATH, \"//*[@id='leftColumn']//article//div/a\")))\n",
    "        \n",
    "        # Store the data in lists\n",
    "        for headline, date, source, headline in zip(news_headlines, news_dates, news_sources, news_headlines):\n",
    "            data['Headlines'].append(headline.text)\n",
    "            data['Dates'].append(date.text)\n",
    "            data['Sources'].append(source.text)\n",
    "            #data['URLs'].append(url.get_attribute('href'))\n",
    "            data['URLs'].append(headline.get_attribute('href'))\n",
    "\n",
    "        # Check for overlay and attempt to close it before clicking 'Next'\n",
    "        try:\n",
    "            overlay = browser.find_element(By.ID, \"transparentInner\")\n",
    "            if overlay:\n",
    "                # use JavaScript to ensure the 'Next' button is clicked\n",
    "                next_button = wait.until(EC.element_to_be_clickable((By.LINK_TEXT, 'Next')))\n",
    "                browser.execute_script(\"arguments[0].click();\", next_button)\n",
    "        except TimeoutException:\n",
    "            # If the overlay is not found, proceed with clicking the 'Next' button\n",
    "            next_button = wait.until(EC.element_to_be_clickable((By.LINK_TEXT, 'Next')))\n",
    "            next_button.click()\n",
    "\n",
    "    except Exception as e:\n",
    "        print(f\"An error occurred: {e}\")\n",
    "        break  # Break the loop in case of an error\n",
    "\n",
    "    no_of_pagedowns -= 1\n",
    "\n",
    "# Quit the browser session\n",
    "browser.quit()\n",
    "\n",
    "# Filter out empty strings or strings that only contain whitespace\n",
    "data['Headlines'] = [headline for headline in data['Headlines'] if headline.strip()]\n",
    "data['Dates'] = [date for date in data['Dates'] if date.strip()]\n",
    "data['Sources'] = [source for source in data['Sources'] if source.strip()]\n",
    "data['URLs'] = [url for url in data['URLs'] if url.strip()]"
   ]
  },
  {
   "cell_type": "code",
   "execution_count": null,
   "metadata": {},
   "outputs": [],
   "source": [
    "# Example substrings that we want to remove from the lists\n",
    "\n",
    "unwanted_headlines_substrings = [\n",
    "    \"2024 Financial Market Outlook by Octa\",\n",
    "    \"Stock Market Today: S&P 500 clinches record high as Meta's mega rally...\",\n",
    "    'Oil posts weekly losses as US data dents hopes for near-term rate cuts',\n",
    "    \"Payrolls, mega-cap tech earnings, Nvidia - what's moving markets\",\n",
    "    \"Stocks attracted $20 billion in inflows in a week to January 31 - BofA\",\n",
    "    \"Apple shares slip after iPhone sales miss estimates amid China...\",\n",
    "    'U.S. economy adds 353,000 jobs in January',\n",
    "     'US stocks rally on blowout jobs report, Meta-led gains in big tech',\n",
    "     'Buy any undue correction in quality AI leaders says UBS',\n",
    "     'Oil falls as US jobs data dents hope for near-term rate cuts',\n",
    "    \"Buy any undue correction in quality AI leaders says UBS\",\n",
    "    \"U.S. economy adds 353,000 jobs in January\",\n",
    "    \"Amazon top Q4 estimates as e-commerce shines, sending shares higher\",\n",
    "    \"'Patek Philippe of Internet': Analysts heap praise on Meta' Platforms...\",\n",
    "    \"Here Are the Winners of The UF AWARDS MEA 2024\",\n",
    "    \"Oil falls as US jobs data dents hope for near-term rate cuts\",\n",
    "    \"FXStarterKit by Forexware: A Solution Built for Global Expansion\",\n",
    "    \"UF Agency: Pioneering Strategic Fintech Marketing for Optimal Reach\",\n",
    "    \"Oil set for weekly loss despite gain on OPEC+ output decision\"\n",
    "]\n",
    "\n",
    "unwanted_dates_substrings = [\n",
    "    ' - Feb 02, 2024'\n",
    "]\n",
    "\n",
    "unwanted_sources_substrings = [\n",
    "    'By Investing.com Studios',\n",
    "    'By Investing.com - Feb 02, 2024 103',\n",
    "    'By Investing.com - Feb 02, 2024 3',\n",
    "    'By Investing.com - Feb 02, 2024 16',\n",
    "    'By Investing.com - Feb 02, 2024 7',\n",
    "    'By Investing.com - Feb 02, 2024 4',\n",
    "    'By Investing.com - Feb 02, 2024 107',\n",
    "    'By Investing.com - Feb 02, 2024 5',\n",
    "    'By Investing.com - Feb 02, 2024 24', 'By Investing.com - Feb 02, 2024 114',\n",
    "    'By Investing.com - Feb 02, 2024 9',\n",
    "    'By Reuters - Feb 02, 2024 5',\n",
    "    'By Investing.com - Feb 02, 2024 109',\n",
    "    'By Investing.com - Feb 02, 2024 6',\n",
    "    'By Reuters - Feb 02, 2024 4'\n",
    "]\n",
    "\n",
    "unwanted_urls_substrings = [\n",
    "    'https://www.investing.com/news/economic-indicators/us-economy-adds-353000-jobs-in-january-3291366',\n",
    "    'https://www.investing.com/news/stock-market-news/stock-market-today-sp-500-clinches-record-high-as-metas-mega-rally-fuels-bulls-3290624',\n",
    "     'https://www.investing.com/jp.php?v2=N3czbTViN2xmMG9lM2kxMTdkZj0zMTUxMyRmNDQ-ZSxnIWFoZDxhJ2ZuYH4ybjNpZBdjPGFpNSMyZGc1ZyZnJDdwM201ZDdsZjNvajN2MXA3a2Y_Mzw1PjMkZiU0Pg==',\n",
    "    'https://www.investing.com/jp.php?v2=YyM_YW45Yjk3YWxmYTs1Nz5qNG8zNTQ2MyRgMjsxYiszdT43YzsxdzQ8PCJgPDJoYhE_YDU9MiQ2YG48NXRhImMkP2FuP2I5N2JsaWEkNXQ-YjRtMzw0PzMkYCM7MQ==',\n",
    "    'https://www.investing.com/news/stock-market-news/buy-any-undue-correction-in-quality-ai-leaders-says-ubs-3291589',\n",
    "    'https://www.investing.com/news/stock-market-news/apple-q1-results-top-estimates-but-iphone-sales-fall-just-shy-amid-china-weakness-3290542',\n",
    "    'https://www.investing.com/news/commodities-news/oil-prices-gain-after-opec-maintains-output-cuts-3290687',\n",
    "    'https://www.investing.com/analysis/2-reasons-why-february-may-be-a-difficult-month-on-wall-street-200645728',\n",
    "     'https://www.investing.com/news/economy/payrolls-megacap-tech-earnings-nvidia--whats-moving-markets-3290897',\n",
    "    'https://www.investing.com/jp.php?v2=NnZmODViYzhhNzowMmgxMTdkZT40OzQ3ZXJvPWRubiczdTU8MWllIzY-PiAwbGU_YBNlOj83NSM0YjdlMXBnJDZxZjg1ZGM4YTQ6PzJ3MXA3a2U8NDs0P2Vybyxkbg==',\n",
    "    'https://www.investing.com/jp.php?v2=OXlmOGYxM2gxZz40Zz1hYTVmYzhmZjcyMyRmNDI4NXxjJWFoZz80cmRsPCI1aTVvM0BiPTU9Z3FlMzdlZyZgIzl-ZjhmNzNoMWQ-O2ciYSA1aWM6Zmk3PDMkZiUyOA==',\n",
    "     'https://www.investing.com/jp.php?v2=ZSU3aWYxNW5kMmxmYDoyMDJmNG9jZDQ0YXZkNjE7byYwdmVsYTkzdWVtanRkODFrYhFhPmRsYHY1Y248ZyZlJmUiN2lmNzVuZDFsaWAlMnMybjRtY2w0P2F2ZCcxOw==',\n",
    "    'https://www.investing.com/news/stock-market-news/dow-futures-tick-higher-as-tech-titans-report-nonfarm-payrolls-loom-3290624'\n",
    "]"
   ]
  },
  {
   "cell_type": "code",
   "execution_count": null,
   "metadata": {},
   "outputs": [],
   "source": [
    "data['Headlines'] = [headline for headline in data['Headlines']\n",
    "                     if not any(unwanted_substring in headline for unwanted_substring in unwanted_headlines_substrings)]"
   ]
  },
  {
   "cell_type": "code",
   "execution_count": null,
   "metadata": {},
   "outputs": [],
   "source": [
    "len(data['Headlines'])"
   ]
  },
  {
   "cell_type": "code",
   "execution_count": null,
   "metadata": {},
   "outputs": [],
   "source": [
    "data['Dates'] = [date for date in data['Dates']\n",
    "                     if not any(unwanted_substring in date for unwanted_substring in unwanted_dates_substrings)]"
   ]
  },
  {
   "cell_type": "code",
   "execution_count": null,
   "metadata": {},
   "outputs": [],
   "source": [
    "len(data['Dates'])"
   ]
  },
  {
   "cell_type": "code",
   "execution_count": null,
   "metadata": {},
   "outputs": [],
   "source": [
    "data['Sources'] = [source for source in data['Sources']\n",
    "                     if not any(unwanted_substring in source for unwanted_substring in unwanted_sources_substrings)]"
   ]
  },
  {
   "cell_type": "code",
   "execution_count": null,
   "metadata": {},
   "outputs": [],
   "source": [
    "len(data['Sources'])"
   ]
  },
  {
   "cell_type": "code",
   "execution_count": null,
   "metadata": {},
   "outputs": [],
   "source": [
    "data['URLs'] = [url for url in data['URLs']\n",
    "                     if not any(unwanted_substring in url for unwanted_substring in unwanted_urls_substrings)]"
   ]
  },
  {
   "cell_type": "code",
   "execution_count": null,
   "metadata": {},
   "outputs": [],
   "source": [
    "# Filter out URLs that end with '#comments'\n",
    "data['URLs'] = [url for url in data['URLs'] if not url.endswith('#comments')]\n",
    "print(f\"Cleaned URLs count: {len(data['URLs'])}\")"
   ]
  },
  {
   "cell_type": "code",
   "execution_count": null,
   "metadata": {},
   "outputs": [],
   "source": [
    "# Define the prefix to filter out\n",
    "unwanted_prefix = 'https://www.investing.com/jp.php?'\n",
    "\n",
    "# Filter the list to exclude URLs starting with the unwanted prefix\n",
    "data['URLs'] = [url for url in data['URLs'] if not url.startswith(unwanted_prefix)]\n",
    "\n",
    "print(f\"Filtered URLs count: {len(data['URLs'])}\")"
   ]
  },
  {
   "cell_type": "code",
   "execution_count": null,
   "metadata": {},
   "outputs": [],
   "source": [
    "# Remove duplicates while preserving order\n",
    "unique_urls = []\n",
    "seen = set()\n",
    "for url in data['URLs']:\n",
    "    if url not in seen:\n",
    "        unique_urls.append(url)\n",
    "        seen.add(url)\n",
    "\n",
    "# Update the data['URLs'] with the list of unique URLs\n",
    "data['URLs'] = unique_urls\n",
    "print(f\"Unique URLs count: {len(data['URLs'])}\")"
   ]
  },
  {
   "cell_type": "code",
   "execution_count": null,
   "metadata": {},
   "outputs": [],
   "source": [
    "df = pd.DataFrame(data)"
   ]
  },
  {
   "cell_type": "code",
   "execution_count": null,
   "metadata": {},
   "outputs": [],
   "source": [
    "df.to_excel('scraped_data4.xlsx', index=False)"
   ]
  },
  {
   "cell_type": "markdown",
   "metadata": {},
   "source": [
    "##### R5"
   ]
  },
  {
   "cell_type": "code",
   "execution_count": null,
   "metadata": {},
   "outputs": [],
   "source": [
    "# Chrome options for headless mode \n",
    "options = Options()\n",
    "options.headless = True  \n",
    "\n",
    "browser = webdriver.Chrome(executable_path=r'C:\\Users\\hab021\\Documents\\Driver\\chromedriver121.exe', options=options)\n",
    "\n",
    "url1 = 'https://www.investing.com/news/politics/400'\n",
    "browser.get(url1)\n",
    "\n",
    "# Data storage\n",
    "data = {\n",
    "    'Headlines': [],\n",
    "    'Dates': [],\n",
    "    'Sources': [],\n",
    "    'URLs': []\n",
    "}\n",
    "\n",
    "wait = WebDriverWait(browser, 1)\n",
    "\n",
    "# Pages 1-1730\n",
    "no_of_pagedowns = 100\n",
    "\n",
    "while no_of_pagedowns:\n",
    "    try:\n",
    "        # Wait for elements to load and then find them\n",
    "        news_headlines = wait.until(EC.presence_of_all_elements_located((By.CLASS_NAME, \"title\")))     \n",
    "        news_dates = wait.until(EC.presence_of_all_elements_located((By.XPATH, \"//*[@class='date']\")))\n",
    "        news_sources = wait.until(EC.presence_of_all_elements_located((By.XPATH, \"//*[@class='articleDetails']\")))\n",
    "        news_urls = wait.until(EC.presence_of_all_elements_located((By.XPATH, \"//*[@id='leftColumn']//article//div/a\")))\n",
    "        \n",
    "        # Store the data in lists\n",
    "        for headline, date, source, headline in zip(news_headlines, news_dates, news_sources, news_headlines):\n",
    "            data['Headlines'].append(headline.text)\n",
    "            data['Dates'].append(date.text)\n",
    "            data['Sources'].append(source.text)\n",
    "            #data['URLs'].append(url.get_attribute('href'))\n",
    "            data['URLs'].append(headline.get_attribute('href'))\n",
    "\n",
    "        # Check for overlay and attempt to close it before clicking 'Next'\n",
    "        try:\n",
    "            overlay = browser.find_element(By.ID, \"transparentInner\")\n",
    "            if overlay:\n",
    "                # use JavaScript to ensure the 'Next' button is clicked\n",
    "                next_button = wait.until(EC.element_to_be_clickable((By.LINK_TEXT, 'Next')))\n",
    "                browser.execute_script(\"arguments[0].click();\", next_button)\n",
    "        except TimeoutException:\n",
    "            # If the overlay is not found, proceed with clicking the 'Next' button\n",
    "            next_button = wait.until(EC.element_to_be_clickable((By.LINK_TEXT, 'Next')))\n",
    "            next_button.click()\n",
    "\n",
    "    except Exception as e:\n",
    "        print(f\"An error occurred: {e}\")\n",
    "        break  # Break the loop in case of an error\n",
    "\n",
    "    no_of_pagedowns -= 1\n",
    "\n",
    "# Quit the browser session\n",
    "browser.quit()\n",
    "\n",
    "# Filter out empty strings or strings that only contain whitespace\n",
    "data['Headlines'] = [headline for headline in data['Headlines'] if headline.strip()]\n",
    "data['Dates'] = [date for date in data['Dates'] if date.strip()]\n",
    "data['Sources'] = [source for source in data['Sources'] if source.strip()]\n",
    "data['URLs'] = [url for url in data['URLs'] if url.strip()]"
   ]
  },
  {
   "cell_type": "code",
   "execution_count": null,
   "metadata": {},
   "outputs": [],
   "source": [
    "# Example substrings that we want to remove from the lists\n",
    "\n",
    "unwanted_headlines_substrings = [\n",
    "    \"2024 Financial Market Outlook by Octa\",\n",
    "    \"Stock Market Today: S&P 500 clinches record high as Meta's mega rally...\",\n",
    "    'Oil posts weekly losses as US data dents hopes for near-term rate cuts',\n",
    "    \"Payrolls, mega-cap tech earnings, Nvidia - what's moving markets\",\n",
    "    \"Stocks attracted $20 billion in inflows in a week to January 31 - BofA\",\n",
    "    \"Apple shares slip after iPhone sales miss estimates amid China...\",\n",
    "    'U.S. economy adds 353,000 jobs in January',\n",
    "     'US stocks rally on blowout jobs report, Meta-led gains in big tech',\n",
    "     'Buy any undue correction in quality AI leaders says UBS',\n",
    "     'Oil falls as US jobs data dents hope for near-term rate cuts',\n",
    "    \"Buy any undue correction in quality AI leaders says UBS\",\n",
    "    \"U.S. economy adds 353,000 jobs in January\",\n",
    "    \"Amazon top Q4 estimates as e-commerce shines, sending shares higher\",\n",
    "    \"'Patek Philippe of Internet': Analysts heap praise on Meta' Platforms...\",\n",
    "    \"Here Are the Winners of The UF AWARDS MEA 2024\",\n",
    "    \"Oil falls as US jobs data dents hope for near-term rate cuts\",\n",
    "    \"FXStarterKit by Forexware: A Solution Built for Global Expansion\",\n",
    "    \"UF Agency: Pioneering Strategic Fintech Marketing for Optimal Reach\",\n",
    "    \"Oil set for weekly loss despite gain on OPEC+ output decision\"\n",
    "]\n",
    "\n",
    "unwanted_dates_substrings = [\n",
    "    ' - Feb 02, 2024'\n",
    "]\n",
    "\n",
    "unwanted_sources_substrings = [\n",
    "    'By Investing.com Studios',\n",
    "    'By Investing.com - Feb 02, 2024 103',\n",
    "    'By Investing.com - Feb 02, 2024 3',\n",
    "    'By Investing.com - Feb 02, 2024 16',\n",
    "    'By Investing.com - Feb 02, 2024 7',\n",
    "    'By Investing.com - Feb 02, 2024 4',\n",
    "    'By Investing.com - Feb 02, 2024 107',\n",
    "    'By Investing.com - Feb 02, 2024 5',\n",
    "    'By Investing.com - Feb 02, 2024 24', 'By Investing.com - Feb 02, 2024 114',\n",
    "    'By Investing.com - Feb 02, 2024 9',\n",
    "    'By Reuters - Feb 02, 2024 5',\n",
    "    'By Investing.com - Feb 02, 2024 109',\n",
    "    'By Investing.com - Feb 02, 2024 6',\n",
    "    'By Reuters - Feb 02, 2024 4'\n",
    "]\n",
    "\n",
    "unwanted_urls_substrings = [\n",
    "    'https://www.investing.com/news/economic-indicators/us-economy-adds-353000-jobs-in-january-3291366',\n",
    "    'https://www.investing.com/news/stock-market-news/stock-market-today-sp-500-clinches-record-high-as-metas-mega-rally-fuels-bulls-3290624',\n",
    "     'https://www.investing.com/jp.php?v2=N3czbTViN2xmMG9lM2kxMTdkZj0zMTUxMyRmNDQ-ZSxnIWFoZDxhJ2ZuYH4ybjNpZBdjPGFpNSMyZGc1ZyZnJDdwM201ZDdsZjNvajN2MXA3a2Y_Mzw1PjMkZiU0Pg==',\n",
    "    'https://www.investing.com/jp.php?v2=YyM_YW45Yjk3YWxmYTs1Nz5qNG8zNTQ2MyRgMjsxYiszdT43YzsxdzQ8PCJgPDJoYhE_YDU9MiQ2YG48NXRhImMkP2FuP2I5N2JsaWEkNXQ-YjRtMzw0PzMkYCM7MQ==',\n",
    "    'https://www.investing.com/news/stock-market-news/buy-any-undue-correction-in-quality-ai-leaders-says-ubs-3291589',\n",
    "    'https://www.investing.com/news/stock-market-news/apple-q1-results-top-estimates-but-iphone-sales-fall-just-shy-amid-china-weakness-3290542',\n",
    "    'https://www.investing.com/news/commodities-news/oil-prices-gain-after-opec-maintains-output-cuts-3290687',\n",
    "    'https://www.investing.com/analysis/2-reasons-why-february-may-be-a-difficult-month-on-wall-street-200645728',\n",
    "     'https://www.investing.com/news/economy/payrolls-megacap-tech-earnings-nvidia--whats-moving-markets-3290897',\n",
    "    'https://www.investing.com/jp.php?v2=NnZmODViYzhhNzowMmgxMTdkZT40OzQ3ZXJvPWRubiczdTU8MWllIzY-PiAwbGU_YBNlOj83NSM0YjdlMXBnJDZxZjg1ZGM4YTQ6PzJ3MXA3a2U8NDs0P2Vybyxkbg==',\n",
    "    'https://www.investing.com/jp.php?v2=OXlmOGYxM2gxZz40Zz1hYTVmYzhmZjcyMyRmNDI4NXxjJWFoZz80cmRsPCI1aTVvM0BiPTU9Z3FlMzdlZyZgIzl-ZjhmNzNoMWQ-O2ciYSA1aWM6Zmk3PDMkZiUyOA==',\n",
    "     'https://www.investing.com/jp.php?v2=ZSU3aWYxNW5kMmxmYDoyMDJmNG9jZDQ0YXZkNjE7byYwdmVsYTkzdWVtanRkODFrYhFhPmRsYHY1Y248ZyZlJmUiN2lmNzVuZDFsaWAlMnMybjRtY2w0P2F2ZCcxOw==',\n",
    "    'https://www.investing.com/news/stock-market-news/dow-futures-tick-higher-as-tech-titans-report-nonfarm-payrolls-loom-3290624'\n",
    "]"
   ]
  },
  {
   "cell_type": "code",
   "execution_count": null,
   "metadata": {},
   "outputs": [],
   "source": [
    "data['Headlines'] = [headline for headline in data['Headlines']\n",
    "                     if not any(unwanted_substring in headline for unwanted_substring in unwanted_headlines_substrings)]"
   ]
  },
  {
   "cell_type": "code",
   "execution_count": null,
   "metadata": {},
   "outputs": [],
   "source": [
    "len(data['Headlines'])"
   ]
  },
  {
   "cell_type": "code",
   "execution_count": null,
   "metadata": {},
   "outputs": [],
   "source": [
    "data['Dates'] = [date for date in data['Dates']\n",
    "                     if not any(unwanted_substring in date for unwanted_substring in unwanted_dates_substrings)]"
   ]
  },
  {
   "cell_type": "code",
   "execution_count": null,
   "metadata": {},
   "outputs": [],
   "source": [
    "len(data['Dates'])"
   ]
  },
  {
   "cell_type": "code",
   "execution_count": null,
   "metadata": {},
   "outputs": [],
   "source": [
    "data['Sources'] = [source for source in data['Sources']\n",
    "                     if not any(unwanted_substring in source for unwanted_substring in unwanted_sources_substrings)]"
   ]
  },
  {
   "cell_type": "code",
   "execution_count": null,
   "metadata": {},
   "outputs": [],
   "source": [
    "len(data['Sources'])"
   ]
  },
  {
   "cell_type": "code",
   "execution_count": null,
   "metadata": {},
   "outputs": [],
   "source": [
    "data['URLs'] = [url for url in data['URLs']\n",
    "                     if not any(unwanted_substring in url for unwanted_substring in unwanted_urls_substrings)]"
   ]
  },
  {
   "cell_type": "code",
   "execution_count": null,
   "metadata": {},
   "outputs": [],
   "source": [
    "# Filter out URLs that end with '#comments'\n",
    "data['URLs'] = [url for url in data['URLs'] if not url.endswith('#comments')]\n",
    "print(f\"Cleaned URLs count: {len(data['URLs'])}\")"
   ]
  },
  {
   "cell_type": "code",
   "execution_count": null,
   "metadata": {},
   "outputs": [],
   "source": [
    "# Define the prefix to filter out\n",
    "unwanted_prefix = 'https://www.investing.com/jp.php?'\n",
    "\n",
    "# Filter the list to exclude URLs starting with the unwanted prefix\n",
    "data['URLs'] = [url for url in data['URLs'] if not url.startswith(unwanted_prefix)]\n",
    "\n",
    "print(f\"Filtered URLs count: {len(data['URLs'])}\")"
   ]
  },
  {
   "cell_type": "code",
   "execution_count": null,
   "metadata": {},
   "outputs": [],
   "source": [
    "# Remove duplicates while preserving order\n",
    "unique_urls = []\n",
    "seen = set()\n",
    "for url in data['URLs']:\n",
    "    if url not in seen:\n",
    "        unique_urls.append(url)\n",
    "        seen.add(url)\n",
    "\n",
    "# Update the data['URLs'] with the list of unique URLs\n",
    "data['URLs'] = unique_urls\n",
    "print(f\"Unique URLs count: {len(data['URLs'])}\")"
   ]
  },
  {
   "cell_type": "code",
   "execution_count": null,
   "metadata": {},
   "outputs": [],
   "source": [
    "df = pd.DataFrame(data)"
   ]
  },
  {
   "cell_type": "code",
   "execution_count": null,
   "metadata": {},
   "outputs": [],
   "source": [
    "df.to_excel('scraped_data5.xlsx', index=False)"
   ]
  },
  {
   "cell_type": "markdown",
   "metadata": {},
   "source": [
    "##### R6"
   ]
  },
  {
   "cell_type": "code",
   "execution_count": null,
   "metadata": {},
   "outputs": [],
   "source": [
    "# Chrome options for headless mode \n",
    "options = Options()\n",
    "options.headless = True \n",
    "# Specify path to chromedriver and set up the browser\n",
    "browser = webdriver.Chrome(executable_path=r'C:\\Users\\hab021\\Documents\\Driver\\chromedriver121.exe', options=options)\n",
    "\n",
    "url1 = 'https://www.investing.com/news/politics/500'\n",
    "browser.get(url1)\n",
    "\n",
    "# Data storage\n",
    "data = {\n",
    "    'Headlines': [],\n",
    "    'Dates': [],\n",
    "    'Sources': [],\n",
    "    'URLs': []\n",
    "}\n",
    "\n",
    "wait = WebDriverWait(browser, 1)\n",
    "\n",
    "# Pages 1-1730\n",
    "no_of_pagedowns = 100\n",
    "\n",
    "while no_of_pagedowns:\n",
    "    try:\n",
    "        # Wait for elements to load and then find them\n",
    "        news_headlines = wait.until(EC.presence_of_all_elements_located((By.CLASS_NAME, \"title\")))     \n",
    "        news_dates = wait.until(EC.presence_of_all_elements_located((By.XPATH, \"//*[@class='date']\")))\n",
    "        news_sources = wait.until(EC.presence_of_all_elements_located((By.XPATH, \"//*[@class='articleDetails']\")))\n",
    "        news_urls = wait.until(EC.presence_of_all_elements_located((By.XPATH, \"//*[@id='leftColumn']//article//div/a\")))\n",
    "        \n",
    "        # Store the data in lists\n",
    "        for headline, date, source, headline in zip(news_headlines, news_dates, news_sources, news_headlines):\n",
    "            data['Headlines'].append(headline.text)\n",
    "            data['Dates'].append(date.text)\n",
    "            data['Sources'].append(source.text)\n",
    "            #data['URLs'].append(url.get_attribute('href'))\n",
    "            data['URLs'].append(headline.get_attribute('href'))\n",
    "\n",
    "        # Check for overlay and attempt to close it before clicking 'Next'\n",
    "        try:\n",
    "            overlay = browser.find_element(By.ID, \"transparentInner\")\n",
    "            if overlay:\n",
    "                # use JavaScript to ensure the 'Next' button is clicked\n",
    "                next_button = wait.until(EC.element_to_be_clickable((By.LINK_TEXT, 'Next')))\n",
    "                browser.execute_script(\"arguments[0].click();\", next_button)\n",
    "        except TimeoutException:\n",
    "            # If the overlay is not found, proceed with clicking the 'Next' button\n",
    "            next_button = wait.until(EC.element_to_be_clickable((By.LINK_TEXT, 'Next')))\n",
    "            next_button.click()\n",
    "\n",
    "    except Exception as e:\n",
    "        print(f\"An error occurred: {e}\")\n",
    "        break  # Break the loop in case of an error\n",
    "\n",
    "    no_of_pagedowns -= 1\n",
    "\n",
    "# Quit the browser session\n",
    "browser.quit()\n",
    "\n",
    "# Filter out empty strings or strings that only contain whitespace\n",
    "data['Headlines'] = [headline for headline in data['Headlines'] if headline.strip()]\n",
    "data['Dates'] = [date for date in data['Dates'] if date.strip()]\n",
    "data['Sources'] = [source for source in data['Sources'] if source.strip()]\n",
    "data['URLs'] = [url for url in data['URLs'] if url.strip()]"
   ]
  },
  {
   "cell_type": "code",
   "execution_count": null,
   "metadata": {},
   "outputs": [],
   "source": [
    "# Example substrings that we want to remove from the lists\n",
    "\n",
    "unwanted_headlines_substrings = [\n",
    "    \"2024 Financial Market Outlook by Octa\",\n",
    "    \"Stock Market Today: S&P 500 clinches record high as Meta's mega rally...\",\n",
    "    'Oil posts weekly losses as US data dents hopes for near-term rate cuts',\n",
    "    \"Payrolls, mega-cap tech earnings, Nvidia - what's moving markets\",\n",
    "    \"Stocks attracted $20 billion in inflows in a week to January 31 - BofA\",\n",
    "    \"Apple shares slip after iPhone sales miss estimates amid China...\",\n",
    "    'U.S. economy adds 353,000 jobs in January',\n",
    "     'US stocks rally on blowout jobs report, Meta-led gains in big tech',\n",
    "     'Buy any undue correction in quality AI leaders says UBS',\n",
    "     'Oil falls as US jobs data dents hope for near-term rate cuts',\n",
    "    \"Buy any undue correction in quality AI leaders says UBS\",\n",
    "    \"U.S. economy adds 353,000 jobs in January\",\n",
    "    \"Amazon top Q4 estimates as e-commerce shines, sending shares higher\",\n",
    "    \"'Patek Philippe of Internet': Analysts heap praise on Meta' Platforms...\",\n",
    "    \"Here Are the Winners of The UF AWARDS MEA 2024\",\n",
    "    \"Oil falls as US jobs data dents hope for near-term rate cuts\",\n",
    "    \"FXStarterKit by Forexware: A Solution Built for Global Expansion\",\n",
    "    \"UF Agency: Pioneering Strategic Fintech Marketing for Optimal Reach\",\n",
    "    \"Oil set for weekly loss despite gain on OPEC+ output decision\"\n",
    "]\n",
    "\n",
    "unwanted_dates_substrings = [\n",
    "    ' - Feb 02, 2024'\n",
    "]\n",
    "\n",
    "unwanted_sources_substrings = [\n",
    "    'By Investing.com Studios',\n",
    "    'By Investing.com - Feb 02, 2024 103',\n",
    "    'By Investing.com - Feb 02, 2024 3',\n",
    "    'By Investing.com - Feb 02, 2024 16',\n",
    "    'By Investing.com - Feb 02, 2024 7',\n",
    "    'By Investing.com - Feb 02, 2024 4',\n",
    "    'By Investing.com - Feb 02, 2024 107',\n",
    "    'By Investing.com - Feb 02, 2024 5',\n",
    "    'By Investing.com - Feb 02, 2024 24', 'By Investing.com - Feb 02, 2024 114',\n",
    "    'By Investing.com - Feb 02, 2024 9',\n",
    "    'By Reuters - Feb 02, 2024 5',\n",
    "    'By Investing.com - Feb 02, 2024 109',\n",
    "    'By Investing.com - Feb 02, 2024 6',\n",
    "    'By Reuters - Feb 02, 2024 4'\n",
    "]\n",
    "\n",
    "unwanted_urls_substrings = [\n",
    "    'https://www.investing.com/news/economic-indicators/us-economy-adds-353000-jobs-in-january-3291366',\n",
    "    'https://www.investing.com/news/stock-market-news/stock-market-today-sp-500-clinches-record-high-as-metas-mega-rally-fuels-bulls-3290624',\n",
    "     'https://www.investing.com/jp.php?v2=N3czbTViN2xmMG9lM2kxMTdkZj0zMTUxMyRmNDQ-ZSxnIWFoZDxhJ2ZuYH4ybjNpZBdjPGFpNSMyZGc1ZyZnJDdwM201ZDdsZjNvajN2MXA3a2Y_Mzw1PjMkZiU0Pg==',\n",
    "    'https://www.investing.com/jp.php?v2=YyM_YW45Yjk3YWxmYTs1Nz5qNG8zNTQ2MyRgMjsxYiszdT43YzsxdzQ8PCJgPDJoYhE_YDU9MiQ2YG48NXRhImMkP2FuP2I5N2JsaWEkNXQ-YjRtMzw0PzMkYCM7MQ==',\n",
    "    'https://www.investing.com/news/stock-market-news/buy-any-undue-correction-in-quality-ai-leaders-says-ubs-3291589',\n",
    "    'https://www.investing.com/news/stock-market-news/apple-q1-results-top-estimates-but-iphone-sales-fall-just-shy-amid-china-weakness-3290542',\n",
    "    'https://www.investing.com/news/commodities-news/oil-prices-gain-after-opec-maintains-output-cuts-3290687',\n",
    "    'https://www.investing.com/analysis/2-reasons-why-february-may-be-a-difficult-month-on-wall-street-200645728',\n",
    "     'https://www.investing.com/news/economy/payrolls-megacap-tech-earnings-nvidia--whats-moving-markets-3290897',\n",
    "    'https://www.investing.com/jp.php?v2=NnZmODViYzhhNzowMmgxMTdkZT40OzQ3ZXJvPWRubiczdTU8MWllIzY-PiAwbGU_YBNlOj83NSM0YjdlMXBnJDZxZjg1ZGM4YTQ6PzJ3MXA3a2U8NDs0P2Vybyxkbg==',\n",
    "    'https://www.investing.com/jp.php?v2=OXlmOGYxM2gxZz40Zz1hYTVmYzhmZjcyMyRmNDI4NXxjJWFoZz80cmRsPCI1aTVvM0BiPTU9Z3FlMzdlZyZgIzl-ZjhmNzNoMWQ-O2ciYSA1aWM6Zmk3PDMkZiUyOA==',\n",
    "     'https://www.investing.com/jp.php?v2=ZSU3aWYxNW5kMmxmYDoyMDJmNG9jZDQ0YXZkNjE7byYwdmVsYTkzdWVtanRkODFrYhFhPmRsYHY1Y248ZyZlJmUiN2lmNzVuZDFsaWAlMnMybjRtY2w0P2F2ZCcxOw==',\n",
    "    'https://www.investing.com/news/stock-market-news/dow-futures-tick-higher-as-tech-titans-report-nonfarm-payrolls-loom-3290624'\n",
    "]"
   ]
  },
  {
   "cell_type": "code",
   "execution_count": null,
   "metadata": {},
   "outputs": [],
   "source": [
    "data['Headlines'] = [headline for headline in data['Headlines']\n",
    "                     if not any(unwanted_substring in headline for unwanted_substring in unwanted_headlines_substrings)]"
   ]
  },
  {
   "cell_type": "code",
   "execution_count": null,
   "metadata": {},
   "outputs": [],
   "source": [
    "len(data['Headlines'])"
   ]
  },
  {
   "cell_type": "code",
   "execution_count": null,
   "metadata": {},
   "outputs": [],
   "source": [
    "data['Dates'] = [date for date in data['Dates']\n",
    "                     if not any(unwanted_substring in date for unwanted_substring in unwanted_dates_substrings)]"
   ]
  },
  {
   "cell_type": "code",
   "execution_count": null,
   "metadata": {},
   "outputs": [],
   "source": [
    "len(data['Dates'])"
   ]
  },
  {
   "cell_type": "code",
   "execution_count": null,
   "metadata": {},
   "outputs": [],
   "source": [
    "data['Sources'] = [source for source in data['Sources']\n",
    "                     if not any(unwanted_substring in source for unwanted_substring in unwanted_sources_substrings)]"
   ]
  },
  {
   "cell_type": "code",
   "execution_count": null,
   "metadata": {},
   "outputs": [],
   "source": [
    "len(data['Sources'])"
   ]
  },
  {
   "cell_type": "code",
   "execution_count": null,
   "metadata": {},
   "outputs": [],
   "source": [
    "data['URLs'] = [url for url in data['URLs']\n",
    "                     if not any(unwanted_substring in url for unwanted_substring in unwanted_urls_substrings)]"
   ]
  },
  {
   "cell_type": "code",
   "execution_count": null,
   "metadata": {},
   "outputs": [],
   "source": [
    "# Filter out URLs that end with '#comments'\n",
    "data['URLs'] = [url for url in data['URLs'] if not url.endswith('#comments')]\n",
    "print(f\"Cleaned URLs count: {len(data['URLs'])}\")"
   ]
  },
  {
   "cell_type": "code",
   "execution_count": null,
   "metadata": {},
   "outputs": [],
   "source": [
    "# Define the prefix to filter out\n",
    "unwanted_prefix = 'https://www.investing.com/jp.php?'\n",
    "\n",
    "# Filter the list to exclude URLs starting with the unwanted prefix\n",
    "data['URLs'] = [url for url in data['URLs'] if not url.startswith(unwanted_prefix)]\n",
    "\n",
    "print(f\"Filtered URLs count: {len(data['URLs'])}\")"
   ]
  },
  {
   "cell_type": "code",
   "execution_count": null,
   "metadata": {},
   "outputs": [],
   "source": [
    "# Remove duplicates while preserving order\n",
    "unique_urls = []\n",
    "seen = set()\n",
    "for url in data['URLs']:\n",
    "    if url not in seen:\n",
    "        unique_urls.append(url)\n",
    "        seen.add(url)\n",
    "\n",
    "# Update the data['URLs'] with the list of unique URLs\n",
    "data['URLs'] = unique_urls\n",
    "print(f\"Unique URLs count: {len(data['URLs'])}\")"
   ]
  },
  {
   "cell_type": "code",
   "execution_count": null,
   "metadata": {},
   "outputs": [],
   "source": [
    "df = pd.DataFrame(data)"
   ]
  },
  {
   "cell_type": "code",
   "execution_count": null,
   "metadata": {},
   "outputs": [],
   "source": [
    "df.to_excel('scraped_data6.xlsx', index=False)"
   ]
  },
  {
   "cell_type": "markdown",
   "metadata": {},
   "source": [
    "##### R7"
   ]
  },
  {
   "cell_type": "code",
   "execution_count": null,
   "metadata": {},
   "outputs": [],
   "source": [
    "# Chrome options for headless mode \n",
    "options = Options()\n",
    "options.headless = True  # Set to False if you want to see the browser window\n",
    "\n",
    "browser = webdriver.Chrome(executable_path=r'C:\\Users\\hab021\\Documents\\Driver\\chromedriver121.exe', options=options)\n",
    "\n",
    "url1 = 'https://www.investing.com/news/politics/600'\n",
    "browser.get(url1)\n",
    "\n",
    "# Data storage\n",
    "data = {\n",
    "    'Headlines': [],\n",
    "    'Dates': [],\n",
    "    'Sources': [],\n",
    "    'URLs': []\n",
    "}\n",
    "\n",
    "# Initialize wait\n",
    "wait = WebDriverWait(browser, 1)\n",
    "\n",
    "# Pages 1-1730\n",
    "no_of_pagedowns = 100\n",
    "\n",
    "while no_of_pagedowns:\n",
    "    try:\n",
    "        # Wait for elements to load and then find them\n",
    "        news_headlines = wait.until(EC.presence_of_all_elements_located((By.CLASS_NAME, \"title\")))     \n",
    "        news_dates = wait.until(EC.presence_of_all_elements_located((By.XPATH, \"//*[@class='date']\")))\n",
    "        news_sources = wait.until(EC.presence_of_all_elements_located((By.XPATH, \"//*[@class='articleDetails']\")))\n",
    "        news_urls = wait.until(EC.presence_of_all_elements_located((By.XPATH, \"//*[@id='leftColumn']//article//div/a\")))\n",
    "        \n",
    "        # Store the data in lists\n",
    "        for headline, date, source, headline in zip(news_headlines, news_dates, news_sources, news_headlines):\n",
    "            data['Headlines'].append(headline.text)\n",
    "            data['Dates'].append(date.text)\n",
    "            data['Sources'].append(source.text)\n",
    "            #data['URLs'].append(url.get_attribute('href'))\n",
    "            data['URLs'].append(headline.get_attribute('href'))\n",
    "\n",
    "        # Check for overlay and attempt to close it before clicking 'Next'\n",
    "        try:\n",
    "            overlay = browser.find_element(By.ID, \"transparentInner\")\n",
    "            if overlay:\n",
    "                # use JavaScript to ensure the 'Next' button is clicked\n",
    "                next_button = wait.until(EC.element_to_be_clickable((By.LINK_TEXT, 'Next')))\n",
    "                browser.execute_script(\"arguments[0].click();\", next_button)\n",
    "        except TimeoutException:\n",
    "            # If the overlay is not found, proceed with clicking the 'Next' button\n",
    "            next_button = wait.until(EC.element_to_be_clickable((By.LINK_TEXT, 'Next')))\n",
    "            next_button.click()\n",
    "\n",
    "    except Exception as e:\n",
    "        print(f\"An error occurred: {e}\")\n",
    "        break  # Break the loop in case of an error\n",
    "\n",
    "    no_of_pagedowns -= 1\n",
    "\n",
    "# Quit the browser session\n",
    "browser.quit()\n",
    "\n",
    "# Filter out empty strings or strings that only contain whitespace\n",
    "data['Headlines'] = [headline for headline in data['Headlines'] if headline.strip()]\n",
    "data['Dates'] = [date for date in data['Dates'] if date.strip()]\n",
    "data['Sources'] = [source for source in data['Sources'] if source.strip()]\n",
    "data['URLs'] = [url for url in data['URLs'] if url.strip()]"
   ]
  },
  {
   "cell_type": "code",
   "execution_count": null,
   "metadata": {},
   "outputs": [],
   "source": [
    "# Example substrings that we want to remove from the lists\n",
    "\n",
    "unwanted_headlines_substrings = [\n",
    "    \"2024 Financial Market Outlook by Octa\",\n",
    "    \"Stock Market Today: S&P 500 clinches record high as Meta's mega rally...\",\n",
    "    'Oil posts weekly losses as US data dents hopes for near-term rate cuts',\n",
    "    \"Payrolls, mega-cap tech earnings, Nvidia - what's moving markets\",\n",
    "    \"Stocks attracted $20 billion in inflows in a week to January 31 - BofA\",\n",
    "    \"Apple shares slip after iPhone sales miss estimates amid China...\",\n",
    "    'U.S. economy adds 353,000 jobs in January',\n",
    "     'US stocks rally on blowout jobs report, Meta-led gains in big tech',\n",
    "     'Buy any undue correction in quality AI leaders says UBS',\n",
    "     'Oil falls as US jobs data dents hope for near-term rate cuts',\n",
    "    \"Buy any undue correction in quality AI leaders says UBS\",\n",
    "    \"U.S. economy adds 353,000 jobs in January\",\n",
    "    \"Amazon top Q4 estimates as e-commerce shines, sending shares higher\",\n",
    "    \"'Patek Philippe of Internet': Analysts heap praise on Meta' Platforms...\",\n",
    "    \"Here Are the Winners of The UF AWARDS MEA 2024\",\n",
    "    \"Oil falls as US jobs data dents hope for near-term rate cuts\",\n",
    "    \"FXStarterKit by Forexware: A Solution Built for Global Expansion\",\n",
    "    \"UF Agency: Pioneering Strategic Fintech Marketing for Optimal Reach\",\n",
    "    \"Oil set for weekly loss despite gain on OPEC+ output decision\"\n",
    "]\n",
    "\n",
    "unwanted_dates_substrings = [\n",
    "    ' - Feb 02, 2024'\n",
    " \n",
    "]\n",
    "\n",
    "unwanted_sources_substrings = [\n",
    "    'By Investing.com Studios',\n",
    "    'By Investing.com - Feb 02, 2024 103',\n",
    "    'By Investing.com - Feb 02, 2024 3',\n",
    "    'By Investing.com - Feb 02, 2024 16',\n",
    "    'By Investing.com - Feb 02, 2024 7',\n",
    "    'By Investing.com - Feb 02, 2024 4',\n",
    "    'By Investing.com - Feb 02, 2024 107',\n",
    "    'By Investing.com - Feb 02, 2024 5',\n",
    "    'By Investing.com - Feb 02, 2024 24', 'By Investing.com - Feb 02, 2024 114',\n",
    "    'By Investing.com - Feb 02, 2024 9',\n",
    "    'By Reuters - Feb 02, 2024 5',\n",
    "    'By Investing.com - Feb 02, 2024 109',\n",
    "    'By Investing.com - Feb 02, 2024 6',\n",
    "    'By Reuters - Feb 02, 2024 4'\n",
    "\n",
    "]\n",
    "\n",
    "unwanted_urls_substrings = [\n",
    "    'https://www.investing.com/news/economic-indicators/us-economy-adds-353000-jobs-in-january-3291366',\n",
    "    'https://www.investing.com/news/stock-market-news/stock-market-today-sp-500-clinches-record-high-as-metas-mega-rally-fuels-bulls-3290624',\n",
    "     'https://www.investing.com/jp.php?v2=N3czbTViN2xmMG9lM2kxMTdkZj0zMTUxMyRmNDQ-ZSxnIWFoZDxhJ2ZuYH4ybjNpZBdjPGFpNSMyZGc1ZyZnJDdwM201ZDdsZjNvajN2MXA3a2Y_Mzw1PjMkZiU0Pg==',\n",
    "    'https://www.investing.com/jp.php?v2=YyM_YW45Yjk3YWxmYTs1Nz5qNG8zNTQ2MyRgMjsxYiszdT43YzsxdzQ8PCJgPDJoYhE_YDU9MiQ2YG48NXRhImMkP2FuP2I5N2JsaWEkNXQ-YjRtMzw0PzMkYCM7MQ==',\n",
    "    'https://www.investing.com/news/stock-market-news/buy-any-undue-correction-in-quality-ai-leaders-says-ubs-3291589',\n",
    "    'https://www.investing.com/news/stock-market-news/apple-q1-results-top-estimates-but-iphone-sales-fall-just-shy-amid-china-weakness-3290542',\n",
    "    'https://www.investing.com/news/commodities-news/oil-prices-gain-after-opec-maintains-output-cuts-3290687',\n",
    "    'https://www.investing.com/analysis/2-reasons-why-february-may-be-a-difficult-month-on-wall-street-200645728',\n",
    "     'https://www.investing.com/news/economy/payrolls-megacap-tech-earnings-nvidia--whats-moving-markets-3290897',\n",
    "    'https://www.investing.com/jp.php?v2=NnZmODViYzhhNzowMmgxMTdkZT40OzQ3ZXJvPWRubiczdTU8MWllIzY-PiAwbGU_YBNlOj83NSM0YjdlMXBnJDZxZjg1ZGM4YTQ6PzJ3MXA3a2U8NDs0P2Vybyxkbg==',\n",
    "    'https://www.investing.com/jp.php?v2=OXlmOGYxM2gxZz40Zz1hYTVmYzhmZjcyMyRmNDI4NXxjJWFoZz80cmRsPCI1aTVvM0BiPTU9Z3FlMzdlZyZgIzl-ZjhmNzNoMWQ-O2ciYSA1aWM6Zmk3PDMkZiUyOA==',\n",
    "     'https://www.investing.com/jp.php?v2=ZSU3aWYxNW5kMmxmYDoyMDJmNG9jZDQ0YXZkNjE7byYwdmVsYTkzdWVtanRkODFrYhFhPmRsYHY1Y248ZyZlJmUiN2lmNzVuZDFsaWAlMnMybjRtY2w0P2F2ZCcxOw==',\n",
    "    'https://www.investing.com/news/stock-market-news/dow-futures-tick-higher-as-tech-titans-report-nonfarm-payrolls-loom-3290624'\n",
    "]"
   ]
  },
  {
   "cell_type": "code",
   "execution_count": null,
   "metadata": {},
   "outputs": [],
   "source": [
    "data['Headlines'] = [headline for headline in data['Headlines']\n",
    "                     if not any(unwanted_substring in headline for unwanted_substring in unwanted_headlines_substrings)]"
   ]
  },
  {
   "cell_type": "code",
   "execution_count": null,
   "metadata": {},
   "outputs": [],
   "source": [
    "len(data['Headlines'])"
   ]
  },
  {
   "cell_type": "code",
   "execution_count": null,
   "metadata": {},
   "outputs": [],
   "source": [
    "data['Dates'] = [date for date in data['Dates']\n",
    "                     if not any(unwanted_substring in date for unwanted_substring in unwanted_dates_substrings)]"
   ]
  },
  {
   "cell_type": "code",
   "execution_count": null,
   "metadata": {},
   "outputs": [],
   "source": [
    "len(data['Dates'])"
   ]
  },
  {
   "cell_type": "code",
   "execution_count": null,
   "metadata": {},
   "outputs": [],
   "source": [
    "data['Sources'] = [source for source in data['Sources']\n",
    "                     if not any(unwanted_substring in source for unwanted_substring in unwanted_sources_substrings)]"
   ]
  },
  {
   "cell_type": "code",
   "execution_count": null,
   "metadata": {},
   "outputs": [],
   "source": [
    "len(data['Sources'])"
   ]
  },
  {
   "cell_type": "code",
   "execution_count": null,
   "metadata": {},
   "outputs": [],
   "source": [
    "data['URLs'] = [url for url in data['URLs']\n",
    "                     if not any(unwanted_substring in url for unwanted_substring in unwanted_urls_substrings)]"
   ]
  },
  {
   "cell_type": "code",
   "execution_count": null,
   "metadata": {},
   "outputs": [],
   "source": [
    "# Filter out URLs that end with '#comments'\n",
    "data['URLs'] = [url for url in data['URLs'] if not url.endswith('#comments')]\n",
    "print(f\"Cleaned URLs count: {len(data['URLs'])}\")"
   ]
  },
  {
   "cell_type": "code",
   "execution_count": null,
   "metadata": {},
   "outputs": [],
   "source": [
    "# Define the prefix to filter out\n",
    "unwanted_prefix = 'https://www.investing.com/jp.php?'\n",
    "\n",
    "# Filter the list to exclude URLs starting with the unwanted prefix\n",
    "data['URLs'] = [url for url in data['URLs'] if not url.startswith(unwanted_prefix)]\n",
    "\n",
    "print(f\"Filtered URLs count: {len(data['URLs'])}\")"
   ]
  },
  {
   "cell_type": "code",
   "execution_count": null,
   "metadata": {},
   "outputs": [],
   "source": [
    "# Remove duplicates while preserving order\n",
    "unique_urls = []\n",
    "seen = set()\n",
    "for url in data['URLs']:\n",
    "    if url not in seen:\n",
    "        unique_urls.append(url)\n",
    "        seen.add(url)\n",
    "\n",
    "# Update the data['URLs'] with the list of unique URLs\n",
    "data['URLs'] = unique_urls\n",
    "print(f\"Unique URLs count: {len(data['URLs'])}\")"
   ]
  },
  {
   "cell_type": "code",
   "execution_count": null,
   "metadata": {},
   "outputs": [],
   "source": [
    "df = pd.DataFrame(data)"
   ]
  },
  {
   "cell_type": "code",
   "execution_count": null,
   "metadata": {},
   "outputs": [],
   "source": [
    "df.to_excel('scraped_data7.xlsx', index=False)"
   ]
  },
  {
   "cell_type": "markdown",
   "metadata": {},
   "source": [
    "##### R8"
   ]
  },
  {
   "cell_type": "code",
   "execution_count": null,
   "metadata": {},
   "outputs": [],
   "source": [
    "# Chrome options for headless mode \n",
    "options = Options()\n",
    "options.headless = True  \n",
    "\n",
    "browser = webdriver.Chrome(executable_path=r'C:\\Users\\hab021\\Documents\\Driver\\chromedriver121.exe', options=options)\n",
    "\n",
    "url1 = 'https://www.investing.com/news/politics/700'\n",
    "browser.get(url1)\n",
    "\n",
    "# Data storage\n",
    "data = {\n",
    "    'Headlines': [],\n",
    "    'Dates': [],\n",
    "    'Sources': [],\n",
    "    'URLs': []\n",
    "}\n",
    "\n",
    "# Initialize wait\n",
    "wait = WebDriverWait(browser, 1)\n",
    "\n",
    "# Pages 1-1730\n",
    "no_of_pagedowns = 100\n",
    "\n",
    "while no_of_pagedowns:\n",
    "    try:\n",
    "        # Wait for elements to load and then find them\n",
    "        news_headlines = wait.until(EC.presence_of_all_elements_located((By.CLASS_NAME, \"title\")))     \n",
    "        news_dates = wait.until(EC.presence_of_all_elements_located((By.XPATH, \"//*[@class='date']\")))\n",
    "        news_sources = wait.until(EC.presence_of_all_elements_located((By.XPATH, \"//*[@class='articleDetails']\")))\n",
    "        news_urls = wait.until(EC.presence_of_all_elements_located((By.XPATH, \"//*[@id='leftColumn']//article//div/a\")))\n",
    "        \n",
    "        # Store the data in lists\n",
    "        for headline, date, source, headline in zip(news_headlines, news_dates, news_sources, news_headlines):\n",
    "            data['Headlines'].append(headline.text)\n",
    "            data['Dates'].append(date.text)\n",
    "            data['Sources'].append(source.text)\n",
    "            #data['URLs'].append(url.get_attribute('href'))\n",
    "            data['URLs'].append(headline.get_attribute('href'))\n",
    "\n",
    "        # Check for overlay and attempt to close it before clicking 'Next'\n",
    "        try:\n",
    "            overlay = browser.find_element(By.ID, \"transparentInner\")\n",
    "            if overlay:\n",
    "                # use JavaScript to ensure the 'Next' button is clicked\n",
    "                next_button = wait.until(EC.element_to_be_clickable((By.LINK_TEXT, 'Next')))\n",
    "                browser.execute_script(\"arguments[0].click();\", next_button)\n",
    "        except TimeoutException:\n",
    "            # If the overlay is not found, proceed with clicking the 'Next' button\n",
    "            next_button = wait.until(EC.element_to_be_clickable((By.LINK_TEXT, 'Next')))\n",
    "            next_button.click()\n",
    "\n",
    "    except Exception as e:\n",
    "        print(f\"An error occurred: {e}\")\n",
    "        break  # Break the loop in case of an error\n",
    "\n",
    "    no_of_pagedowns -= 1\n",
    "\n",
    "# Quit the browser session\n",
    "browser.quit()\n",
    "\n",
    "# Filter out empty strings or strings that only contain whitespace\n",
    "data['Headlines'] = [headline for headline in data['Headlines'] if headline.strip()]\n",
    "data['Dates'] = [date for date in data['Dates'] if date.strip()]\n",
    "data['Sources'] = [source for source in data['Sources'] if source.strip()]\n",
    "data['URLs'] = [url for url in data['URLs'] if url.strip()]"
   ]
  },
  {
   "cell_type": "code",
   "execution_count": null,
   "metadata": {},
   "outputs": [],
   "source": [
    "# Example substrings that we want to remove from the lists\n",
    "\n",
    "unwanted_headlines_substrings = [\n",
    "    \"2024 Financial Market Outlook by Octa\",\n",
    "    \"Stock Market Today: S&P 500 clinches record high as Meta's mega rally...\",\n",
    "    'Oil posts weekly losses as US data dents hopes for near-term rate cuts',\n",
    "    \"Payrolls, mega-cap tech earnings, Nvidia - what's moving markets\",\n",
    "    \"Stocks attracted $20 billion in inflows in a week to January 31 - BofA\",\n",
    "    \"Apple shares slip after iPhone sales miss estimates amid China...\",\n",
    "    'U.S. economy adds 353,000 jobs in January',\n",
    "     'US stocks rally on blowout jobs report, Meta-led gains in big tech',\n",
    "     'Buy any undue correction in quality AI leaders says UBS',\n",
    "     'Oil falls as US jobs data dents hope for near-term rate cuts',\n",
    "    \"Buy any undue correction in quality AI leaders says UBS\",\n",
    "    \"U.S. economy adds 353,000 jobs in January\",\n",
    "    \"Amazon top Q4 estimates as e-commerce shines, sending shares higher\",\n",
    "    \"'Patek Philippe of Internet': Analysts heap praise on Meta' Platforms...\",\n",
    "    \"Here Are the Winners of The UF AWARDS MEA 2024\",\n",
    "    \"Oil falls as US jobs data dents hope for near-term rate cuts\",\n",
    "    \"FXStarterKit by Forexware: A Solution Built for Global Expansion\",\n",
    "    \"UF Agency: Pioneering Strategic Fintech Marketing for Optimal Reach\",\n",
    "    \"Oil set for weekly loss despite gain on OPEC+ output decision\"\n",
    "]\n",
    "\n",
    "unwanted_dates_substrings = [\n",
    "    ' - Feb 02, 2024'\n",
    "]\n",
    "\n",
    "unwanted_sources_substrings = [\n",
    "    'By Investing.com Studios',\n",
    "    'By Investing.com - Feb 02, 2024 103',\n",
    "    'By Investing.com - Feb 02, 2024 3',\n",
    "    'By Investing.com - Feb 02, 2024 16',\n",
    "    'By Investing.com - Feb 02, 2024 7',\n",
    "    'By Investing.com - Feb 02, 2024 4',\n",
    "    'By Investing.com - Feb 02, 2024 107',\n",
    "    'By Investing.com - Feb 02, 2024 5',\n",
    "    'By Investing.com - Feb 02, 2024 24', 'By Investing.com - Feb 02, 2024 114',\n",
    "    'By Investing.com - Feb 02, 2024 9',\n",
    "    'By Reuters - Feb 02, 2024 5',\n",
    "    'By Investing.com - Feb 02, 2024 109',\n",
    "    'By Investing.com - Feb 02, 2024 6',\n",
    "    'By Reuters - Feb 02, 2024 4'\n",
    "]\n",
    "\n",
    "unwanted_urls_substrings = [\n",
    "    'https://www.investing.com/news/economic-indicators/us-economy-adds-353000-jobs-in-january-3291366',\n",
    "    'https://www.investing.com/news/stock-market-news/stock-market-today-sp-500-clinches-record-high-as-metas-mega-rally-fuels-bulls-3290624',\n",
    "     'https://www.investing.com/jp.php?v2=N3czbTViN2xmMG9lM2kxMTdkZj0zMTUxMyRmNDQ-ZSxnIWFoZDxhJ2ZuYH4ybjNpZBdjPGFpNSMyZGc1ZyZnJDdwM201ZDdsZjNvajN2MXA3a2Y_Mzw1PjMkZiU0Pg==',\n",
    "    'https://www.investing.com/jp.php?v2=YyM_YW45Yjk3YWxmYTs1Nz5qNG8zNTQ2MyRgMjsxYiszdT43YzsxdzQ8PCJgPDJoYhE_YDU9MiQ2YG48NXRhImMkP2FuP2I5N2JsaWEkNXQ-YjRtMzw0PzMkYCM7MQ==',\n",
    "    'https://www.investing.com/news/stock-market-news/buy-any-undue-correction-in-quality-ai-leaders-says-ubs-3291589',\n",
    "    'https://www.investing.com/news/stock-market-news/apple-q1-results-top-estimates-but-iphone-sales-fall-just-shy-amid-china-weakness-3290542',\n",
    "    'https://www.investing.com/news/commodities-news/oil-prices-gain-after-opec-maintains-output-cuts-3290687',\n",
    "    'https://www.investing.com/analysis/2-reasons-why-february-may-be-a-difficult-month-on-wall-street-200645728',\n",
    "     'https://www.investing.com/news/economy/payrolls-megacap-tech-earnings-nvidia--whats-moving-markets-3290897',\n",
    "    'https://www.investing.com/jp.php?v2=NnZmODViYzhhNzowMmgxMTdkZT40OzQ3ZXJvPWRubiczdTU8MWllIzY-PiAwbGU_YBNlOj83NSM0YjdlMXBnJDZxZjg1ZGM4YTQ6PzJ3MXA3a2U8NDs0P2Vybyxkbg==',\n",
    "    'https://www.investing.com/jp.php?v2=OXlmOGYxM2gxZz40Zz1hYTVmYzhmZjcyMyRmNDI4NXxjJWFoZz80cmRsPCI1aTVvM0BiPTU9Z3FlMzdlZyZgIzl-ZjhmNzNoMWQ-O2ciYSA1aWM6Zmk3PDMkZiUyOA==',\n",
    "     'https://www.investing.com/jp.php?v2=ZSU3aWYxNW5kMmxmYDoyMDJmNG9jZDQ0YXZkNjE7byYwdmVsYTkzdWVtanRkODFrYhFhPmRsYHY1Y248ZyZlJmUiN2lmNzVuZDFsaWAlMnMybjRtY2w0P2F2ZCcxOw==',\n",
    "    'https://www.investing.com/news/stock-market-news/dow-futures-tick-higher-as-tech-titans-report-nonfarm-payrolls-loom-3290624'\n",
    "]"
   ]
  },
  {
   "cell_type": "code",
   "execution_count": null,
   "metadata": {},
   "outputs": [],
   "source": [
    "data['Headlines'] = [headline for headline in data['Headlines']\n",
    "                     if not any(unwanted_substring in headline for unwanted_substring in unwanted_headlines_substrings)]"
   ]
  },
  {
   "cell_type": "code",
   "execution_count": null,
   "metadata": {},
   "outputs": [],
   "source": [
    "len(data['Headlines'])"
   ]
  },
  {
   "cell_type": "code",
   "execution_count": null,
   "metadata": {},
   "outputs": [],
   "source": [
    "data['Dates'] = [date for date in data['Dates']\n",
    "                     if not any(unwanted_substring in date for unwanted_substring in unwanted_dates_substrings)]"
   ]
  },
  {
   "cell_type": "code",
   "execution_count": null,
   "metadata": {},
   "outputs": [],
   "source": [
    "len(data['Dates'])"
   ]
  },
  {
   "cell_type": "code",
   "execution_count": null,
   "metadata": {},
   "outputs": [],
   "source": [
    "data['Sources'] = [source for source in data['Sources']\n",
    "                     if not any(unwanted_substring in source for unwanted_substring in unwanted_sources_substrings)]"
   ]
  },
  {
   "cell_type": "code",
   "execution_count": null,
   "metadata": {},
   "outputs": [],
   "source": [
    "len(data['Sources'])"
   ]
  },
  {
   "cell_type": "code",
   "execution_count": null,
   "metadata": {},
   "outputs": [],
   "source": [
    "data['URLs'] = [url for url in data['URLs']\n",
    "                     if not any(unwanted_substring in url for unwanted_substring in unwanted_urls_substrings)]"
   ]
  },
  {
   "cell_type": "code",
   "execution_count": null,
   "metadata": {},
   "outputs": [],
   "source": [
    "# Filter out URLs that end with '#comments'\n",
    "data['URLs'] = [url for url in data['URLs'] if not url.endswith('#comments')]\n",
    "print(f\"Cleaned URLs count: {len(data['URLs'])}\")"
   ]
  },
  {
   "cell_type": "code",
   "execution_count": null,
   "metadata": {},
   "outputs": [],
   "source": [
    "# Define the prefix to filter out\n",
    "unwanted_prefix = 'https://www.investing.com/jp.php?'\n",
    "\n",
    "# Filter the list to exclude URLs starting with the unwanted prefix\n",
    "data['URLs'] = [url for url in data['URLs'] if not url.startswith(unwanted_prefix)]\n",
    "\n",
    "print(f\"Filtered URLs count: {len(data['URLs'])}\")"
   ]
  },
  {
   "cell_type": "code",
   "execution_count": null,
   "metadata": {},
   "outputs": [],
   "source": [
    "# Remove duplicates while preserving order\n",
    "unique_urls = []\n",
    "seen = set()\n",
    "for url in data['URLs']:\n",
    "    if url not in seen:\n",
    "        unique_urls.append(url)\n",
    "        seen.add(url)\n",
    "\n",
    "# Update the data['URLs'] with the list of unique URLs\n",
    "data['URLs'] = unique_urls\n",
    "print(f\"Unique URLs count: {len(data['URLs'])}\")"
   ]
  },
  {
   "cell_type": "code",
   "execution_count": null,
   "metadata": {},
   "outputs": [],
   "source": [
    "df = pd.DataFrame(data)"
   ]
  },
  {
   "cell_type": "code",
   "execution_count": null,
   "metadata": {},
   "outputs": [],
   "source": [
    "df.to_excel('scraped_data8.xlsx', index=False)"
   ]
  },
  {
   "cell_type": "markdown",
   "metadata": {},
   "source": [
    "##### R9"
   ]
  },
  {
   "cell_type": "code",
   "execution_count": null,
   "metadata": {},
   "outputs": [],
   "source": [
    "# Chrome options for headless mode \n",
    "options = Options()\n",
    "options.headless = True \n",
    "\n",
    "browser = webdriver.Chrome(executable_path=r'C:\\Users\\hab021\\Documents\\Driver\\chromedriver121.exe', options=options)\n",
    "\n",
    "url1 = 'https://www.investing.com/news/politics/800'\n",
    "browser.get(url1)\n",
    "\n",
    "# Data storage\n",
    "data = {\n",
    "    'Headlines': [],\n",
    "    'Dates': [],\n",
    "    'Sources': [],\n",
    "    'URLs': []\n",
    "}\n",
    "\n",
    "# Initialize wait\n",
    "wait = WebDriverWait(browser, 1)\n",
    "\n",
    "# Pages 1-1730\n",
    "no_of_pagedowns = 100\n",
    "\n",
    "while no_of_pagedowns:\n",
    "    try:\n",
    "        # Wait for elements to load and then find them\n",
    "        news_headlines = wait.until(EC.presence_of_all_elements_located((By.CLASS_NAME, \"title\")))     \n",
    "        news_dates = wait.until(EC.presence_of_all_elements_located((By.XPATH, \"//*[@class='date']\")))\n",
    "        news_sources = wait.until(EC.presence_of_all_elements_located((By.XPATH, \"//*[@class='articleDetails']\")))\n",
    "        news_urls = wait.until(EC.presence_of_all_elements_located((By.XPATH, \"//*[@id='leftColumn']//article//div/a\")))\n",
    "        \n",
    "        # Store the data in lists\n",
    "        for headline, date, source, headline in zip(news_headlines, news_dates, news_sources, news_headlines):\n",
    "            data['Headlines'].append(headline.text)\n",
    "            data['Dates'].append(date.text)\n",
    "            data['Sources'].append(source.text)\n",
    "            #data['URLs'].append(url.get_attribute('href'))\n",
    "            data['URLs'].append(headline.get_attribute('href'))\n",
    "\n",
    "        # Check for overlay and attempt to close it before clicking 'Next'\n",
    "        try:\n",
    "            overlay = browser.find_element(By.ID, \"transparentInner\")\n",
    "            if overlay:\n",
    "                # use JavaScript to ensure the 'Next' button is clicked\n",
    "                next_button = wait.until(EC.element_to_be_clickable((By.LINK_TEXT, 'Next')))\n",
    "                browser.execute_script(\"arguments[0].click();\", next_button)\n",
    "        except TimeoutException:\n",
    "            # If the overlay is not found, proceed with clicking the 'Next' button\n",
    "            next_button = wait.until(EC.element_to_be_clickable((By.LINK_TEXT, 'Next')))\n",
    "            next_button.click()\n",
    "\n",
    "    except Exception as e:\n",
    "        print(f\"An error occurred: {e}\")\n",
    "        break  # Break the loop in case of an error\n",
    "\n",
    "    no_of_pagedowns -= 1\n",
    "\n",
    "browser.quit()\n",
    "\n",
    "# Filter out empty strings or strings that only contain whitespace\n",
    "data['Headlines'] = [headline for headline in data['Headlines'] if headline.strip()]\n",
    "data['Dates'] = [date for date in data['Dates'] if date.strip()]\n",
    "data['Sources'] = [source for source in data['Sources'] if source.strip()]\n",
    "data['URLs'] = [url for url in data['URLs'] if url.strip()]"
   ]
  },
  {
   "cell_type": "code",
   "execution_count": null,
   "metadata": {},
   "outputs": [],
   "source": [
    "# Example substrings that we want to remove from the lists\n",
    "\n",
    "unwanted_headlines_substrings = [\n",
    "    \"2024 Financial Market Outlook by Octa\",\n",
    "    \"Stock Market Today: S&P 500 clinches record high as Meta's mega rally...\",\n",
    "    'Oil posts weekly losses as US data dents hopes for near-term rate cuts',\n",
    "    \"Payrolls, mega-cap tech earnings, Nvidia - what's moving markets\",\n",
    "    \"Stocks attracted $20 billion in inflows in a week to January 31 - BofA\",\n",
    "    \"Apple shares slip after iPhone sales miss estimates amid China...\",\n",
    "    'U.S. economy adds 353,000 jobs in January',\n",
    "     'US stocks rally on blowout jobs report, Meta-led gains in big tech',\n",
    "     'Buy any undue correction in quality AI leaders says UBS',\n",
    "     'Oil falls as US jobs data dents hope for near-term rate cuts',\n",
    "    \"Buy any undue correction in quality AI leaders says UBS\",\n",
    "    \"U.S. economy adds 353,000 jobs in January\",\n",
    "    \"Amazon top Q4 estimates as e-commerce shines, sending shares higher\",\n",
    "    \"'Patek Philippe of Internet': Analysts heap praise on Meta' Platforms...\",\n",
    "    \"Here Are the Winners of The UF AWARDS MEA 2024\",\n",
    "    \"Oil falls as US jobs data dents hope for near-term rate cuts\",\n",
    "    \"FXStarterKit by Forexware: A Solution Built for Global Expansion\",\n",
    "    \"UF Agency: Pioneering Strategic Fintech Marketing for Optimal Reach\",\n",
    "    \"Oil set for weekly loss despite gain on OPEC+ output decision\"\n",
    "]\n",
    "\n",
    "unwanted_dates_substrings = [\n",
    "    ' - Feb 02, 2024'\n",
    "]\n",
    "\n",
    "unwanted_sources_substrings = [\n",
    "    'By Investing.com Studios',\n",
    "    'By Investing.com - Feb 02, 2024 103',\n",
    "    'By Investing.com - Feb 02, 2024 3',\n",
    "    'By Investing.com - Feb 02, 2024 16',\n",
    "    'By Investing.com - Feb 02, 2024 7',\n",
    "    'By Investing.com - Feb 02, 2024 4',\n",
    "    'By Investing.com - Feb 02, 2024 107',\n",
    "    'By Investing.com - Feb 02, 2024 5',\n",
    "    'By Investing.com - Feb 02, 2024 24', 'By Investing.com - Feb 02, 2024 114',\n",
    "    'By Investing.com - Feb 02, 2024 9',\n",
    "    'By Reuters - Feb 02, 2024 5',\n",
    "    'By Investing.com - Feb 02, 2024 109',\n",
    "    'By Investing.com - Feb 02, 2024 6',\n",
    "    'By Reuters - Feb 02, 2024 4'\n",
    "]\n",
    "\n",
    "unwanted_urls_substrings = [\n",
    "    'https://www.investing.com/news/economic-indicators/us-economy-adds-353000-jobs-in-january-3291366',\n",
    "    'https://www.investing.com/news/stock-market-news/stock-market-today-sp-500-clinches-record-high-as-metas-mega-rally-fuels-bulls-3290624',\n",
    "     'https://www.investing.com/jp.php?v2=N3czbTViN2xmMG9lM2kxMTdkZj0zMTUxMyRmNDQ-ZSxnIWFoZDxhJ2ZuYH4ybjNpZBdjPGFpNSMyZGc1ZyZnJDdwM201ZDdsZjNvajN2MXA3a2Y_Mzw1PjMkZiU0Pg==',\n",
    "    'https://www.investing.com/jp.php?v2=YyM_YW45Yjk3YWxmYTs1Nz5qNG8zNTQ2MyRgMjsxYiszdT43YzsxdzQ8PCJgPDJoYhE_YDU9MiQ2YG48NXRhImMkP2FuP2I5N2JsaWEkNXQ-YjRtMzw0PzMkYCM7MQ==',\n",
    "    'https://www.investing.com/news/stock-market-news/buy-any-undue-correction-in-quality-ai-leaders-says-ubs-3291589',\n",
    "    'https://www.investing.com/news/stock-market-news/apple-q1-results-top-estimates-but-iphone-sales-fall-just-shy-amid-china-weakness-3290542',\n",
    "    'https://www.investing.com/news/commodities-news/oil-prices-gain-after-opec-maintains-output-cuts-3290687',\n",
    "    'https://www.investing.com/analysis/2-reasons-why-february-may-be-a-difficult-month-on-wall-street-200645728',\n",
    "     'https://www.investing.com/news/economy/payrolls-megacap-tech-earnings-nvidia--whats-moving-markets-3290897',\n",
    "    'https://www.investing.com/jp.php?v2=NnZmODViYzhhNzowMmgxMTdkZT40OzQ3ZXJvPWRubiczdTU8MWllIzY-PiAwbGU_YBNlOj83NSM0YjdlMXBnJDZxZjg1ZGM4YTQ6PzJ3MXA3a2U8NDs0P2Vybyxkbg==',\n",
    "    'https://www.investing.com/jp.php?v2=OXlmOGYxM2gxZz40Zz1hYTVmYzhmZjcyMyRmNDI4NXxjJWFoZz80cmRsPCI1aTVvM0BiPTU9Z3FlMzdlZyZgIzl-ZjhmNzNoMWQ-O2ciYSA1aWM6Zmk3PDMkZiUyOA==',\n",
    "     'https://www.investing.com/jp.php?v2=ZSU3aWYxNW5kMmxmYDoyMDJmNG9jZDQ0YXZkNjE7byYwdmVsYTkzdWVtanRkODFrYhFhPmRsYHY1Y248ZyZlJmUiN2lmNzVuZDFsaWAlMnMybjRtY2w0P2F2ZCcxOw==',\n",
    "    'https://www.investing.com/news/stock-market-news/dow-futures-tick-higher-as-tech-titans-report-nonfarm-payrolls-loom-3290624'\n",
    "]"
   ]
  },
  {
   "cell_type": "code",
   "execution_count": null,
   "metadata": {},
   "outputs": [],
   "source": [
    "data['Headlines'] = [headline for headline in data['Headlines']\n",
    "                     if not any(unwanted_substring in headline for unwanted_substring in unwanted_headlines_substrings)]"
   ]
  },
  {
   "cell_type": "code",
   "execution_count": null,
   "metadata": {},
   "outputs": [],
   "source": [
    "len(data['Headlines'])"
   ]
  },
  {
   "cell_type": "code",
   "execution_count": null,
   "metadata": {},
   "outputs": [],
   "source": [
    "data['Dates'] = [date for date in data['Dates']\n",
    "                     if not any(unwanted_substring in date for unwanted_substring in unwanted_dates_substrings)]"
   ]
  },
  {
   "cell_type": "code",
   "execution_count": null,
   "metadata": {},
   "outputs": [],
   "source": [
    "len(data['Dates'])"
   ]
  },
  {
   "cell_type": "code",
   "execution_count": null,
   "metadata": {},
   "outputs": [],
   "source": [
    "data['Sources'] = [source for source in data['Sources']\n",
    "                     if not any(unwanted_substring in source for unwanted_substring in unwanted_sources_substrings)]"
   ]
  },
  {
   "cell_type": "code",
   "execution_count": null,
   "metadata": {},
   "outputs": [],
   "source": [
    "len(data['Sources'])"
   ]
  },
  {
   "cell_type": "code",
   "execution_count": null,
   "metadata": {},
   "outputs": [],
   "source": [
    "data['URLs'] = [url for url in data['URLs']\n",
    "                     if not any(unwanted_substring in url for unwanted_substring in unwanted_urls_substrings)]"
   ]
  },
  {
   "cell_type": "code",
   "execution_count": null,
   "metadata": {},
   "outputs": [],
   "source": [
    "# Filter out URLs that end with '#comments'\n",
    "data['URLs'] = [url for url in data['URLs'] if not url.endswith('#comments')]\n",
    "print(f\"Cleaned URLs count: {len(data['URLs'])}\")"
   ]
  },
  {
   "cell_type": "code",
   "execution_count": null,
   "metadata": {},
   "outputs": [],
   "source": [
    "# Define the prefix to filter out\n",
    "unwanted_prefix = 'https://www.investing.com/jp.php?'\n",
    "\n",
    "# Filter the list to exclude URLs starting with the unwanted prefix\n",
    "data['URLs'] = [url for url in data['URLs'] if not url.startswith(unwanted_prefix)]\n",
    "\n",
    "print(f\"Filtered URLs count: {len(data['URLs'])}\")"
   ]
  },
  {
   "cell_type": "code",
   "execution_count": null,
   "metadata": {},
   "outputs": [],
   "source": [
    "# Remove duplicates while preserving order\n",
    "unique_urls = []\n",
    "seen = set()\n",
    "for url in data['URLs']:\n",
    "    if url not in seen:\n",
    "        unique_urls.append(url)\n",
    "        seen.add(url)\n",
    "\n",
    "# Update the data['URLs'] with the list of unique URLs\n",
    "data['URLs'] = unique_urls\n",
    "print(f\"Unique URLs count: {len(data['URLs'])}\")"
   ]
  },
  {
   "cell_type": "code",
   "execution_count": null,
   "metadata": {},
   "outputs": [],
   "source": [
    "df = pd.DataFrame(data)"
   ]
  },
  {
   "cell_type": "code",
   "execution_count": null,
   "metadata": {},
   "outputs": [],
   "source": [
    "df.to_excel('scraped_data9.xlsx', index=False)"
   ]
  },
  {
   "cell_type": "markdown",
   "metadata": {},
   "source": [
    "##### R10"
   ]
  },
  {
   "cell_type": "code",
   "execution_count": null,
   "metadata": {},
   "outputs": [],
   "source": [
    "# Chrome options for headless mode \n",
    "options = Options()\n",
    "options.headless = True  \n",
    "\n",
    "browser = webdriver.Chrome(executable_path=r'C:\\Users\\hab021\\Documents\\Driver\\chromedriver121.exe', options=options)\n",
    "\n",
    "url1 = 'https://www.investing.com/news/politics/900'\n",
    "browser.get(url1)\n",
    "\n",
    "# Data storage\n",
    "data = {\n",
    "    'Headlines': [],\n",
    "    'Dates': [],\n",
    "    'Sources': [],\n",
    "    'URLs': []\n",
    "}\n",
    "\n",
    "# Initialize wait\n",
    "wait = WebDriverWait(browser, 1)\n",
    "\n",
    "# Pages 1-1730\n",
    "no_of_pagedowns = 100\n",
    "\n",
    "while no_of_pagedowns:\n",
    "    try:\n",
    "        # Wait for elements to load and then find them\n",
    "        news_headlines = wait.until(EC.presence_of_all_elements_located((By.CLASS_NAME, \"title\")))     \n",
    "        news_dates = wait.until(EC.presence_of_all_elements_located((By.XPATH, \"//*[@class='date']\")))\n",
    "        news_sources = wait.until(EC.presence_of_all_elements_located((By.XPATH, \"//*[@class='articleDetails']\")))\n",
    "        news_urls = wait.until(EC.presence_of_all_elements_located((By.XPATH, \"//*[@id='leftColumn']//article//div/a\")))\n",
    "        \n",
    "        # Store the data in lists\n",
    "        for headline, date, source, headline in zip(news_headlines, news_dates, news_sources, news_headlines):\n",
    "            data['Headlines'].append(headline.text)\n",
    "            data['Dates'].append(date.text)\n",
    "            data['Sources'].append(source.text)\n",
    "            #data['URLs'].append(url.get_attribute('href'))\n",
    "            data['URLs'].append(headline.get_attribute('href'))\n",
    "\n",
    "        # Check for overlay and attempt to close it before clicking 'Next'\n",
    "        try:\n",
    "            overlay = browser.find_element(By.ID, \"transparentInner\")\n",
    "            if overlay:\n",
    "                # use JavaScript to ensure the 'Next' button is clicked\n",
    "                next_button = wait.until(EC.element_to_be_clickable((By.LINK_TEXT, 'Next')))\n",
    "                browser.execute_script(\"arguments[0].click();\", next_button)\n",
    "        except TimeoutException:\n",
    "            # If the overlay is not found, proceed with clicking the 'Next' button\n",
    "            next_button = wait.until(EC.element_to_be_clickable((By.LINK_TEXT, 'Next')))\n",
    "            next_button.click()\n",
    "\n",
    "    except Exception as e:\n",
    "        print(f\"An error occurred: {e}\")\n",
    "        break  # Break the loop in case of an error\n",
    "\n",
    "    no_of_pagedowns -= 1\n",
    "\n",
    "browser.quit()\n",
    "\n",
    "# Filter out empty strings or strings that only contain whitespace\n",
    "data['Headlines'] = [headline for headline in data['Headlines'] if headline.strip()]\n",
    "data['Dates'] = [date for date in data['Dates'] if date.strip()]\n",
    "data['Sources'] = [source for source in data['Sources'] if source.strip()]\n",
    "data['URLs'] = [url for url in data['URLs'] if url.strip()]"
   ]
  },
  {
   "cell_type": "code",
   "execution_count": null,
   "metadata": {},
   "outputs": [],
   "source": [
    "# Example substrings that we want to remove from the lists\n",
    "\n",
    "unwanted_headlines_substrings = [\n",
    "    \"2024 Financial Market Outlook by Octa\",\n",
    "    \"Stock Market Today: S&P 500 clinches record high as Meta's mega rally...\",\n",
    "    'Oil posts weekly losses as US data dents hopes for near-term rate cuts',\n",
    "    \"Payrolls, mega-cap tech earnings, Nvidia - what's moving markets\",\n",
    "    \"Stocks attracted $20 billion in inflows in a week to January 31 - BofA\",\n",
    "    \"Apple shares slip after iPhone sales miss estimates amid China...\",\n",
    "    'U.S. economy adds 353,000 jobs in January',\n",
    "     'US stocks rally on blowout jobs report, Meta-led gains in big tech',\n",
    "     'Buy any undue correction in quality AI leaders says UBS',\n",
    "     'Oil falls as US jobs data dents hope for near-term rate cuts',\n",
    "    \"Buy any undue correction in quality AI leaders says UBS\",\n",
    "    \"U.S. economy adds 353,000 jobs in January\",\n",
    "    \"Amazon top Q4 estimates as e-commerce shines, sending shares higher\",\n",
    "    \"'Patek Philippe of Internet': Analysts heap praise on Meta' Platforms...\",\n",
    "    \"Here Are the Winners of The UF AWARDS MEA 2024\",\n",
    "    \"Oil falls as US jobs data dents hope for near-term rate cuts\",\n",
    "    \"FXStarterKit by Forexware: A Solution Built for Global Expansion\",\n",
    "    \"UF Agency: Pioneering Strategic Fintech Marketing for Optimal Reach\",\n",
    "    \"Oil set for weekly loss despite gain on OPEC+ output decision\"\n",
    "]\n",
    "\n",
    "unwanted_dates_substrings = [\n",
    "    ' - Feb 02, 2024'\n",
    "]\n",
    "\n",
    "unwanted_sources_substrings = [\n",
    "    'By Investing.com Studios',\n",
    "    'By Investing.com - Feb 02, 2024 103',\n",
    "    'By Investing.com - Feb 02, 2024 3',\n",
    "    'By Investing.com - Feb 02, 2024 16',\n",
    "    'By Investing.com - Feb 02, 2024 7',\n",
    "    'By Investing.com - Feb 02, 2024 4',\n",
    "    'By Investing.com - Feb 02, 2024 107',\n",
    "    'By Investing.com - Feb 02, 2024 5',\n",
    "    'By Investing.com - Feb 02, 2024 24', 'By Investing.com - Feb 02, 2024 114',\n",
    "    'By Investing.com - Feb 02, 2024 9',\n",
    "    'By Reuters - Feb 02, 2024 5',\n",
    "    'By Investing.com - Feb 02, 2024 109',\n",
    "    'By Investing.com - Feb 02, 2024 6',\n",
    "    'By Reuters - Feb 02, 2024 4'\n",
    "]\n",
    "\n",
    "unwanted_urls_substrings = [\n",
    "    'https://www.investing.com/news/economic-indicators/us-economy-adds-353000-jobs-in-january-3291366',\n",
    "    'https://www.investing.com/news/stock-market-news/stock-market-today-sp-500-clinches-record-high-as-metas-mega-rally-fuels-bulls-3290624',\n",
    "     'https://www.investing.com/jp.php?v2=N3czbTViN2xmMG9lM2kxMTdkZj0zMTUxMyRmNDQ-ZSxnIWFoZDxhJ2ZuYH4ybjNpZBdjPGFpNSMyZGc1ZyZnJDdwM201ZDdsZjNvajN2MXA3a2Y_Mzw1PjMkZiU0Pg==',\n",
    "    'https://www.investing.com/jp.php?v2=YyM_YW45Yjk3YWxmYTs1Nz5qNG8zNTQ2MyRgMjsxYiszdT43YzsxdzQ8PCJgPDJoYhE_YDU9MiQ2YG48NXRhImMkP2FuP2I5N2JsaWEkNXQ-YjRtMzw0PzMkYCM7MQ==',\n",
    "    'https://www.investing.com/news/stock-market-news/buy-any-undue-correction-in-quality-ai-leaders-says-ubs-3291589',\n",
    "    'https://www.investing.com/news/stock-market-news/apple-q1-results-top-estimates-but-iphone-sales-fall-just-shy-amid-china-weakness-3290542',\n",
    "    'https://www.investing.com/news/commodities-news/oil-prices-gain-after-opec-maintains-output-cuts-3290687',\n",
    "    'https://www.investing.com/analysis/2-reasons-why-february-may-be-a-difficult-month-on-wall-street-200645728',\n",
    "     'https://www.investing.com/news/economy/payrolls-megacap-tech-earnings-nvidia--whats-moving-markets-3290897',\n",
    "    'https://www.investing.com/jp.php?v2=NnZmODViYzhhNzowMmgxMTdkZT40OzQ3ZXJvPWRubiczdTU8MWllIzY-PiAwbGU_YBNlOj83NSM0YjdlMXBnJDZxZjg1ZGM4YTQ6PzJ3MXA3a2U8NDs0P2Vybyxkbg==',\n",
    "    'https://www.investing.com/jp.php?v2=OXlmOGYxM2gxZz40Zz1hYTVmYzhmZjcyMyRmNDI4NXxjJWFoZz80cmRsPCI1aTVvM0BiPTU9Z3FlMzdlZyZgIzl-ZjhmNzNoMWQ-O2ciYSA1aWM6Zmk3PDMkZiUyOA==',\n",
    "     'https://www.investing.com/jp.php?v2=ZSU3aWYxNW5kMmxmYDoyMDJmNG9jZDQ0YXZkNjE7byYwdmVsYTkzdWVtanRkODFrYhFhPmRsYHY1Y248ZyZlJmUiN2lmNzVuZDFsaWAlMnMybjRtY2w0P2F2ZCcxOw==',\n",
    "    'https://www.investing.com/news/stock-market-news/dow-futures-tick-higher-as-tech-titans-report-nonfarm-payrolls-loom-3290624'\n",
    "]"
   ]
  },
  {
   "cell_type": "code",
   "execution_count": null,
   "metadata": {},
   "outputs": [],
   "source": [
    "data['Headlines'] = [headline for headline in data['Headlines']\n",
    "                     if not any(unwanted_substring in headline for unwanted_substring in unwanted_headlines_substrings)]"
   ]
  },
  {
   "cell_type": "code",
   "execution_count": null,
   "metadata": {},
   "outputs": [],
   "source": [
    "len(data['Headlines'])"
   ]
  },
  {
   "cell_type": "code",
   "execution_count": null,
   "metadata": {},
   "outputs": [],
   "source": [
    "data['Dates'] = [date for date in data['Dates']\n",
    "                     if not any(unwanted_substring in date for unwanted_substring in unwanted_dates_substrings)]"
   ]
  },
  {
   "cell_type": "code",
   "execution_count": null,
   "metadata": {},
   "outputs": [],
   "source": [
    "len(data['Dates'])"
   ]
  },
  {
   "cell_type": "code",
   "execution_count": null,
   "metadata": {},
   "outputs": [],
   "source": [
    "data['Sources'] = [source for source in data['Sources']\n",
    "                     if not any(unwanted_substring in source for unwanted_substring in unwanted_sources_substrings)]"
   ]
  },
  {
   "cell_type": "code",
   "execution_count": null,
   "metadata": {},
   "outputs": [],
   "source": [
    "len(data['Sources'])"
   ]
  },
  {
   "cell_type": "code",
   "execution_count": null,
   "metadata": {},
   "outputs": [],
   "source": [
    "data['URLs'] = [url for url in data['URLs']\n",
    "                     if not any(unwanted_substring in url for unwanted_substring in unwanted_urls_substrings)]"
   ]
  },
  {
   "cell_type": "code",
   "execution_count": null,
   "metadata": {},
   "outputs": [],
   "source": [
    "# Filter out URLs that end with '#comments'\n",
    "data['URLs'] = [url for url in data['URLs'] if not url.endswith('#comments')]\n",
    "print(f\"Cleaned URLs count: {len(data['URLs'])}\")"
   ]
  },
  {
   "cell_type": "code",
   "execution_count": null,
   "metadata": {},
   "outputs": [],
   "source": [
    "# Define the prefix to filter out\n",
    "unwanted_prefix = 'https://www.investing.com/jp.php?'\n",
    "\n",
    "# Filter the list to exclude URLs starting with the unwanted prefix\n",
    "data['URLs'] = [url for url in data['URLs'] if not url.startswith(unwanted_prefix)]\n",
    "\n",
    "print(f\"Filtered URLs count: {len(data['URLs'])}\")"
   ]
  },
  {
   "cell_type": "code",
   "execution_count": null,
   "metadata": {},
   "outputs": [],
   "source": [
    "# Remove duplicates while preserving order\n",
    "unique_urls = []\n",
    "seen = set()\n",
    "for url in data['URLs']:\n",
    "    if url not in seen:\n",
    "        unique_urls.append(url)\n",
    "        seen.add(url)\n",
    "\n",
    "# Update the data['URLs'] with the list of unique URLs\n",
    "data['URLs'] = unique_urls\n",
    "print(f\"Unique URLs count: {len(data['URLs'])}\")"
   ]
  },
  {
   "cell_type": "code",
   "execution_count": null,
   "metadata": {},
   "outputs": [],
   "source": [
    "df = pd.DataFrame(data)"
   ]
  },
  {
   "cell_type": "code",
   "execution_count": null,
   "metadata": {},
   "outputs": [],
   "source": [
    "df"
   ]
  },
  {
   "cell_type": "code",
   "execution_count": null,
   "metadata": {},
   "outputs": [],
   "source": [
    "df.to_excel('scraped_data10.xlsx', index=False)"
   ]
  },
  {
   "cell_type": "markdown",
   "metadata": {},
   "source": [
    "##### R11"
   ]
  },
  {
   "cell_type": "code",
   "execution_count": null,
   "metadata": {},
   "outputs": [],
   "source": [
    "# Chrome options for headless mode \n",
    "options = Options()\n",
    "options.headless = True  \n",
    "browser = webdriver.Chrome(executable_path=r'C:\\Users\\hab021\\Documents\\Driver\\chromedriver121.exe', options=options)\n",
    "\n",
    "url1 = 'https://www.investing.com/news/politics/1000'\n",
    "browser.get(url1)\n",
    "\n",
    "# Data storage\n",
    "data = {\n",
    "    'Headlines': [],\n",
    "    'Dates': [],\n",
    "    'Sources': [],\n",
    "    'URLs': []\n",
    "}\n",
    "\n",
    "# Initialize wait\n",
    "wait = WebDriverWait(browser, 1)\n",
    "\n",
    "# Pages 1-1730\n",
    "no_of_pagedowns = 100\n",
    "\n",
    "while no_of_pagedowns:\n",
    "    try:\n",
    "        # Wait for elements to load and then find them\n",
    "        news_headlines = wait.until(EC.presence_of_all_elements_located((By.CLASS_NAME, \"title\")))     \n",
    "        news_dates = wait.until(EC.presence_of_all_elements_located((By.XPATH, \"//*[@class='date']\")))\n",
    "        news_sources = wait.until(EC.presence_of_all_elements_located((By.XPATH, \"//*[@class='articleDetails']\")))\n",
    "        news_urls = wait.until(EC.presence_of_all_elements_located((By.XPATH, \"//*[@id='leftColumn']//article//div/a\")))\n",
    "        \n",
    "        # Store the data in lists\n",
    "        for headline, date, source, headline in zip(news_headlines, news_dates, news_sources, news_headlines):\n",
    "            data['Headlines'].append(headline.text)\n",
    "            data['Dates'].append(date.text)\n",
    "            data['Sources'].append(source.text)\n",
    "            #data['URLs'].append(url.get_attribute('href'))\n",
    "            data['URLs'].append(headline.get_attribute('href'))\n",
    "\n",
    "        # Check for overlay and attempt to close it before clicking 'Next'\n",
    "        try:\n",
    "            overlay = browser.find_element(By.ID, \"transparentInner\")\n",
    "            if overlay:\n",
    "                # use JavaScript to ensure the 'Next' button is clicked\n",
    "                next_button = wait.until(EC.element_to_be_clickable((By.LINK_TEXT, 'Next')))\n",
    "                browser.execute_script(\"arguments[0].click();\", next_button)\n",
    "        except TimeoutException:\n",
    "            # If the overlay is not found, proceed with clicking the 'Next' button\n",
    "            next_button = wait.until(EC.element_to_be_clickable((By.LINK_TEXT, 'Next')))\n",
    "            next_button.click()\n",
    "\n",
    "    except Exception as e:\n",
    "        print(f\"An error occurred: {e}\")\n",
    "        break  # Break the loop in case of an error\n",
    "\n",
    "    no_of_pagedowns -= 1\n",
    "\n",
    "# Quit the browser session\n",
    "browser.quit()\n",
    "\n",
    "# Filter out empty strings or strings that only contain whitespace\n",
    "data['Headlines'] = [headline for headline in data['Headlines'] if headline.strip()]\n",
    "data['Dates'] = [date for date in data['Dates'] if date.strip()]\n",
    "data['Sources'] = [source for source in data['Sources'] if source.strip()]\n",
    "data['URLs'] = [url for url in data['URLs'] if url.strip()]"
   ]
  },
  {
   "cell_type": "code",
   "execution_count": null,
   "metadata": {},
   "outputs": [],
   "source": [
    "# Example substrings that we want to remove from the lists\n",
    "\n",
    "unwanted_headlines_substrings = [\n",
    "    \"2024 Financial Market Outlook by Octa\",\n",
    "    \"Stock Market Today: S&P 500 clinches record high as Meta's mega rally...\",\n",
    "    'Oil posts weekly losses as US data dents hopes for near-term rate cuts',\n",
    "    \"Payrolls, mega-cap tech earnings, Nvidia - what's moving markets\",\n",
    "    \"Stocks attracted $20 billion in inflows in a week to January 31 - BofA\",\n",
    "    \"Apple shares slip after iPhone sales miss estimates amid China...\",\n",
    "    'U.S. economy adds 353,000 jobs in January',\n",
    "     'US stocks rally on blowout jobs report, Meta-led gains in big tech',\n",
    "     'Buy any undue correction in quality AI leaders says UBS',\n",
    "     'Oil falls as US jobs data dents hope for near-term rate cuts',\n",
    "    \"Buy any undue correction in quality AI leaders says UBS\",\n",
    "    \"U.S. economy adds 353,000 jobs in January\",\n",
    "    \"Amazon top Q4 estimates as e-commerce shines, sending shares higher\",\n",
    "    \"'Patek Philippe of Internet': Analysts heap praise on Meta' Platforms...\",\n",
    "    \"Here Are the Winners of The UF AWARDS MEA 2024\",\n",
    "    \"Oil falls as US jobs data dents hope for near-term rate cuts\",\n",
    "    \"FXStarterKit by Forexware: A Solution Built for Global Expansion\",\n",
    "    \"UF Agency: Pioneering Strategic Fintech Marketing for Optimal Reach\",\n",
    "    \"Oil set for weekly loss despite gain on OPEC+ output decision\"\n",
    "]\n",
    "\n",
    "unwanted_dates_substrings = [\n",
    "    ' - Feb 02, 2024'\n",
    "]\n",
    "\n",
    "unwanted_sources_substrings = [\n",
    "    'By Investing.com Studios',\n",
    "    'By Investing.com - Feb 02, 2024 103',\n",
    "    'By Investing.com - Feb 02, 2024 3',\n",
    "    'By Investing.com - Feb 02, 2024 16',\n",
    "    'By Investing.com - Feb 02, 2024 7',\n",
    "    'By Investing.com - Feb 02, 2024 4',\n",
    "    'By Investing.com - Feb 02, 2024 107',\n",
    "    'By Investing.com - Feb 02, 2024 5',\n",
    "    'By Investing.com - Feb 02, 2024 24', 'By Investing.com - Feb 02, 2024 114',\n",
    "    'By Investing.com - Feb 02, 2024 9',\n",
    "    'By Reuters - Feb 02, 2024 5',\n",
    "    'By Investing.com - Feb 02, 2024 109',\n",
    "    'By Investing.com - Feb 02, 2024 6',\n",
    "    'By Reuters - Feb 02, 2024 4'\n",
    "]\n",
    "\n",
    "unwanted_urls_substrings = [\n",
    "    'https://www.investing.com/news/economic-indicators/us-economy-adds-353000-jobs-in-january-3291366',\n",
    "    'https://www.investing.com/news/stock-market-news/stock-market-today-sp-500-clinches-record-high-as-metas-mega-rally-fuels-bulls-3290624',\n",
    "     'https://www.investing.com/jp.php?v2=N3czbTViN2xmMG9lM2kxMTdkZj0zMTUxMyRmNDQ-ZSxnIWFoZDxhJ2ZuYH4ybjNpZBdjPGFpNSMyZGc1ZyZnJDdwM201ZDdsZjNvajN2MXA3a2Y_Mzw1PjMkZiU0Pg==',\n",
    "    'https://www.investing.com/jp.php?v2=YyM_YW45Yjk3YWxmYTs1Nz5qNG8zNTQ2MyRgMjsxYiszdT43YzsxdzQ8PCJgPDJoYhE_YDU9MiQ2YG48NXRhImMkP2FuP2I5N2JsaWEkNXQ-YjRtMzw0PzMkYCM7MQ==',\n",
    "    'https://www.investing.com/news/stock-market-news/buy-any-undue-correction-in-quality-ai-leaders-says-ubs-3291589',\n",
    "    'https://www.investing.com/news/stock-market-news/apple-q1-results-top-estimates-but-iphone-sales-fall-just-shy-amid-china-weakness-3290542',\n",
    "    'https://www.investing.com/news/commodities-news/oil-prices-gain-after-opec-maintains-output-cuts-3290687',\n",
    "    'https://www.investing.com/analysis/2-reasons-why-february-may-be-a-difficult-month-on-wall-street-200645728',\n",
    "     'https://www.investing.com/news/economy/payrolls-megacap-tech-earnings-nvidia--whats-moving-markets-3290897',\n",
    "    'https://www.investing.com/jp.php?v2=NnZmODViYzhhNzowMmgxMTdkZT40OzQ3ZXJvPWRubiczdTU8MWllIzY-PiAwbGU_YBNlOj83NSM0YjdlMXBnJDZxZjg1ZGM4YTQ6PzJ3MXA3a2U8NDs0P2Vybyxkbg==',\n",
    "    'https://www.investing.com/jp.php?v2=OXlmOGYxM2gxZz40Zz1hYTVmYzhmZjcyMyRmNDI4NXxjJWFoZz80cmRsPCI1aTVvM0BiPTU9Z3FlMzdlZyZgIzl-ZjhmNzNoMWQ-O2ciYSA1aWM6Zmk3PDMkZiUyOA==',\n",
    "     'https://www.investing.com/jp.php?v2=ZSU3aWYxNW5kMmxmYDoyMDJmNG9jZDQ0YXZkNjE7byYwdmVsYTkzdWVtanRkODFrYhFhPmRsYHY1Y248ZyZlJmUiN2lmNzVuZDFsaWAlMnMybjRtY2w0P2F2ZCcxOw==',\n",
    "    'https://www.investing.com/news/stock-market-news/dow-futures-tick-higher-as-tech-titans-report-nonfarm-payrolls-loom-3290624'\n",
    "]"
   ]
  },
  {
   "cell_type": "code",
   "execution_count": null,
   "metadata": {},
   "outputs": [],
   "source": [
    "data['Headlines'] = [headline for headline in data['Headlines']\n",
    "                     if not any(unwanted_substring in headline for unwanted_substring in unwanted_headlines_substrings)]"
   ]
  },
  {
   "cell_type": "code",
   "execution_count": null,
   "metadata": {},
   "outputs": [],
   "source": [
    "len(data['Headlines'])"
   ]
  },
  {
   "cell_type": "code",
   "execution_count": null,
   "metadata": {},
   "outputs": [],
   "source": [
    "data['Dates'] = [date for date in data['Dates']\n",
    "                     if not any(unwanted_substring in date for unwanted_substring in unwanted_dates_substrings)]"
   ]
  },
  {
   "cell_type": "code",
   "execution_count": null,
   "metadata": {},
   "outputs": [],
   "source": [
    "len(data['Dates'])"
   ]
  },
  {
   "cell_type": "code",
   "execution_count": null,
   "metadata": {},
   "outputs": [],
   "source": [
    "data['Sources'] = [source for source in data['Sources']\n",
    "                     if not any(unwanted_substring in source for unwanted_substring in unwanted_sources_substrings)]"
   ]
  },
  {
   "cell_type": "code",
   "execution_count": null,
   "metadata": {},
   "outputs": [],
   "source": [
    "len(data['Sources'])"
   ]
  },
  {
   "cell_type": "code",
   "execution_count": null,
   "metadata": {},
   "outputs": [],
   "source": [
    "data['URLs'] = [url for url in data['URLs']\n",
    "                     if not any(unwanted_substring in url for unwanted_substring in unwanted_urls_substrings)]"
   ]
  },
  {
   "cell_type": "code",
   "execution_count": null,
   "metadata": {},
   "outputs": [],
   "source": [
    "# Filter out URLs that end with '#comments'\n",
    "data['URLs'] = [url for url in data['URLs'] if not url.endswith('#comments')]\n",
    "print(f\"Cleaned URLs count: {len(data['URLs'])}\")"
   ]
  },
  {
   "cell_type": "code",
   "execution_count": null,
   "metadata": {},
   "outputs": [],
   "source": [
    "# Define the prefix to filter out\n",
    "unwanted_prefix = 'https://www.investing.com/jp.php?'\n",
    "\n",
    "# Filter the list to exclude URLs starting with the unwanted prefix\n",
    "data['URLs'] = [url for url in data['URLs'] if not url.startswith(unwanted_prefix)]\n",
    "\n",
    "print(f\"Filtered URLs count: {len(data['URLs'])}\")"
   ]
  },
  {
   "cell_type": "code",
   "execution_count": null,
   "metadata": {},
   "outputs": [],
   "source": [
    "# Remove duplicates while preserving order\n",
    "unique_urls = []\n",
    "seen = set()\n",
    "for url in data['URLs']:\n",
    "    if url not in seen:\n",
    "        unique_urls.append(url)\n",
    "        seen.add(url)\n",
    "\n",
    "# Update the data['URLs'] with the list of unique URLs\n",
    "data['URLs'] = unique_urls\n",
    "print(f\"Unique URLs count: {len(data['URLs'])}\")"
   ]
  },
  {
   "cell_type": "code",
   "execution_count": null,
   "metadata": {},
   "outputs": [],
   "source": [
    "df = pd.DataFrame(data)"
   ]
  },
  {
   "cell_type": "code",
   "execution_count": null,
   "metadata": {},
   "outputs": [],
   "source": [
    "df"
   ]
  },
  {
   "cell_type": "code",
   "execution_count": null,
   "metadata": {},
   "outputs": [],
   "source": [
    "df.to_excel('scraped_data11.xlsx', index=False)"
   ]
  },
  {
   "cell_type": "markdown",
   "metadata": {},
   "source": [
    "##### R12"
   ]
  },
  {
   "cell_type": "code",
   "execution_count": null,
   "metadata": {},
   "outputs": [],
   "source": [
    "# Chrome options for headless mode \n",
    "options = Options()\n",
    "options.headless = True  \n",
    "\n",
    "browser = webdriver.Chrome(executable_path=r'C:\\Users\\hab021\\Documents\\Driver\\chromedriver121.exe', options=options)\n",
    "\n",
    "url1 = 'https://www.investing.com/news/politics/1100'\n",
    "browser.get(url1)\n",
    "\n",
    "# Data storage\n",
    "data = {\n",
    "    'Headlines': [],\n",
    "    'Dates': [],\n",
    "    'Sources': [],\n",
    "    'URLs': []\n",
    "}\n",
    "\n",
    "# Initialize wait\n",
    "wait = WebDriverWait(browser, 1)\n",
    "\n",
    "# Pages 1-1730\n",
    "no_of_pagedowns = 100\n",
    "\n",
    "while no_of_pagedowns:\n",
    "    try:\n",
    "        # Wait for elements to load and then find them\n",
    "        news_headlines = wait.until(EC.presence_of_all_elements_located((By.CLASS_NAME, \"title\")))     \n",
    "        news_dates = wait.until(EC.presence_of_all_elements_located((By.XPATH, \"//*[@class='date']\")))\n",
    "        news_sources = wait.until(EC.presence_of_all_elements_located((By.XPATH, \"//*[@class='articleDetails']\")))\n",
    "        news_urls = wait.until(EC.presence_of_all_elements_located((By.XPATH, \"//*[@id='leftColumn']//article//div/a\")))\n",
    "        \n",
    "        # Store the data in lists\n",
    "        for headline, date, source, headline in zip(news_headlines, news_dates, news_sources, news_headlines):\n",
    "            data['Headlines'].append(headline.text)\n",
    "            data['Dates'].append(date.text)\n",
    "            data['Sources'].append(source.text)\n",
    "            #data['URLs'].append(url.get_attribute('href'))\n",
    "            data['URLs'].append(headline.get_attribute('href'))\n",
    "\n",
    "        # Check for overlay and attempt to close it before clicking 'Next'\n",
    "        try:\n",
    "            overlay = browser.find_element(By.ID, \"transparentInner\")\n",
    "            if overlay:\n",
    "                #  use JavaScript to ensure the 'Next' button is clicked\n",
    "                next_button = wait.until(EC.element_to_be_clickable((By.LINK_TEXT, 'Next')))\n",
    "                browser.execute_script(\"arguments[0].click();\", next_button)\n",
    "        except TimeoutException:\n",
    "            # If the overlay is not found, proceed with clicking the 'Next' button\n",
    "            next_button = wait.until(EC.element_to_be_clickable((By.LINK_TEXT, 'Next')))\n",
    "            next_button.click()\n",
    "\n",
    "    except Exception as e:\n",
    "        print(f\"An error occurred: {e}\")\n",
    "        break  # Break the loop in case of an error\n",
    "\n",
    "    no_of_pagedowns -= 1\n",
    "\n",
    "# Quit the browser session\n",
    "browser.quit()\n",
    "\n",
    "# Filter out empty strings or strings that only contain whitespace\n",
    "data['Headlines'] = [headline for headline in data['Headlines'] if headline.strip()]\n",
    "data['Dates'] = [date for date in data['Dates'] if date.strip()]\n",
    "data['Sources'] = [source for source in data['Sources'] if source.strip()]\n",
    "data['URLs'] = [url for url in data['URLs'] if url.strip()]"
   ]
  },
  {
   "cell_type": "code",
   "execution_count": null,
   "metadata": {},
   "outputs": [],
   "source": [
    "# Example substrings that we want to remove from the lists\n",
    "\n",
    "unwanted_headlines_substrings = [\n",
    "    \"2024 Financial Market Outlook by Octa\",\n",
    "    \"Stock Market Today: S&P 500 clinches record high as Meta's mega rally...\",\n",
    "    'Oil posts weekly losses as US data dents hopes for near-term rate cuts',\n",
    "    \"Payrolls, mega-cap tech earnings, Nvidia - what's moving markets\",\n",
    "    \"Stocks attracted $20 billion in inflows in a week to January 31 - BofA\",\n",
    "    \"Apple shares slip after iPhone sales miss estimates amid China...\",\n",
    "    'U.S. economy adds 353,000 jobs in January',\n",
    "     'US stocks rally on blowout jobs report, Meta-led gains in big tech',\n",
    "     'Buy any undue correction in quality AI leaders says UBS',\n",
    "     'Oil falls as US jobs data dents hope for near-term rate cuts',\n",
    "    \"Buy any undue correction in quality AI leaders says UBS\",\n",
    "    \"U.S. economy adds 353,000 jobs in January\",\n",
    "    \"Amazon top Q4 estimates as e-commerce shines, sending shares higher\",\n",
    "    \"'Patek Philippe of Internet': Analysts heap praise on Meta' Platforms...\",\n",
    "    \"Here Are the Winners of The UF AWARDS MEA 2024\",\n",
    "    \"Oil falls as US jobs data dents hope for near-term rate cuts\",\n",
    "    \"FXStarterKit by Forexware: A Solution Built for Global Expansion\",\n",
    "    \"UF Agency: Pioneering Strategic Fintech Marketing for Optimal Reach\",\n",
    "    \"Oil set for weekly loss despite gain on OPEC+ output decision\"\n",
    "]\n",
    "\n",
    "unwanted_dates_substrings = [\n",
    "    ' - Feb 02, 2024'\n",
    "]\n",
    "\n",
    "unwanted_sources_substrings = [\n",
    "    'By Investing.com Studios',\n",
    "    'By Investing.com - Feb 02, 2024 103',\n",
    "    'By Investing.com - Feb 02, 2024 3',\n",
    "    'By Investing.com - Feb 02, 2024 16',\n",
    "    'By Investing.com - Feb 02, 2024 7',\n",
    "    'By Investing.com - Feb 02, 2024 4',\n",
    "    'By Investing.com - Feb 02, 2024 107',\n",
    "    'By Investing.com - Feb 02, 2024 5',\n",
    "    'By Investing.com - Feb 02, 2024 24', 'By Investing.com - Feb 02, 2024 114',\n",
    "    'By Investing.com - Feb 02, 2024 9',\n",
    "    'By Reuters - Feb 02, 2024 5',\n",
    "    'By Investing.com - Feb 02, 2024 109',\n",
    "    'By Investing.com - Feb 02, 2024 6',\n",
    "    'By Reuters - Feb 02, 2024 4'\n",
    "]\n",
    "\n",
    "unwanted_urls_substrings = [\n",
    "    'https://www.investing.com/news/economic-indicators/us-economy-adds-353000-jobs-in-january-3291366',\n",
    "    'https://www.investing.com/news/stock-market-news/stock-market-today-sp-500-clinches-record-high-as-metas-mega-rally-fuels-bulls-3290624',\n",
    "     'https://www.investing.com/jp.php?v2=N3czbTViN2xmMG9lM2kxMTdkZj0zMTUxMyRmNDQ-ZSxnIWFoZDxhJ2ZuYH4ybjNpZBdjPGFpNSMyZGc1ZyZnJDdwM201ZDdsZjNvajN2MXA3a2Y_Mzw1PjMkZiU0Pg==',\n",
    "    'https://www.investing.com/jp.php?v2=YyM_YW45Yjk3YWxmYTs1Nz5qNG8zNTQ2MyRgMjsxYiszdT43YzsxdzQ8PCJgPDJoYhE_YDU9MiQ2YG48NXRhImMkP2FuP2I5N2JsaWEkNXQ-YjRtMzw0PzMkYCM7MQ==',\n",
    "    'https://www.investing.com/news/stock-market-news/buy-any-undue-correction-in-quality-ai-leaders-says-ubs-3291589',\n",
    "    'https://www.investing.com/news/stock-market-news/apple-q1-results-top-estimates-but-iphone-sales-fall-just-shy-amid-china-weakness-3290542',\n",
    "    'https://www.investing.com/news/commodities-news/oil-prices-gain-after-opec-maintains-output-cuts-3290687',\n",
    "    'https://www.investing.com/analysis/2-reasons-why-february-may-be-a-difficult-month-on-wall-street-200645728',\n",
    "     'https://www.investing.com/news/economy/payrolls-megacap-tech-earnings-nvidia--whats-moving-markets-3290897',\n",
    "    'https://www.investing.com/jp.php?v2=NnZmODViYzhhNzowMmgxMTdkZT40OzQ3ZXJvPWRubiczdTU8MWllIzY-PiAwbGU_YBNlOj83NSM0YjdlMXBnJDZxZjg1ZGM4YTQ6PzJ3MXA3a2U8NDs0P2Vybyxkbg==',\n",
    "    'https://www.investing.com/jp.php?v2=OXlmOGYxM2gxZz40Zz1hYTVmYzhmZjcyMyRmNDI4NXxjJWFoZz80cmRsPCI1aTVvM0BiPTU9Z3FlMzdlZyZgIzl-ZjhmNzNoMWQ-O2ciYSA1aWM6Zmk3PDMkZiUyOA==',\n",
    "     'https://www.investing.com/jp.php?v2=ZSU3aWYxNW5kMmxmYDoyMDJmNG9jZDQ0YXZkNjE7byYwdmVsYTkzdWVtanRkODFrYhFhPmRsYHY1Y248ZyZlJmUiN2lmNzVuZDFsaWAlMnMybjRtY2w0P2F2ZCcxOw==',\n",
    "    'https://www.investing.com/news/stock-market-news/dow-futures-tick-higher-as-tech-titans-report-nonfarm-payrolls-loom-3290624'\n",
    "]"
   ]
  },
  {
   "cell_type": "code",
   "execution_count": null,
   "metadata": {},
   "outputs": [],
   "source": [
    "data['Headlines'] = [headline for headline in data['Headlines']\n",
    "                     if not any(unwanted_substring in headline for unwanted_substring in unwanted_headlines_substrings)]"
   ]
  },
  {
   "cell_type": "code",
   "execution_count": null,
   "metadata": {},
   "outputs": [],
   "source": [
    "len(data['Headlines'])"
   ]
  },
  {
   "cell_type": "code",
   "execution_count": null,
   "metadata": {},
   "outputs": [],
   "source": [
    "data['Dates'] = [date for date in data['Dates']\n",
    "                     if not any(unwanted_substring in date for unwanted_substring in unwanted_dates_substrings)]"
   ]
  },
  {
   "cell_type": "code",
   "execution_count": null,
   "metadata": {},
   "outputs": [],
   "source": [
    "len(data['Dates'])"
   ]
  },
  {
   "cell_type": "code",
   "execution_count": null,
   "metadata": {},
   "outputs": [],
   "source": [
    "data['Sources'] = [source for source in data['Sources']\n",
    "                     if not any(unwanted_substring in source for unwanted_substring in unwanted_sources_substrings)]"
   ]
  },
  {
   "cell_type": "code",
   "execution_count": null,
   "metadata": {},
   "outputs": [],
   "source": [
    "len(data['Sources'])"
   ]
  },
  {
   "cell_type": "code",
   "execution_count": null,
   "metadata": {},
   "outputs": [],
   "source": [
    "data['URLs'] = [url for url in data['URLs']\n",
    "                     if not any(unwanted_substring in url for unwanted_substring in unwanted_urls_substrings)]"
   ]
  },
  {
   "cell_type": "code",
   "execution_count": null,
   "metadata": {},
   "outputs": [],
   "source": [
    "# Filter out URLs that end with '#comments'\n",
    "data['URLs'] = [url for url in data['URLs'] if not url.endswith('#comments')]\n",
    "print(f\"Cleaned URLs count: {len(data['URLs'])}\")"
   ]
  },
  {
   "cell_type": "code",
   "execution_count": null,
   "metadata": {},
   "outputs": [],
   "source": [
    "# Define the prefix to filter out\n",
    "unwanted_prefix = 'https://www.investing.com/jp.php?'\n",
    "\n",
    "# Filter the list to exclude URLs starting with the unwanted prefix\n",
    "data['URLs'] = [url for url in data['URLs'] if not url.startswith(unwanted_prefix)]\n",
    "\n",
    "print(f\"Filtered URLs count: {len(data['URLs'])}\")"
   ]
  },
  {
   "cell_type": "code",
   "execution_count": null,
   "metadata": {},
   "outputs": [],
   "source": [
    "# Remove duplicates while preserving order\n",
    "unique_urls = []\n",
    "seen = set()\n",
    "for url in data['URLs']:\n",
    "    if url not in seen:\n",
    "        unique_urls.append(url)\n",
    "        seen.add(url)\n",
    "\n",
    "# Update the data['URLs'] with the list of unique URLs\n",
    "data['URLs'] = unique_urls\n",
    "print(f\"Unique URLs count: {len(data['URLs'])}\")"
   ]
  },
  {
   "cell_type": "code",
   "execution_count": null,
   "metadata": {},
   "outputs": [],
   "source": [
    "df = pd.DataFrame(data)"
   ]
  },
  {
   "cell_type": "code",
   "execution_count": null,
   "metadata": {},
   "outputs": [],
   "source": [
    "df.to_excel('scraped_data12.xlsx', index=False)"
   ]
  },
  {
   "cell_type": "markdown",
   "metadata": {},
   "source": [
    "##### R13"
   ]
  },
  {
   "cell_type": "code",
   "execution_count": null,
   "metadata": {},
   "outputs": [],
   "source": [
    "# Chrome options for headless mode \n",
    "options = Options()\n",
    "options.headless = True  \n",
    "browser = webdriver.Chrome(executable_path=r'C:\\Users\\hab021\\Documents\\Driver\\chromedriver121.exe', options=options)\n",
    "\n",
    "url1 = 'https://www.investing.com/news/politics/1200'\n",
    "browser.get(url1)\n",
    "\n",
    "# Data storage\n",
    "data = {\n",
    "    'Headlines': [],\n",
    "    'Dates': [],\n",
    "    'Sources': [],\n",
    "    'URLs': []\n",
    "}\n",
    "\n",
    "# Initialize wait\n",
    "wait = WebDriverWait(browser, 1)\n",
    "\n",
    "# Pages 1-1730\n",
    "no_of_pagedowns = 100\n",
    "\n",
    "while no_of_pagedowns:\n",
    "    try:\n",
    "        # Wait for elements to load and then find them\n",
    "        news_headlines = wait.until(EC.presence_of_all_elements_located((By.CLASS_NAME, \"title\")))     \n",
    "        news_dates = wait.until(EC.presence_of_all_elements_located((By.XPATH, \"//*[@class='date']\")))\n",
    "        news_sources = wait.until(EC.presence_of_all_elements_located((By.XPATH, \"//*[@class='articleDetails']\")))\n",
    "        news_urls = wait.until(EC.presence_of_all_elements_located((By.XPATH, \"//*[@id='leftColumn']//article//div/a\")))\n",
    "        \n",
    "        # Store the data in lists\n",
    "        for headline, date, source, headline in zip(news_headlines, news_dates, news_sources, news_headlines):\n",
    "            data['Headlines'].append(headline.text)\n",
    "            data['Dates'].append(date.text)\n",
    "            data['Sources'].append(source.text)\n",
    "            #data['URLs'].append(url.get_attribute('href'))\n",
    "            data['URLs'].append(headline.get_attribute('href'))\n",
    "\n",
    "        # Check for overlay and attempt to close it before clicking 'Next'\n",
    "        try:\n",
    "            overlay = browser.find_element(By.ID, \"transparentInner\")\n",
    "            if overlay:\n",
    "                # use JavaScript to ensure the 'Next' button is clicked\n",
    "                next_button = wait.until(EC.element_to_be_clickable((By.LINK_TEXT, 'Next')))\n",
    "                browser.execute_script(\"arguments[0].click();\", next_button)\n",
    "        except TimeoutException:\n",
    "            # If the overlay is not found, proceed with clicking the 'Next' button\n",
    "            next_button = wait.until(EC.element_to_be_clickable((By.LINK_TEXT, 'Next')))\n",
    "            next_button.click()\n",
    "\n",
    "    except Exception as e:\n",
    "        print(f\"An error occurred: {e}\")\n",
    "        break  # Break the loop in case of an error\n",
    "\n",
    "    no_of_pagedowns -= 1\n",
    "\n",
    "# Quit the browser session\n",
    "browser.quit()\n",
    "\n",
    "# Filter out empty strings or strings that only contain whitespace\n",
    "data['Headlines'] = [headline for headline in data['Headlines'] if headline.strip()]\n",
    "data['Dates'] = [date for date in data['Dates'] if date.strip()]\n",
    "data['Sources'] = [source for source in data['Sources'] if source.strip()]\n",
    "data['URLs'] = [url for url in data['URLs'] if url.strip()]"
   ]
  },
  {
   "cell_type": "code",
   "execution_count": null,
   "metadata": {},
   "outputs": [],
   "source": [
    "# Example substrings that we want to remove from the lists\n",
    "\n",
    "unwanted_headlines_substrings = [\n",
    "    \"2024 Financial Market Outlook by Octa\",\n",
    "    \"Stock Market Today: S&P 500 clinches record high as Meta's mega rally...\",\n",
    "    'Oil posts weekly losses as US data dents hopes for near-term rate cuts',\n",
    "    \"Payrolls, mega-cap tech earnings, Nvidia - what's moving markets\",\n",
    "    \"Stocks attracted $20 billion in inflows in a week to January 31 - BofA\",\n",
    "    \"Apple shares slip after iPhone sales miss estimates amid China...\",\n",
    "    'U.S. economy adds 353,000 jobs in January',\n",
    "     'US stocks rally on blowout jobs report, Meta-led gains in big tech',\n",
    "     'Buy any undue correction in quality AI leaders says UBS',\n",
    "     'Oil falls as US jobs data dents hope for near-term rate cuts',\n",
    "    \"Buy any undue correction in quality AI leaders says UBS\",\n",
    "    \"U.S. economy adds 353,000 jobs in January\",\n",
    "    \"Amazon top Q4 estimates as e-commerce shines, sending shares higher\",\n",
    "    \"'Patek Philippe of Internet': Analysts heap praise on Meta' Platforms...\",\n",
    "    \"Here Are the Winners of The UF AWARDS MEA 2024\",\n",
    "    \"Oil falls as US jobs data dents hope for near-term rate cuts\",\n",
    "    \"FXStarterKit by Forexware: A Solution Built for Global Expansion\",\n",
    "    \"UF Agency: Pioneering Strategic Fintech Marketing for Optimal Reach\",\n",
    "    \"Oil set for weekly loss despite gain on OPEC+ output decision\"\n",
    "]\n",
    "\n",
    "unwanted_dates_substrings = [\n",
    "    ' - Feb 02, 2024'\n",
    "]\n",
    "\n",
    "unwanted_sources_substrings = [\n",
    "    'By Investing.com Studios',\n",
    "    'By Investing.com - Feb 02, 2024 103',\n",
    "    'By Investing.com - Feb 02, 2024 3',\n",
    "    'By Investing.com - Feb 02, 2024 16',\n",
    "    'By Investing.com - Feb 02, 2024 7',\n",
    "    'By Investing.com - Feb 02, 2024 4',\n",
    "    'By Investing.com - Feb 02, 2024 107',\n",
    "    'By Investing.com - Feb 02, 2024 5',\n",
    "    'By Investing.com - Feb 02, 2024 24', 'By Investing.com - Feb 02, 2024 114',\n",
    "    'By Investing.com - Feb 02, 2024 9',\n",
    "    'By Reuters - Feb 02, 2024 5', 'By Investing.com - Feb 02, 2024 115',\n",
    "    'By Investing.com - Feb 02, 2024 109',\n",
    "    'By Investing.com - Feb 02, 2024 6',\n",
    "    'By Reuters - Feb 02, 2024 4'\n",
    "]\n",
    "\n",
    "unwanted_urls_substrings = [\n",
    "    'https://www.investing.com/news/economic-indicators/us-economy-adds-353000-jobs-in-january-3291366',\n",
    "    'https://www.investing.com/news/stock-market-news/stocks-attracted-20-billion-in-inflows-in-a-week-to-january-31--bofa-3291388',\n",
    "    'https://www.investing.com/news/stock-market-news/stock-market-today-sp-500-clinches-record-high-as-metas-mega-rally-fuels-bulls-3290624',\n",
    "     'https://www.investing.com/jp.php?v2=N3czbTViN2xmMG9lM2kxMTdkZj0zMTUxMyRmNDQ-ZSxnIWFoZDxhJ2ZuYH4ybjNpZBdjPGFpNSMyZGc1ZyZnJDdwM201ZDdsZjNvajN2MXA3a2Y_Mzw1PjMkZiU0Pg==',\n",
    "    'https://www.investing.com/jp.php?v2=YyM_YW45Yjk3YWxmYTs1Nz5qNG8zNTQ2MyRgMjsxYiszdT43YzsxdzQ8PCJgPDJoYhE_YDU9MiQ2YG48NXRhImMkP2FuP2I5N2JsaWEkNXQ-YjRtMzw0PzMkYCM7MQ==',\n",
    "    'https://www.investing.com/news/stock-market-news/buy-any-undue-correction-in-quality-ai-leaders-says-ubs-3291589',\n",
    "    'https://www.investing.com/news/stock-market-news/apple-q1-results-top-estimates-but-iphone-sales-fall-just-shy-amid-china-weakness-3290542',\n",
    "    'https://www.investing.com/news/commodities-news/oil-prices-gain-after-opec-maintains-output-cuts-3290687',\n",
    "    'https://www.investing.com/analysis/2-reasons-why-february-may-be-a-difficult-month-on-wall-street-200645728',\n",
    "     'https://www.investing.com/news/economy/payrolls-megacap-tech-earnings-nvidia--whats-moving-markets-3290897',\n",
    "    'https://www.investing.com/jp.php?v2=NnZmODViYzhhNzowMmgxMTdkZT40OzQ3ZXJvPWRubiczdTU8MWllIzY-PiAwbGU_YBNlOj83NSM0YjdlMXBnJDZxZjg1ZGM4YTQ6PzJ3MXA3a2U8NDs0P2Vybyxkbg==',\n",
    "    'https://www.investing.com/jp.php?v2=OXlmOGYxM2gxZz40Zz1hYTVmYzhmZjcyMyRmNDI4NXxjJWFoZz80cmRsPCI1aTVvM0BiPTU9Z3FlMzdlZyZgIzl-ZjhmNzNoMWQ-O2ciYSA1aWM6Zmk3PDMkZiUyOA==',\n",
    "     'https://www.investing.com/jp.php?v2=ZSU3aWYxNW5kMmxmYDoyMDJmNG9jZDQ0YXZkNjE7byYwdmVsYTkzdWVtanRkODFrYhFhPmRsYHY1Y248ZyZlJmUiN2lmNzVuZDFsaWAlMnMybjRtY2w0P2F2ZCcxOw==',\n",
    "    'https://www.investing.com/news/stock-market-news/dow-futures-tick-higher-as-tech-titans-report-nonfarm-payrolls-loom-3290624'\n",
    "]"
   ]
  },
  {
   "cell_type": "code",
   "execution_count": null,
   "metadata": {},
   "outputs": [],
   "source": [
    "data['Headlines'] = [headline for headline in data['Headlines']\n",
    "                     if not any(unwanted_substring in headline for unwanted_substring in unwanted_headlines_substrings)]"
   ]
  },
  {
   "cell_type": "code",
   "execution_count": null,
   "metadata": {},
   "outputs": [],
   "source": [
    "len(data['Headlines'])"
   ]
  },
  {
   "cell_type": "code",
   "execution_count": null,
   "metadata": {},
   "outputs": [],
   "source": [
    "data['Dates'] = [date for date in data['Dates']\n",
    "                     if not any(unwanted_substring in date for unwanted_substring in unwanted_dates_substrings)]"
   ]
  },
  {
   "cell_type": "code",
   "execution_count": null,
   "metadata": {},
   "outputs": [],
   "source": [
    "len(data['Dates'])"
   ]
  },
  {
   "cell_type": "code",
   "execution_count": null,
   "metadata": {},
   "outputs": [],
   "source": [
    "data['Sources'] = [source for source in data['Sources']\n",
    "                     if not any(unwanted_substring in source for unwanted_substring in unwanted_sources_substrings)]"
   ]
  },
  {
   "cell_type": "code",
   "execution_count": null,
   "metadata": {},
   "outputs": [],
   "source": [
    "len(data['Sources'])"
   ]
  },
  {
   "cell_type": "code",
   "execution_count": null,
   "metadata": {},
   "outputs": [],
   "source": [
    "data['URLs'] = [url for url in data['URLs']\n",
    "                     if not any(unwanted_substring in url for unwanted_substring in unwanted_urls_substrings)]"
   ]
  },
  {
   "cell_type": "code",
   "execution_count": null,
   "metadata": {},
   "outputs": [],
   "source": [
    "# Filter out URLs that end with '#comments'\n",
    "data['URLs'] = [url for url in data['URLs'] if not url.endswith('#comments')]\n",
    "print(f\"Cleaned URLs count: {len(data['URLs'])}\")"
   ]
  },
  {
   "cell_type": "code",
   "execution_count": null,
   "metadata": {},
   "outputs": [],
   "source": [
    "# Define the prefix to filter out\n",
    "unwanted_prefix = 'https://www.investing.com/jp.php?'\n",
    "\n",
    "# Filter the list to exclude URLs starting with the unwanted prefix\n",
    "data['URLs'] = [url for url in data['URLs'] if not url.startswith(unwanted_prefix)]\n",
    "\n",
    "print(f\"Filtered URLs count: {len(data['URLs'])}\")"
   ]
  },
  {
   "cell_type": "code",
   "execution_count": null,
   "metadata": {},
   "outputs": [],
   "source": [
    "# Remove duplicates while preserving order\n",
    "unique_urls = []\n",
    "seen = set()\n",
    "for url in data['URLs']:\n",
    "    if url not in seen:\n",
    "        unique_urls.append(url)\n",
    "        seen.add(url)\n",
    "\n",
    "# Update the data['URLs'] with the list of unique URLs\n",
    "data['URLs'] = unique_urls\n",
    "print(f\"Unique URLs count: {len(data['URLs'])}\")"
   ]
  },
  {
   "cell_type": "code",
   "execution_count": null,
   "metadata": {},
   "outputs": [],
   "source": [
    "df = pd.DataFrame(data)"
   ]
  },
  {
   "cell_type": "code",
   "execution_count": null,
   "metadata": {},
   "outputs": [],
   "source": [
    "df.to_excel('scraped_data13.xlsx', index=False)"
   ]
  },
  {
   "cell_type": "markdown",
   "metadata": {},
   "source": [
    "##### R14"
   ]
  },
  {
   "cell_type": "code",
   "execution_count": null,
   "metadata": {},
   "outputs": [],
   "source": [
    "# Chrome options for headless mode \n",
    "options = Options()\n",
    "options.headless = True  \n",
    "browser = webdriver.Chrome(executable_path=r'C:\\Users\\hab021\\Documents\\Driver\\chromedriver121.exe', options=options)\n",
    "\n",
    "url1 = 'https://www.investing.com/news/politics/1300'\n",
    "browser.get(url1)\n",
    "\n",
    "# Data storage\n",
    "data = {\n",
    "    'Headlines': [],\n",
    "    'Dates': [],\n",
    "    'Sources': [],\n",
    "    'URLs': []\n",
    "}\n",
    "\n",
    "# Initialize wait\n",
    "wait = WebDriverWait(browser, 1)\n",
    "\n",
    "# Pages 1-1730\n",
    "no_of_pagedowns = 100\n",
    "\n",
    "while no_of_pagedowns:\n",
    "    try:\n",
    "        # Wait for elements to load and then find them\n",
    "        news_headlines = wait.until(EC.presence_of_all_elements_located((By.CLASS_NAME, \"title\")))     \n",
    "        news_dates = wait.until(EC.presence_of_all_elements_located((By.XPATH, \"//*[@class='date']\")))\n",
    "        news_sources = wait.until(EC.presence_of_all_elements_located((By.XPATH, \"//*[@class='articleDetails']\")))\n",
    "        news_urls = wait.until(EC.presence_of_all_elements_located((By.XPATH, \"//*[@id='leftColumn']//article//div/a\")))\n",
    "        \n",
    "        # Store the data in lists\n",
    "        for headline, date, source, headline in zip(news_headlines, news_dates, news_sources, news_headlines):\n",
    "            data['Headlines'].append(headline.text)\n",
    "            data['Dates'].append(date.text)\n",
    "            data['Sources'].append(source.text)\n",
    "            #data['URLs'].append(url.get_attribute('href'))\n",
    "            data['URLs'].append(headline.get_attribute('href'))\n",
    "\n",
    "        # Check for overlay and attempt to close it before clicking 'Next'\n",
    "        try:\n",
    "            overlay = browser.find_element(By.ID, \"transparentInner\")\n",
    "            if overlay:\n",
    "                # use JavaScript to ensure the 'Next' button is clicked\n",
    "                next_button = wait.until(EC.element_to_be_clickable((By.LINK_TEXT, 'Next')))\n",
    "                browser.execute_script(\"arguments[0].click();\", next_button)\n",
    "        except TimeoutException:\n",
    "            # If the overlay is not found, proceed with clicking the 'Next' button\n",
    "            next_button = wait.until(EC.element_to_be_clickable((By.LINK_TEXT, 'Next')))\n",
    "            next_button.click()\n",
    "\n",
    "    except Exception as e:\n",
    "        print(f\"An error occurred: {e}\")\n",
    "        break  # Break the loop in case of an error\n",
    "\n",
    "    no_of_pagedowns -= 1\n",
    "\n",
    "# Quit the browser session\n",
    "browser.quit()\n",
    "\n",
    "# Filter out empty strings or strings that only contain whitespace\n",
    "data['Headlines'] = [headline for headline in data['Headlines'] if headline.strip()]\n",
    "data['Dates'] = [date for date in data['Dates'] if date.strip()]\n",
    "data['Sources'] = [source for source in data['Sources'] if source.strip()]\n",
    "data['URLs'] = [url for url in data['URLs'] if url.strip()]"
   ]
  },
  {
   "cell_type": "code",
   "execution_count": null,
   "metadata": {},
   "outputs": [],
   "source": [
    "# Example substrings that we want to remove from the lists\n",
    "\n",
    "unwanted_headlines_substrings = [\n",
    "    \"2024 Financial Market Outlook by Octa\",\n",
    "    \"Stock Market Today: S&P 500 clinches record high as Meta's mega rally...\",\n",
    "    'Oil posts weekly losses as US data dents hopes for near-term rate cuts',\n",
    "    \"Payrolls, mega-cap tech earnings, Nvidia - what's moving markets\",\n",
    "    \"Stocks attracted $20 billion in inflows in a week to January 31 - BofA\",\n",
    "    \"Apple shares slip after iPhone sales miss estimates amid China...\",\n",
    "    'U.S. economy adds 353,000 jobs in January',\n",
    "     'US stocks rally on blowout jobs report, Meta-led gains in big tech',\n",
    "     'Buy any undue correction in quality AI leaders says UBS',\n",
    "     'Oil falls as US jobs data dents hope for near-term rate cuts',\n",
    "    \"Buy any undue correction in quality AI leaders says UBS\",\n",
    "    \"U.S. economy adds 353,000 jobs in January\",\n",
    "    \"Amazon top Q4 estimates as e-commerce shines, sending shares higher\",\n",
    "    \"'Patek Philippe of Internet': Analysts heap praise on Meta' Platforms...\",\n",
    "    \"Here Are the Winners of The UF AWARDS MEA 2024\",\n",
    "    \"Oil falls as US jobs data dents hope for near-term rate cuts\",\n",
    "    \"FXStarterKit by Forexware: A Solution Built for Global Expansion\",\n",
    "    \"UF Agency: Pioneering Strategic Fintech Marketing for Optimal Reach\",\n",
    "    \"Oil set for weekly loss despite gain on OPEC+ output decision\"\n",
    "]\n",
    "\n",
    "unwanted_dates_substrings = [\n",
    "    ' - Feb 02, 2024'\n",
    "]\n",
    "\n",
    "unwanted_sources_substrings = [\n",
    "    'By Investing.com Studios',\n",
    "    'By Investing.com - Feb 02, 2024 103',\n",
    "    'By Investing.com - Feb 02, 2024 3',\n",
    "    'By Investing.com - Feb 02, 2024 16',\n",
    "    'By Investing.com - Feb 02, 2024 7',\n",
    "    'By Investing.com - Feb 02, 2024 4',\n",
    "    'By Investing.com - Feb 02, 2024 107',\n",
    "    'By Investing.com - Feb 02, 2024 5',\n",
    "    'By Investing.com - Feb 02, 2024 24', 'By Investing.com - Feb 02, 2024 114',\n",
    "    'By Investing.com - Feb 02, 2024 9',\n",
    "    'By Reuters - Feb 02, 2024 5', 'By Investing.com - Feb 02, 2024 115',\n",
    "    'By Investing.com - Feb 02, 2024 109',\n",
    "    'By Investing.com - Feb 02, 2024 6',\n",
    "    'By Reuters - Feb 02, 2024 4'\n",
    "]\n",
    "\n",
    "unwanted_urls_substrings = [\n",
    "    'https://www.investing.com/news/economic-indicators/us-economy-adds-353000-jobs-in-january-3291366',\n",
    "    'https://www.investing.com/news/stock-market-news/stocks-attracted-20-billion-in-inflows-in-a-week-to-january-31--bofa-3291388',\n",
    "    'https://www.investing.com/news/stock-market-news/stock-market-today-sp-500-clinches-record-high-as-metas-mega-rally-fuels-bulls-3290624',\n",
    "     'https://www.investing.com/jp.php?v2=N3czbTViN2xmMG9lM2kxMTdkZj0zMTUxMyRmNDQ-ZSxnIWFoZDxhJ2ZuYH4ybjNpZBdjPGFpNSMyZGc1ZyZnJDdwM201ZDdsZjNvajN2MXA3a2Y_Mzw1PjMkZiU0Pg==',\n",
    "    'https://www.investing.com/jp.php?v2=YyM_YW45Yjk3YWxmYTs1Nz5qNG8zNTQ2MyRgMjsxYiszdT43YzsxdzQ8PCJgPDJoYhE_YDU9MiQ2YG48NXRhImMkP2FuP2I5N2JsaWEkNXQ-YjRtMzw0PzMkYCM7MQ==',\n",
    "    'https://www.investing.com/news/stock-market-news/buy-any-undue-correction-in-quality-ai-leaders-says-ubs-3291589',\n",
    "    'https://www.investing.com/news/stock-market-news/apple-q1-results-top-estimates-but-iphone-sales-fall-just-shy-amid-china-weakness-3290542',\n",
    "    'https://www.investing.com/news/commodities-news/oil-prices-gain-after-opec-maintains-output-cuts-3290687',\n",
    "    'https://www.investing.com/analysis/2-reasons-why-february-may-be-a-difficult-month-on-wall-street-200645728',\n",
    "     'https://www.investing.com/news/economy/payrolls-megacap-tech-earnings-nvidia--whats-moving-markets-3290897',\n",
    "    'https://www.investing.com/jp.php?v2=NnZmODViYzhhNzowMmgxMTdkZT40OzQ3ZXJvPWRubiczdTU8MWllIzY-PiAwbGU_YBNlOj83NSM0YjdlMXBnJDZxZjg1ZGM4YTQ6PzJ3MXA3a2U8NDs0P2Vybyxkbg==',\n",
    "    'https://www.investing.com/jp.php?v2=OXlmOGYxM2gxZz40Zz1hYTVmYzhmZjcyMyRmNDI4NXxjJWFoZz80cmRsPCI1aTVvM0BiPTU9Z3FlMzdlZyZgIzl-ZjhmNzNoMWQ-O2ciYSA1aWM6Zmk3PDMkZiUyOA==',\n",
    "     'https://www.investing.com/jp.php?v2=ZSU3aWYxNW5kMmxmYDoyMDJmNG9jZDQ0YXZkNjE7byYwdmVsYTkzdWVtanRkODFrYhFhPmRsYHY1Y248ZyZlJmUiN2lmNzVuZDFsaWAlMnMybjRtY2w0P2F2ZCcxOw==',\n",
    "    'https://www.investing.com/news/stock-market-news/dow-futures-tick-higher-as-tech-titans-report-nonfarm-payrolls-loom-3290624'\n",
    "]"
   ]
  },
  {
   "cell_type": "code",
   "execution_count": null,
   "metadata": {},
   "outputs": [],
   "source": [
    "data['Headlines'] = [headline for headline in data['Headlines']\n",
    "                     if not any(unwanted_substring in headline for unwanted_substring in unwanted_headlines_substrings)]"
   ]
  },
  {
   "cell_type": "code",
   "execution_count": null,
   "metadata": {},
   "outputs": [],
   "source": [
    "len(data['Headlines'])"
   ]
  },
  {
   "cell_type": "code",
   "execution_count": null,
   "metadata": {},
   "outputs": [],
   "source": [
    "data['Dates'] = [date for date in data['Dates']\n",
    "                     if not any(unwanted_substring in date for unwanted_substring in unwanted_dates_substrings)]"
   ]
  },
  {
   "cell_type": "code",
   "execution_count": null,
   "metadata": {},
   "outputs": [],
   "source": [
    "len(data['Dates'])"
   ]
  },
  {
   "cell_type": "code",
   "execution_count": null,
   "metadata": {},
   "outputs": [],
   "source": [
    "data['Sources'] = [source for source in data['Sources']\n",
    "                     if not any(unwanted_substring in source for unwanted_substring in unwanted_sources_substrings)]"
   ]
  },
  {
   "cell_type": "code",
   "execution_count": null,
   "metadata": {},
   "outputs": [],
   "source": [
    "len(data['Sources'])"
   ]
  },
  {
   "cell_type": "code",
   "execution_count": null,
   "metadata": {},
   "outputs": [],
   "source": [
    "data['URLs'] = [url for url in data['URLs']\n",
    "                     if not any(unwanted_substring in url for unwanted_substring in unwanted_urls_substrings)]"
   ]
  },
  {
   "cell_type": "code",
   "execution_count": null,
   "metadata": {},
   "outputs": [],
   "source": [
    "# Filter out URLs that end with '#comments'\n",
    "data['URLs'] = [url for url in data['URLs'] if not url.endswith('#comments')]\n",
    "print(f\"Cleaned URLs count: {len(data['URLs'])}\")"
   ]
  },
  {
   "cell_type": "code",
   "execution_count": null,
   "metadata": {},
   "outputs": [],
   "source": [
    "# Define the prefix to filter out\n",
    "unwanted_prefix = 'https://www.investing.com/jp.php?'\n",
    "\n",
    "# Filter the list to exclude URLs starting with the unwanted prefix\n",
    "data['URLs'] = [url for url in data['URLs'] if not url.startswith(unwanted_prefix)]\n",
    "\n",
    "print(f\"Filtered URLs count: {len(data['URLs'])}\")"
   ]
  },
  {
   "cell_type": "code",
   "execution_count": null,
   "metadata": {},
   "outputs": [],
   "source": [
    "# Remove duplicates while preserving order\n",
    "unique_urls = []\n",
    "seen = set()\n",
    "for url in data['URLs']:\n",
    "    if url not in seen:\n",
    "        unique_urls.append(url)\n",
    "        seen.add(url)\n",
    "\n",
    "# Update the data['URLs'] with the list of unique URLs\n",
    "data['URLs'] = unique_urls\n",
    "print(f\"Unique URLs count: {len(data['URLs'])}\")"
   ]
  },
  {
   "cell_type": "code",
   "execution_count": null,
   "metadata": {},
   "outputs": [],
   "source": [
    "df = pd.DataFrame(data)"
   ]
  },
  {
   "cell_type": "code",
   "execution_count": null,
   "metadata": {},
   "outputs": [],
   "source": [
    "df.to_excel('scraped_data14.xlsx', index=False)"
   ]
  },
  {
   "cell_type": "markdown",
   "metadata": {},
   "source": [
    "##### R15"
   ]
  },
  {
   "cell_type": "code",
   "execution_count": null,
   "metadata": {},
   "outputs": [],
   "source": [
    "# Chrome options for headless mode \n",
    "options = Options()\n",
    "options.headless = True \n",
    "browser = webdriver.Chrome(executable_path=r'C:\\Users\\hab021\\Documents\\Driver\\chromedriver121.exe', options=options)\n",
    "\n",
    "url1 = 'https://www.investing.com/news/politics/1400'\n",
    "browser.get(url1)\n",
    "\n",
    "# Data storage\n",
    "data = {\n",
    "    'Headlines': [],\n",
    "    'Dates': [],\n",
    "    'Sources': [],\n",
    "    'URLs': []\n",
    "}\n",
    "\n",
    "# Initialize wait\n",
    "wait = WebDriverWait(browser, 1)\n",
    "\n",
    "# Pages 1-1730\n",
    "no_of_pagedowns = 100\n",
    "\n",
    "while no_of_pagedowns:\n",
    "    try:\n",
    "        # Wait for elements to load and then find them\n",
    "        news_headlines = wait.until(EC.presence_of_all_elements_located((By.CLASS_NAME, \"title\")))     \n",
    "        news_dates = wait.until(EC.presence_of_all_elements_located((By.XPATH, \"//*[@class='date']\")))\n",
    "        news_sources = wait.until(EC.presence_of_all_elements_located((By.XPATH, \"//*[@class='articleDetails']\")))\n",
    "        news_urls = wait.until(EC.presence_of_all_elements_located((By.XPATH, \"//*[@id='leftColumn']//article//div/a\")))\n",
    "        \n",
    "        # Store the data in lists\n",
    "        for headline, date, source, headline in zip(news_headlines, news_dates, news_sources, news_headlines):\n",
    "            data['Headlines'].append(headline.text)\n",
    "            data['Dates'].append(date.text)\n",
    "            data['Sources'].append(source.text)\n",
    "            #data['URLs'].append(url.get_attribute('href'))\n",
    "            data['URLs'].append(headline.get_attribute('href'))\n",
    "\n",
    "        # Check for overlay and attempt to close it before clicking 'Next'\n",
    "        try:\n",
    "            overlay = browser.find_element(By.ID, \"transparentInner\")\n",
    "            if overlay:\n",
    "                # use JavaScript to ensure the 'Next' button is clicked\n",
    "                next_button = wait.until(EC.element_to_be_clickable((By.LINK_TEXT, 'Next')))\n",
    "                browser.execute_script(\"arguments[0].click();\", next_button)\n",
    "        except TimeoutException:\n",
    "            # If the overlay is not found, proceed with clicking the 'Next' button\n",
    "            next_button = wait.until(EC.element_to_be_clickable((By.LINK_TEXT, 'Next')))\n",
    "            next_button.click()\n",
    "\n",
    "    except Exception as e:\n",
    "        print(f\"An error occurred: {e}\")\n",
    "        break  # Break the loop in case of an error\n",
    "\n",
    "    no_of_pagedowns -= 1\n",
    "\n",
    "# Quit the browser session\n",
    "browser.quit()\n",
    "\n",
    "# Filter out empty strings or strings that only contain whitespace\n",
    "data['Headlines'] = [headline for headline in data['Headlines'] if headline.strip()]\n",
    "data['Dates'] = [date for date in data['Dates'] if date.strip()]\n",
    "data['Sources'] = [source for source in data['Sources'] if source.strip()]\n",
    "data['URLs'] = [url for url in data['URLs'] if url.strip()]"
   ]
  },
  {
   "cell_type": "code",
   "execution_count": null,
   "metadata": {},
   "outputs": [],
   "source": [
    "# Example substrings that we want to remove from the lists\n",
    "\n",
    "unwanted_headlines_substrings = [\n",
    "    \"2024 Financial Market Outlook by Octa\",\n",
    "    \"Stock Market Today: S&P 500 clinches record high as Meta's mega rally...\",\n",
    "    'Oil posts weekly losses as US data dents hopes for near-term rate cuts',\n",
    "    \"Payrolls, mega-cap tech earnings, Nvidia - what's moving markets\",\n",
    "    \"Stocks attracted $20 billion in inflows in a week to January 31 - BofA\",\n",
    "    \"Apple shares slip after iPhone sales miss estimates amid China...\",\n",
    "    'U.S. economy adds 353,000 jobs in January',\n",
    "     'US stocks rally on blowout jobs report, Meta-led gains in big tech',\n",
    "     'Buy any undue correction in quality AI leaders says UBS',\n",
    "     'Oil falls as US jobs data dents hope for near-term rate cuts',\n",
    "    \"Buy any undue correction in quality AI leaders says UBS\",\n",
    "    \"U.S. economy adds 353,000 jobs in January\",\n",
    "    \"Amazon top Q4 estimates as e-commerce shines, sending shares higher\",\n",
    "    \"'Patek Philippe of Internet': Analysts heap praise on Meta' Platforms...\",\n",
    "    \"Here Are the Winners of The UF AWARDS MEA 2024\", 'US starts retaliatory strikes in Iraq and Syria against Iran-linked...',\n",
    "    \"Oil falls as US jobs data dents hope for near-term rate cuts\",\n",
    "    \"FXStarterKit by Forexware: A Solution Built for Global Expansion\",\n",
    "    \"UF Agency: Pioneering Strategic Fintech Marketing for Optimal Reach\",\n",
    "    \"Oil set for weekly loss despite gain on OPEC+ output decision\"\n",
    "]\n",
    "\n",
    "unwanted_dates_substrings = [\n",
    "    ' - Feb 02, 2024',  ' - Feb 03, 2024',\n",
    "]\n",
    "\n",
    "unwanted_sources_substrings = [\n",
    "    'By Investing.com Studios',\n",
    "    'By Investing.com - Feb 02, 2024 103',\n",
    "    'By Investing.com - Feb 02, 2024 3',  'By Reuters - Feb 03, 2024 4',\n",
    "    'By Investing.com - Feb 02, 2024 16',\n",
    "    'By Investing.com - Feb 02, 2024 7',\n",
    "    'By Investing.com - Feb 02, 2024 4',\n",
    "    'By Investing.com - Feb 02, 2024 107',\n",
    "    'By Investing.com - Feb 02, 2024 5',\n",
    "    'By Investing.com - Feb 02, 2024 24', 'By Investing.com - Feb 02, 2024 114',\n",
    "    'By Investing.com - Feb 02, 2024 9',\n",
    "    'By Reuters - Feb 02, 2024 5', 'By Investing.com - Feb 02, 2024 115',\n",
    "    'By Investing.com - Feb 02, 2024 109',\n",
    "    'By Investing.com - Feb 02, 2024 6',\n",
    "    'By Reuters - Feb 02, 2024 4'\n",
    "]\n",
    "\n",
    "unwanted_urls_substrings = [\n",
    "    'https://www.investing.com/news/economic-indicators/us-economy-adds-353000-jobs-in-january-3291366',\n",
    "    'https://www.investing.com/news/stock-market-news/stocks-attracted-20-billion-in-inflows-in-a-week-to-january-31--bofa-3291388',\n",
    "    'https://www.investing.com/news/stock-market-news/stock-market-today-sp-500-clinches-record-high-as-metas-mega-rally-fuels-bulls-3290624',\n",
    "     'https://www.investing.com/jp.php?v2=N3czbTViN2xmMG9lM2kxMTdkZj0zMTUxMyRmNDQ-ZSxnIWFoZDxhJ2ZuYH4ybjNpZBdjPGFpNSMyZGc1ZyZnJDdwM201ZDdsZjNvajN2MXA3a2Y_Mzw1PjMkZiU0Pg==',\n",
    "    'https://www.investing.com/jp.php?v2=YyM_YW45Yjk3YWxmYTs1Nz5qNG8zNTQ2MyRgMjsxYiszdT43YzsxdzQ8PCJgPDJoYhE_YDU9MiQ2YG48NXRhImMkP2FuP2I5N2JsaWEkNXQ-YjRtMzw0PzMkYCM7MQ==',\n",
    "    'https://www.investing.com/news/stock-market-news/buy-any-undue-correction-in-quality-ai-leaders-says-ubs-3291589',\n",
    "    'https://www.investing.com/news/stock-market-news/apple-q1-results-top-estimates-but-iphone-sales-fall-just-shy-amid-china-weakness-3290542',\n",
    "    'https://www.investing.com/news/commodities-news/oil-prices-gain-after-opec-maintains-output-cuts-3290687', 'https://www.investing.com/news/world-news/us-starts-retaliatory-strikes-in-iraq-syria-officials-3291791',\n",
    "    'https://www.investing.com/analysis/2-reasons-why-february-may-be-a-difficult-month-on-wall-street-200645728',\n",
    "     'https://www.investing.com/news/economy/payrolls-megacap-tech-earnings-nvidia--whats-moving-markets-3290897',\n",
    "    'https://www.investing.com/jp.php?v2=NnZmODViYzhhNzowMmgxMTdkZT40OzQ3ZXJvPWRubiczdTU8MWllIzY-PiAwbGU_YBNlOj83NSM0YjdlMXBnJDZxZjg1ZGM4YTQ6PzJ3MXA3a2U8NDs0P2Vybyxkbg==',\n",
    "    'https://www.investing.com/jp.php?v2=OXlmOGYxM2gxZz40Zz1hYTVmYzhmZjcyMyRmNDI4NXxjJWFoZz80cmRsPCI1aTVvM0BiPTU9Z3FlMzdlZyZgIzl-ZjhmNzNoMWQ-O2ciYSA1aWM6Zmk3PDMkZiUyOA==',\n",
    "     'https://www.investing.com/jp.php?v2=ZSU3aWYxNW5kMmxmYDoyMDJmNG9jZDQ0YXZkNjE7byYwdmVsYTkzdWVtanRkODFrYhFhPmRsYHY1Y248ZyZlJmUiN2lmNzVuZDFsaWAlMnMybjRtY2w0P2F2ZCcxOw==',\n",
    "    'https://www.investing.com/news/stock-market-news/dow-futures-tick-higher-as-tech-titans-report-nonfarm-payrolls-loom-3290624'\n",
    "]"
   ]
  },
  {
   "cell_type": "code",
   "execution_count": null,
   "metadata": {},
   "outputs": [],
   "source": [
    "data['Headlines'] = [headline for headline in data['Headlines']\n",
    "                     if not any(unwanted_substring in headline for unwanted_substring in unwanted_headlines_substrings)]"
   ]
  },
  {
   "cell_type": "code",
   "execution_count": null,
   "metadata": {},
   "outputs": [],
   "source": [
    "len(data['Headlines'])"
   ]
  },
  {
   "cell_type": "code",
   "execution_count": null,
   "metadata": {},
   "outputs": [],
   "source": [
    "data['Dates'] = [date for date in data['Dates']\n",
    "                     if not any(unwanted_substring in date for unwanted_substring in unwanted_dates_substrings)]"
   ]
  },
  {
   "cell_type": "code",
   "execution_count": null,
   "metadata": {},
   "outputs": [],
   "source": [
    "len(data['Dates'])"
   ]
  },
  {
   "cell_type": "code",
   "execution_count": null,
   "metadata": {},
   "outputs": [],
   "source": [
    "data['Sources'] = [source for source in data['Sources']\n",
    "                     if not any(unwanted_substring in source for unwanted_substring in unwanted_sources_substrings)]"
   ]
  },
  {
   "cell_type": "code",
   "execution_count": null,
   "metadata": {},
   "outputs": [],
   "source": [
    "len(data['Sources'])"
   ]
  },
  {
   "cell_type": "code",
   "execution_count": null,
   "metadata": {},
   "outputs": [],
   "source": [
    "data['URLs'] = [url for url in data['URLs']\n",
    "                     if not any(unwanted_substring in url for unwanted_substring in unwanted_urls_substrings)]"
   ]
  },
  {
   "cell_type": "code",
   "execution_count": null,
   "metadata": {},
   "outputs": [],
   "source": [
    "# Filter out URLs that end with '#comments'\n",
    "data['URLs'] = [url for url in data['URLs'] if not url.endswith('#comments')]\n",
    "print(f\"Cleaned URLs count: {len(data['URLs'])}\")"
   ]
  },
  {
   "cell_type": "code",
   "execution_count": null,
   "metadata": {},
   "outputs": [],
   "source": [
    "# Define the prefix to filter out\n",
    "unwanted_prefix = 'https://www.investing.com/jp.php?'\n",
    "\n",
    "# Filter the list to exclude URLs starting with the unwanted prefix\n",
    "data['URLs'] = [url for url in data['URLs'] if not url.startswith(unwanted_prefix)]\n",
    "\n",
    "print(f\"Filtered URLs count: {len(data['URLs'])}\")"
   ]
  },
  {
   "cell_type": "code",
   "execution_count": null,
   "metadata": {},
   "outputs": [],
   "source": [
    "# Remove duplicates while preserving order\n",
    "unique_urls = []\n",
    "seen = set()\n",
    "for url in data['URLs']:\n",
    "    if url not in seen:\n",
    "        unique_urls.append(url)\n",
    "        seen.add(url)\n",
    "\n",
    "# Update the data['URLs'] with the list of unique URLs\n",
    "data['URLs'] = unique_urls\n",
    "print(f\"Unique URLs count: {len(data['URLs'])}\")"
   ]
  },
  {
   "cell_type": "code",
   "execution_count": null,
   "metadata": {},
   "outputs": [],
   "source": [
    "df = pd.DataFrame(data)"
   ]
  },
  {
   "cell_type": "code",
   "execution_count": null,
   "metadata": {},
   "outputs": [],
   "source": [
    "df.to_excel('scraped_data15.xlsx', index=False)"
   ]
  },
  {
   "cell_type": "markdown",
   "metadata": {},
   "source": [
    "##### R16"
   ]
  },
  {
   "cell_type": "code",
   "execution_count": null,
   "metadata": {},
   "outputs": [],
   "source": [
    "# Chrome options for headless mode \n",
    "options = Options()\n",
    "options.headless = True  \n",
    "browser = webdriver.Chrome(executable_path=r'C:\\Users\\hab021\\Documents\\Driver\\chromedriver121.exe', options=options)\n",
    "\n",
    "url1 = 'https://www.investing.com/news/politics/1500'\n",
    "browser.get(url1)\n",
    "\n",
    "# Data storage\n",
    "data = {\n",
    "    'Headlines': [],\n",
    "    'Dates': [],\n",
    "    'Sources': [],\n",
    "    'URLs': []\n",
    "}\n",
    "\n",
    "# Initialize wait\n",
    "wait = WebDriverWait(browser, 1)\n",
    "\n",
    "# Pages 1-1730\n",
    "no_of_pagedowns = 100\n",
    "\n",
    "while no_of_pagedowns:\n",
    "    try:\n",
    "        # Wait for elements to load and then find them\n",
    "        news_headlines = wait.until(EC.presence_of_all_elements_located((By.CLASS_NAME, \"title\")))     \n",
    "        news_dates = wait.until(EC.presence_of_all_elements_located((By.XPATH, \"//*[@class='date']\")))\n",
    "        news_sources = wait.until(EC.presence_of_all_elements_located((By.XPATH, \"//*[@class='articleDetails']\")))\n",
    "        news_urls = wait.until(EC.presence_of_all_elements_located((By.XPATH, \"//*[@id='leftColumn']//article//div/a\")))\n",
    "        \n",
    "        # Store the data in lists\n",
    "        for headline, date, source, headline in zip(news_headlines, news_dates, news_sources, news_headlines):\n",
    "            data['Headlines'].append(headline.text)\n",
    "            data['Dates'].append(date.text)\n",
    "            data['Sources'].append(source.text)\n",
    "            #data['URLs'].append(url.get_attribute('href'))\n",
    "            data['URLs'].append(headline.get_attribute('href'))\n",
    "\n",
    "        # Check for overlay and attempt to close it before clicking 'Next'\n",
    "        try:\n",
    "            overlay = browser.find_element(By.ID, \"transparentInner\")\n",
    "            if overlay:\n",
    "                # use JavaScript to ensure the 'Next' button is clicked\n",
    "                next_button = wait.until(EC.element_to_be_clickable((By.LINK_TEXT, 'Next')))\n",
    "                browser.execute_script(\"arguments[0].click();\", next_button)\n",
    "        except TimeoutException:\n",
    "            # If the overlay is not found, proceed with clicking the 'Next' button\n",
    "            next_button = wait.until(EC.element_to_be_clickable((By.LINK_TEXT, 'Next')))\n",
    "            next_button.click()\n",
    "\n",
    "    except Exception as e:\n",
    "        print(f\"An error occurred: {e}\")\n",
    "        break  # Break the loop in case of an error\n",
    "\n",
    "    no_of_pagedowns -= 1\n",
    "\n",
    "# Quit the browser session\n",
    "browser.quit()\n",
    "\n",
    "# Filter out empty strings or strings that only contain whitespace\n",
    "data['Headlines'] = [headline for headline in data['Headlines'] if headline.strip()]\n",
    "data['Dates'] = [date for date in data['Dates'] if date.strip()]\n",
    "data['Sources'] = [source for source in data['Sources'] if source.strip()]\n",
    "data['URLs'] = [url for url in data['URLs'] if url.strip()]"
   ]
  },
  {
   "cell_type": "code",
   "execution_count": null,
   "metadata": {},
   "outputs": [],
   "source": [
    "# Example substrings that we want to remove from the lists\n",
    "\n",
    "unwanted_headlines_substrings = [\n",
    "    \"2024 Financial Market Outlook by Octa\",\n",
    "    \"Stock Market Today: S&P 500 clinches record high as Meta's mega rally...\",\n",
    "    'Oil posts weekly losses as US data dents hopes for near-term rate cuts',\n",
    "    \"Payrolls, mega-cap tech earnings, Nvidia - what's moving markets\",\n",
    "    \"Stocks attracted $20 billion in inflows in a week to January 31 - BofA\",\n",
    "    \"Apple shares slip after iPhone sales miss estimates amid China...\",\n",
    "    'U.S. economy adds 353,000 jobs in January',\n",
    "     'US stocks rally on blowout jobs report, Meta-led gains in big tech',\n",
    "     'Buy any undue correction in quality AI leaders says UBS',\n",
    "     'Oil falls as US jobs data dents hope for near-term rate cuts',\n",
    "    \"Buy any undue correction in quality AI leaders says UBS\",\n",
    "    \"U.S. economy adds 353,000 jobs in January\",\n",
    "    \"Amazon top Q4 estimates as e-commerce shines, sending shares higher\",\n",
    "    \"'Patek Philippe of Internet': Analysts heap praise on Meta' Platforms...\",\n",
    "    \"Here Are the Winners of The UF AWARDS MEA 2024\", 'US starts retaliatory strikes in Iraq and Syria against Iran-linked...',\n",
    "    \"Oil falls as US jobs data dents hope for near-term rate cuts\",\n",
    "    \"FXStarterKit by Forexware: A Solution Built for Global Expansion\",\n",
    "    \"UF Agency: Pioneering Strategic Fintech Marketing for Optimal Reach\",\n",
    "    \"Oil set for weekly loss despite gain on OPEC+ output decision\"\n",
    "]\n",
    "\n",
    "unwanted_dates_substrings = [\n",
    "    ' - Feb 02, 2024',  ' - Feb 03, 2024',\n",
    "]\n",
    "\n",
    "unwanted_sources_substrings = [\n",
    "    'By Investing.com Studios',\n",
    "    'By Investing.com - Feb 02, 2024 103',\n",
    "    'By Investing.com - Feb 02, 2024 3',  'By Reuters - Feb 03, 2024 4',\n",
    "    'By Investing.com - Feb 02, 2024 16',\n",
    "    'By Investing.com - Feb 02, 2024 7',\n",
    "    'By Investing.com - Feb 02, 2024 4',\n",
    "    'By Investing.com - Feb 02, 2024 107',\n",
    "    'By Investing.com - Feb 02, 2024 5',\n",
    "    'By Investing.com - Feb 02, 2024 24', 'By Investing.com - Feb 02, 2024 114',\n",
    "    'By Investing.com - Feb 02, 2024 9',\n",
    "    'By Reuters - Feb 02, 2024 5', 'By Investing.com - Feb 02, 2024 115',\n",
    "    'By Investing.com - Feb 02, 2024 109',\n",
    "    'By Investing.com - Feb 02, 2024 6',\n",
    "    'By Reuters - Feb 02, 2024 4'\n",
    "]\n",
    "\n",
    "unwanted_urls_substrings = [\n",
    "    'https://www.investing.com/news/economic-indicators/us-economy-adds-353000-jobs-in-january-3291366',\n",
    "    'https://www.investing.com/news/stock-market-news/stocks-attracted-20-billion-in-inflows-in-a-week-to-january-31--bofa-3291388',\n",
    "    'https://www.investing.com/news/stock-market-news/stock-market-today-sp-500-clinches-record-high-as-metas-mega-rally-fuels-bulls-3290624',\n",
    "     'https://www.investing.com/jp.php?v2=N3czbTViN2xmMG9lM2kxMTdkZj0zMTUxMyRmNDQ-ZSxnIWFoZDxhJ2ZuYH4ybjNpZBdjPGFpNSMyZGc1ZyZnJDdwM201ZDdsZjNvajN2MXA3a2Y_Mzw1PjMkZiU0Pg==',\n",
    "    'https://www.investing.com/jp.php?v2=YyM_YW45Yjk3YWxmYTs1Nz5qNG8zNTQ2MyRgMjsxYiszdT43YzsxdzQ8PCJgPDJoYhE_YDU9MiQ2YG48NXRhImMkP2FuP2I5N2JsaWEkNXQ-YjRtMzw0PzMkYCM7MQ==',\n",
    "    'https://www.investing.com/news/stock-market-news/buy-any-undue-correction-in-quality-ai-leaders-says-ubs-3291589',\n",
    "    'https://www.investing.com/news/stock-market-news/apple-q1-results-top-estimates-but-iphone-sales-fall-just-shy-amid-china-weakness-3290542',\n",
    "    'https://www.investing.com/news/commodities-news/oil-prices-gain-after-opec-maintains-output-cuts-3290687', 'https://www.investing.com/news/world-news/us-starts-retaliatory-strikes-in-iraq-syria-officials-3291791',\n",
    "    'https://www.investing.com/analysis/2-reasons-why-february-may-be-a-difficult-month-on-wall-street-200645728',\n",
    "     'https://www.investing.com/news/economy/payrolls-megacap-tech-earnings-nvidia--whats-moving-markets-3290897',\n",
    "    'https://www.investing.com/jp.php?v2=NnZmODViYzhhNzowMmgxMTdkZT40OzQ3ZXJvPWRubiczdTU8MWllIzY-PiAwbGU_YBNlOj83NSM0YjdlMXBnJDZxZjg1ZGM4YTQ6PzJ3MXA3a2U8NDs0P2Vybyxkbg==',\n",
    "    'https://www.investing.com/jp.php?v2=OXlmOGYxM2gxZz40Zz1hYTVmYzhmZjcyMyRmNDI4NXxjJWFoZz80cmRsPCI1aTVvM0BiPTU9Z3FlMzdlZyZgIzl-ZjhmNzNoMWQ-O2ciYSA1aWM6Zmk3PDMkZiUyOA==',\n",
    "     'https://www.investing.com/jp.php?v2=ZSU3aWYxNW5kMmxmYDoyMDJmNG9jZDQ0YXZkNjE7byYwdmVsYTkzdWVtanRkODFrYhFhPmRsYHY1Y248ZyZlJmUiN2lmNzVuZDFsaWAlMnMybjRtY2w0P2F2ZCcxOw==',\n",
    "    'https://www.investing.com/news/stock-market-news/dow-futures-tick-higher-as-tech-titans-report-nonfarm-payrolls-loom-3290624'\n",
    "]"
   ]
  },
  {
   "cell_type": "code",
   "execution_count": null,
   "metadata": {},
   "outputs": [],
   "source": [
    "data['Headlines'] = [headline for headline in data['Headlines']\n",
    "                     if not any(unwanted_substring in headline for unwanted_substring in unwanted_headlines_substrings)]"
   ]
  },
  {
   "cell_type": "code",
   "execution_count": null,
   "metadata": {},
   "outputs": [],
   "source": [
    "len(data['Headlines'])"
   ]
  },
  {
   "cell_type": "code",
   "execution_count": null,
   "metadata": {},
   "outputs": [],
   "source": [
    "data['Dates'] = [date for date in data['Dates']\n",
    "                     if not any(unwanted_substring in date for unwanted_substring in unwanted_dates_substrings)]"
   ]
  },
  {
   "cell_type": "code",
   "execution_count": null,
   "metadata": {},
   "outputs": [],
   "source": [
    "len(data['Dates'])"
   ]
  },
  {
   "cell_type": "code",
   "execution_count": null,
   "metadata": {},
   "outputs": [],
   "source": [
    "data['Sources'] = [source for source in data['Sources']\n",
    "                     if not any(unwanted_substring in source for unwanted_substring in unwanted_sources_substrings)]"
   ]
  },
  {
   "cell_type": "code",
   "execution_count": null,
   "metadata": {},
   "outputs": [],
   "source": [
    "len(data['Sources'])"
   ]
  },
  {
   "cell_type": "code",
   "execution_count": null,
   "metadata": {},
   "outputs": [],
   "source": [
    "data['URLs'] = [url for url in data['URLs']\n",
    "                     if not any(unwanted_substring in url for unwanted_substring in unwanted_urls_substrings)]"
   ]
  },
  {
   "cell_type": "code",
   "execution_count": null,
   "metadata": {},
   "outputs": [],
   "source": [
    "# Filter out URLs that end with '#comments'\n",
    "data['URLs'] = [url for url in data['URLs'] if not url.endswith('#comments')]\n",
    "print(f\"Cleaned URLs count: {len(data['URLs'])}\")"
   ]
  },
  {
   "cell_type": "code",
   "execution_count": null,
   "metadata": {},
   "outputs": [],
   "source": [
    "# Define the prefix to filter out\n",
    "unwanted_prefix = 'https://www.investing.com/jp.php?'\n",
    "\n",
    "# Filter the list to exclude URLs starting with the unwanted prefix\n",
    "data['URLs'] = [url for url in data['URLs'] if not url.startswith(unwanted_prefix)]\n",
    "\n",
    "print(f\"Filtered URLs count: {len(data['URLs'])}\")"
   ]
  },
  {
   "cell_type": "code",
   "execution_count": null,
   "metadata": {},
   "outputs": [],
   "source": [
    "# Remove duplicates while preserving order\n",
    "unique_urls = []\n",
    "seen = set()\n",
    "for url in data['URLs']:\n",
    "    if url not in seen:\n",
    "        unique_urls.append(url)\n",
    "        seen.add(url)\n",
    "\n",
    "# Update the data['URLs'] with the list of unique URLs\n",
    "data['URLs'] = unique_urls\n",
    "print(f\"Unique URLs count: {len(data['URLs'])}\")"
   ]
  },
  {
   "cell_type": "code",
   "execution_count": null,
   "metadata": {},
   "outputs": [],
   "source": [
    "df = pd.DataFrame(data)"
   ]
  },
  {
   "cell_type": "code",
   "execution_count": null,
   "metadata": {},
   "outputs": [],
   "source": [
    "df.to_excel('scraped_data16.xlsx', index=False)"
   ]
  },
  {
   "cell_type": "markdown",
   "metadata": {},
   "source": [
    "##### R17"
   ]
  },
  {
   "cell_type": "code",
   "execution_count": null,
   "metadata": {},
   "outputs": [],
   "source": [
    "# Chrome options for headless mode \n",
    "options = Options()\n",
    "options.headless = True  \n",
    "browser = webdriver.Chrome(executable_path=r'C:\\Users\\hab021\\Documents\\Driver\\chromedriver121.exe', options=options)\n",
    "\n",
    "url1 = 'https://www.investing.com/news/politics/1600'\n",
    "browser.get(url1)\n",
    "\n",
    "# Data storage\n",
    "data = {\n",
    "    'Headlines': [],\n",
    "    'Dates': [],\n",
    "    'Sources': [],\n",
    "    'URLs': []\n",
    "}\n",
    "\n",
    "# Initialize wait\n",
    "wait = WebDriverWait(browser, 1)\n",
    "\n",
    "# Pages 1-1730\n",
    "no_of_pagedowns = 130\n",
    "\n",
    "while no_of_pagedowns:\n",
    "    try:\n",
    "        # Wait for elements to load and then find them\n",
    "        news_headlines = wait.until(EC.presence_of_all_elements_located((By.CLASS_NAME, \"title\")))     \n",
    "        news_dates = wait.until(EC.presence_of_all_elements_located((By.XPATH, \"//*[@class='date']\")))\n",
    "        news_sources = wait.until(EC.presence_of_all_elements_located((By.XPATH, \"//*[@class='articleDetails']\")))\n",
    "        news_urls = wait.until(EC.presence_of_all_elements_located((By.XPATH, \"//*[@id='leftColumn']//article//div/a\")))\n",
    "        \n",
    "        # Store the data in lists\n",
    "        for headline, date, source, headline in zip(news_headlines, news_dates, news_sources, news_headlines):\n",
    "            data['Headlines'].append(headline.text)\n",
    "            data['Dates'].append(date.text)\n",
    "            data['Sources'].append(source.text)\n",
    "            #data['URLs'].append(url.get_attribute('href'))\n",
    "            data['URLs'].append(headline.get_attribute('href'))\n",
    "\n",
    "        # Check for overlay and attempt to close it before clicking 'Next'\n",
    "        try:\n",
    "            overlay = browser.find_element(By.ID, \"transparentInner\")\n",
    "            if overlay:\n",
    "                # use JavaScript to ensure the 'Next' button is clicked\n",
    "                next_button = wait.until(EC.element_to_be_clickable((By.LINK_TEXT, 'Next')))\n",
    "                browser.execute_script(\"arguments[0].click();\", next_button)\n",
    "        except TimeoutException:\n",
    "            # If the overlay is not found, proceed with clicking the 'Next' button\n",
    "            next_button = wait.until(EC.element_to_be_clickable((By.LINK_TEXT, 'Next')))\n",
    "            next_button.click()\n",
    "\n",
    "    except Exception as e:\n",
    "        print(f\"An error occurred: {e}\")\n",
    "        break  # Break the loop in case of an error\n",
    "\n",
    "    no_of_pagedowns -= 1\n",
    "\n",
    "# Quit the browser session\n",
    "browser.quit()\n",
    "\n",
    "# Filter out empty strings or strings that only contain whitespace\n",
    "data['Headlines'] = [headline for headline in data['Headlines'] if headline.strip()]\n",
    "data['Dates'] = [date for date in data['Dates'] if date.strip()]\n",
    "data['Sources'] = [source for source in data['Sources'] if source.strip()]\n",
    "data['URLs'] = [url for url in data['URLs'] if url.strip()]"
   ]
  },
  {
   "cell_type": "code",
   "execution_count": null,
   "metadata": {},
   "outputs": [],
   "source": [
    "# Example substrings that we want to remove from the lists\n",
    "\n",
    "unwanted_headlines_substrings = [\n",
    "    \"2024 Financial Market Outlook by Octa\",\n",
    "    \"Stock Market Today: S&P 500 clinches record high as Meta's mega rally...\",\n",
    "    'Oil posts weekly losses as US data dents hopes for near-term rate cuts',\n",
    "    \"Payrolls, mega-cap tech earnings, Nvidia - what's moving markets\",\n",
    "    \"Stocks attracted $20 billion in inflows in a week to January 31 - BofA\",\n",
    "    \"Apple shares slip after iPhone sales miss estimates amid China...\",\n",
    "    'U.S. economy adds 353,000 jobs in January',\n",
    "     'US stocks rally on blowout jobs report, Meta-led gains in big tech',\n",
    "     'Buy any undue correction in quality AI leaders says UBS',\n",
    "     'Oil falls as US jobs data dents hope for near-term rate cuts',\n",
    "    \"Buy any undue correction in quality AI leaders says UBS\",\n",
    "    \"U.S. economy adds 353,000 jobs in January\",\n",
    "    \"Amazon top Q4 estimates as e-commerce shines, sending shares higher\",\n",
    "    \"'Patek Philippe of Internet': Analysts heap praise on Meta' Platforms...\",\n",
    "    \"Here Are the Winners of The UF AWARDS MEA 2024\", 'US starts retaliatory strikes in Iraq and Syria against Iran-linked...',\n",
    "    \"Oil falls as US jobs data dents hope for near-term rate cuts\",\n",
    "    \"FXStarterKit by Forexware: A Solution Built for Global Expansion\",\n",
    "    \"UF Agency: Pioneering Strategic Fintech Marketing for Optimal Reach\",\n",
    "    \"Oil set for weekly loss despite gain on OPEC+ output decision\"\n",
    "]\n",
    "\n",
    "unwanted_dates_substrings = [\n",
    "    ' - Feb 02, 2024',  ' - Feb 03, 2024',\n",
    "]\n",
    "\n",
    "unwanted_sources_substrings = [\n",
    "    'By Investing.com Studios',\n",
    "    'By Investing.com - Feb 02, 2024 103',\n",
    "    'By Investing.com - Feb 02, 2024 3',  'By Reuters - Feb 03, 2024 4',\n",
    "    'By Investing.com - Feb 02, 2024 16',\n",
    "    'By Investing.com - Feb 02, 2024 7',\n",
    "    'By Investing.com - Feb 02, 2024 4',\n",
    "    'By Investing.com - Feb 02, 2024 107',\n",
    "    'By Investing.com - Feb 02, 2024 5',\n",
    "    'By Investing.com - Feb 02, 2024 24', 'By Investing.com - Feb 02, 2024 114',\n",
    "    'By Investing.com - Feb 02, 2024 9',\n",
    "    'By Reuters - Feb 02, 2024 5', 'By Investing.com - Feb 02, 2024 115',\n",
    "    'By Investing.com - Feb 02, 2024 109',\n",
    "    'By Investing.com - Feb 02, 2024 6',\n",
    "    'By Reuters - Feb 02, 2024 4'\n",
    "]\n",
    "\n",
    "unwanted_urls_substrings = [\n",
    "    'https://www.investing.com/news/economic-indicators/us-economy-adds-353000-jobs-in-january-3291366',\n",
    "    'https://www.investing.com/news/stock-market-news/stocks-attracted-20-billion-in-inflows-in-a-week-to-january-31--bofa-3291388',\n",
    "    'https://www.investing.com/news/stock-market-news/stock-market-today-sp-500-clinches-record-high-as-metas-mega-rally-fuels-bulls-3290624',\n",
    "     'https://www.investing.com/jp.php?v2=N3czbTViN2xmMG9lM2kxMTdkZj0zMTUxMyRmNDQ-ZSxnIWFoZDxhJ2ZuYH4ybjNpZBdjPGFpNSMyZGc1ZyZnJDdwM201ZDdsZjNvajN2MXA3a2Y_Mzw1PjMkZiU0Pg==',\n",
    "    'https://www.investing.com/jp.php?v2=YyM_YW45Yjk3YWxmYTs1Nz5qNG8zNTQ2MyRgMjsxYiszdT43YzsxdzQ8PCJgPDJoYhE_YDU9MiQ2YG48NXRhImMkP2FuP2I5N2JsaWEkNXQ-YjRtMzw0PzMkYCM7MQ==',\n",
    "    'https://www.investing.com/news/stock-market-news/buy-any-undue-correction-in-quality-ai-leaders-says-ubs-3291589',\n",
    "    'https://www.investing.com/news/stock-market-news/apple-q1-results-top-estimates-but-iphone-sales-fall-just-shy-amid-china-weakness-3290542',\n",
    "    'https://www.investing.com/news/commodities-news/oil-prices-gain-after-opec-maintains-output-cuts-3290687', 'https://www.investing.com/news/world-news/us-starts-retaliatory-strikes-in-iraq-syria-officials-3291791',\n",
    "    'https://www.investing.com/analysis/2-reasons-why-february-may-be-a-difficult-month-on-wall-street-200645728',\n",
    "     'https://www.investing.com/news/economy/payrolls-megacap-tech-earnings-nvidia--whats-moving-markets-3290897',\n",
    "    'https://www.investing.com/jp.php?v2=NnZmODViYzhhNzowMmgxMTdkZT40OzQ3ZXJvPWRubiczdTU8MWllIzY-PiAwbGU_YBNlOj83NSM0YjdlMXBnJDZxZjg1ZGM4YTQ6PzJ3MXA3a2U8NDs0P2Vybyxkbg==',\n",
    "    'https://www.investing.com/jp.php?v2=OXlmOGYxM2gxZz40Zz1hYTVmYzhmZjcyMyRmNDI4NXxjJWFoZz80cmRsPCI1aTVvM0BiPTU9Z3FlMzdlZyZgIzl-ZjhmNzNoMWQ-O2ciYSA1aWM6Zmk3PDMkZiUyOA==',\n",
    "     'https://www.investing.com/jp.php?v2=ZSU3aWYxNW5kMmxmYDoyMDJmNG9jZDQ0YXZkNjE7byYwdmVsYTkzdWVtanRkODFrYhFhPmRsYHY1Y248ZyZlJmUiN2lmNzVuZDFsaWAlMnMybjRtY2w0P2F2ZCcxOw==',\n",
    "    'https://www.investing.com/news/stock-market-news/dow-futures-tick-higher-as-tech-titans-report-nonfarm-payrolls-loom-3290624'\n",
    "]"
   ]
  },
  {
   "cell_type": "code",
   "execution_count": null,
   "metadata": {},
   "outputs": [],
   "source": [
    "data['Headlines'] = [headline for headline in data['Headlines']\n",
    "                     if not any(unwanted_substring in headline for unwanted_substring in unwanted_headlines_substrings)]"
   ]
  },
  {
   "cell_type": "code",
   "execution_count": null,
   "metadata": {},
   "outputs": [],
   "source": [
    "len(data['Headlines'])"
   ]
  },
  {
   "cell_type": "code",
   "execution_count": null,
   "metadata": {},
   "outputs": [],
   "source": [
    "data['Dates'] = [date for date in data['Dates']\n",
    "                     if not any(unwanted_substring in date for unwanted_substring in unwanted_dates_substrings)]"
   ]
  },
  {
   "cell_type": "code",
   "execution_count": null,
   "metadata": {},
   "outputs": [],
   "source": [
    "len(data['Dates'])"
   ]
  },
  {
   "cell_type": "code",
   "execution_count": null,
   "metadata": {},
   "outputs": [],
   "source": [
    "data['Sources'] = [source for source in data['Sources']\n",
    "                     if not any(unwanted_substring in source for unwanted_substring in unwanted_sources_substrings)]"
   ]
  },
  {
   "cell_type": "code",
   "execution_count": null,
   "metadata": {},
   "outputs": [],
   "source": [
    "len(data['Sources'])"
   ]
  },
  {
   "cell_type": "code",
   "execution_count": null,
   "metadata": {},
   "outputs": [],
   "source": [
    "data['URLs'] = [url for url in data['URLs']\n",
    "                     if not any(unwanted_substring in url for unwanted_substring in unwanted_urls_substrings)]"
   ]
  },
  {
   "cell_type": "code",
   "execution_count": null,
   "metadata": {},
   "outputs": [],
   "source": [
    "# Filter out URLs that end with '#comments'\n",
    "data['URLs'] = [url for url in data['URLs'] if not url.endswith('#comments')]\n",
    "print(f\"Cleaned URLs count: {len(data['URLs'])}\")"
   ]
  },
  {
   "cell_type": "code",
   "execution_count": null,
   "metadata": {},
   "outputs": [],
   "source": [
    "# Define the prefix to filter out\n",
    "unwanted_prefix = 'https://www.investing.com/jp.php?'\n",
    "\n",
    "# Filter the list to exclude URLs starting with the unwanted prefix\n",
    "data['URLs'] = [url for url in data['URLs'] if not url.startswith(unwanted_prefix)]\n",
    "\n",
    "print(f\"Filtered URLs count: {len(data['URLs'])}\")"
   ]
  },
  {
   "cell_type": "code",
   "execution_count": null,
   "metadata": {},
   "outputs": [],
   "source": [
    "# Remove duplicates while preserving order\n",
    "unique_urls = []\n",
    "seen = set()\n",
    "for url in data['URLs']:\n",
    "    if url not in seen:\n",
    "        unique_urls.append(url)\n",
    "        seen.add(url)\n",
    "\n",
    "# Update the data['URLs'] with the list of unique URLs\n",
    "data['URLs'] = unique_urls\n",
    "print(f\"Unique URLs count: {len(data['URLs'])}\")"
   ]
  },
  {
   "cell_type": "code",
   "execution_count": null,
   "metadata": {},
   "outputs": [],
   "source": [
    "df = pd.DataFrame(data)"
   ]
  },
  {
   "cell_type": "code",
   "execution_count": null,
   "metadata": {},
   "outputs": [],
   "source": [
    "df.to_excel('scraped_data17.xlsx', index=False)"
   ]
  }
 ],
 "metadata": {
  "kernelspec": {
   "display_name": "Python 3",
   "language": "python",
   "name": "python3"
  },
  "language_info": {
   "codemirror_mode": {
    "name": "ipython",
    "version": 3
   },
   "file_extension": ".py",
   "mimetype": "text/x-python",
   "name": "python",
   "nbconvert_exporter": "python",
   "pygments_lexer": "ipython3",
   "version": "3.8.5"
  }
 },
 "nbformat": 4,
 "nbformat_minor": 4
}
